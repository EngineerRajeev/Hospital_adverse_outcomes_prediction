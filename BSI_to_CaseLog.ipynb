{
 "cells": [
  {
   "cell_type": "markdown",
   "id": "6a7b7a87-235b-4231-9bf1-4657459ff1ac",
   "metadata": {},
   "source": [
    "Importing Libraries"
   ]
  },
  {
   "cell_type": "code",
   "execution_count": 1,
   "id": "937881f4-2400-4b59-8996-579dc34b1548",
   "metadata": {},
   "outputs": [],
   "source": [
    "import numpy as np\n",
    "import pandas as pd\n",
    "import datetime\n",
    "from collections import OrderedDict\n",
    "from collections import Counter"
   ]
  },
  {
   "cell_type": "markdown",
   "id": "39442f4b-45e5-4d50-b3a2-3991336fb402",
   "metadata": {},
   "source": [
    "Loading data tables"
   ]
  },
  {
   "cell_type": "code",
   "execution_count": 2,
   "id": "2d63974f-b0ff-4b5e-88bb-82b33925e1f0",
   "metadata": {},
   "outputs": [],
   "source": [
    "nimes = pd.read_csv ('nimes_dec_21.csv', low_memory=False)"
   ]
  },
  {
   "cell_type": "code",
   "execution_count": 3,
   "id": "b72911bf-4987-4793-983d-688c65849127",
   "metadata": {},
   "outputs": [],
   "source": [
    "pasient = pd.read_csv('pasient_dec_23.csv')\n",
    "nsml = pd.read_csv('nsml_dec_21.csv')\n",
    "trfl = pd.read_csv('trfl_dec_21.csv')\n",
    "anino = pd.read_csv('anino_dec_21.csv')"
   ]
  },
  {
   "cell_type": "markdown",
   "id": "e2f56c05-f452-41e9-8347-593adbf3e90c",
   "metadata": {},
   "source": [
    "List of disease codes and contaminants"
   ]
  },
  {
   "cell_type": "code",
   "execution_count": 4,
   "id": "316513f6-dffd-45da-8d92-00dae47747f9",
   "metadata": {},
   "outputs": [],
   "source": [
    "explicitsepsis = ['A021','A207','A217','A227','A241','A267','A282','A327','A394','A40','A41','A427','B007','B377']\n",
    "\n",
    "infection =['A00','A01','A02','A03','A04','A05','A06','A07','A08','A09','A19', 'A20','A21','A22','A23','A24','A25','A26','A27','A28','A30','A31','A32','A36','A37','A38','A39','A42', 'A43', 'A44', 'A46','A48','A49','A54','A59','A690','A691','A699','A70','A74',\n",
    "            'A75','A77','A78','A79','A80','A81','A83','A84','A85','A86','A87', 'A88','A89','A90','A91','A92','A93','A94','A95','A96','A97','A98', 'A99','B00','B01','B02','B03','B04','B05','B06','B08','B09','B10','B25','B26','B27',\n",
    "            'B33','B34','B37','B38','B39','B40','B41','B42','B43','B44','B45','B46','B48','B49','B50','B54','B55','B57','B58','B59','B60','B64','B67','B95','B96','B97','B99','G00','G01','G02','G03','G04','G05','G06','G07','G08','H050',\n",
    "            'H602','H700','I00','I33','I38','I39','I400','J01','J02','J03','J04','J05','J06','J09','J10','J11','J12','J13','J14','J15','J16','J17','J18','J19','J20','J21','J22','J36','J390','J391','J85','J86','K35','K36','K37','K61','K630',\n",
    "            'K631','K65','K750''K810', 'K830','L02','L03','L030','L04','L08','M00','M01','M86','N10','N151','N30','N390','N410','N412','N413','N45','N70','N71','N72','N73','N74', 'N980','O030','O035','O045','O080','O23','O753', 'O85',\n",
    "            'O86','O883','O91','O98','R02','T802','T814','T826''T827','T835','T836','T845','T846','T847','T857','T880', 'U04', 'M726', 'N49', 'U071', 'U072']\n",
    "\n",
    "organdysfunction = ['D695','E872','G934','I46','I959','J80','J952','J96','K720','K729','N00','N17','R090','R092','R400','R401','R402','R41', 'R55', 'R57', 'R651', 'R572']\n",
    "                  \n",
    "diabetes = ['E10', 'E11', 'E12', 'E13', 'E14']\n",
    "\n",
    "cardiaovascular = ['G45', 'H34', 'I00', 'I01', 'I02', 'I03', 'I04', 'I05', 'I06', 'I07', 'I08', 'I09', 'I10', 'I11', 'I12', 'I13', 'I14', 'I15', 'I16', 'I17', 'I18', 'I19', 'I20', 'I21', 'I22', 'I23', 'I24', 'I25', 'I26', 'I27', 'I28', 'I29', 'I30',\n",
    "                  'I31', 'I32', 'I33', 'I34', 'I35', 'I36', 'I37', 'I38', 'I39', 'I40', 'I41', 'I42', 'I43', 'I44', 'I45', 'I46', 'I47', 'I48', 'I49', 'I50', 'I51', 'I52', 'I53', 'I54', 'I55', 'I56', 'I57', 'I58', 'I59', 'I60',\n",
    "                  'I61', 'I62', 'I63', 'I64', 'I65', 'I66', 'I67', 'I68', 'I69', 'I70', 'I71', 'I72', 'I73', 'I74', 'I75', 'I76', 'I77', 'I78', 'I79', 'I80', 'I81', '182', 'I83', 'I84', 'I85', 'I86', 'I87', 'I88', 'I89', 'I90', 'I91', 'I92', 'I93', \n",
    "                   'I94', 'I95', 'I96', 'I97', 'I98', 'I99']\n",
    "\n",
    "cancer = ['C00', 'C01', 'C02', 'C03', 'C04', 'C05', 'C06', 'C07', 'C08', 'C09', 'C10', 'C11', 'C12', 'C13', 'C14', 'C15', 'C16', 'C17', 'C18', 'C19','C20', 'C21', 'C22', 'C23', 'C24', 'C25', 'C26', 'C27', 'C28', 'C29',\n",
    "         'C30', 'C31', 'C32', 'C33', 'C34', 'C35', 'C36', 'C37', 'C38', 'C39', 'C40', 'C41', 'C42', 'C43', 'C44', 'C45', 'C46', 'C47', 'C48', 'C49','C50', 'C51', 'C52', 'C53', 'C54', 'C55', 'C56', 'C57', 'C58', 'C59',\n",
    "          'C60', 'C61', 'C62', 'C63', 'C64', 'C65', 'C66', 'C67', 'C68', 'C69', 'C70', 'C71', 'C72', 'C73', 'C74', 'C75', 'C76', 'C77', 'C78', 'C79','C80', 'C81', 'C82', 'C83', 'C84', 'C85', 'C86', 'C87', 'C88', 'C89',\n",
    "         'C90', 'C91', 'C92', 'C93', 'C94', 'C95', 'C96', 'C97', 'D32', 'D33', 'D35', 'D42', 'D43', 'D44', 'D45', 'D46', 'D47' ]\n",
    "\n",
    "lung = ['J41', 'J42', 'J43', 'J44', 'J45', 'J46', 'J47', 'J84', 'J98']\n",
    "\n",
    "demetia = ['F00', 'F02', 'F03', 'G30', 'G31']\n",
    "\n",
    "kidney_dialysis = ['N18']\n",
    "\n",
    "liver = ['K70', 'K72']\n",
    "\n",
    "immune_system = ['D80', 'D81', 'D82', 'D83', 'D84', 'Z94']"
   ]
  },
  {
   "cell_type": "code",
   "execution_count": 5,
   "id": "1c673c2c-95aa-4917-9961-f3058158bce1",
   "metadata": {},
   "outputs": [],
   "source": [
    "Contaminants = ['BACILLUS CEREUS', 'STREPTOCOCCUS EQUI SSP EQUI', 'BACILLUS CIRCULANS', 'STREPTOCOCCUS EQUI SSP ZOOEPIDEMICUS', 'BACILLUS FIRMUS',\n",
    "                'STREPTOCOCCUS GORDONII', 'BACILLUS LICHENIFORMIS', 'STREPTOCOCCUS INTERMEDIUS', 'BACILLUS MEGATERIUM\t•\tSTREPTOCOCCUS MITIS', 'BACILLUS PUMILUS', \n",
    "                 'STREPTOCOCCUS MITIS', 'STREPTOCOCCUS ORALIS', 'BACILLUS SPECIES', 'STREPTOCOCCUS MUTANS', 'BACILLUS SPHAERICUS', 'STREPTOCOCCUS PYOGENES', \n",
    "                 'BACILLUS SUBTILIS', 'STREPTOCOCCUS SALIVARIUS', 'COAGULASE NEGATIVE STAPHYLOCOCCUS', 'STREPTOCOCCUS SANGUINIS', 'CORYNEBACTERIUM JEIKEIUM',\n",
    "                 'STREPTOCOCCUS VESTIBULARIS', 'CORYNEBACTERIUM SPECIES', 'STREPTOCOCCUS VIRIDANS GROUP', 'CORYNEBACTERIUM XEROSIS', 'MICROCOCCUS LUTEUS', \n",
    "                 'MICROCOCCUS LYLAE', 'MICROCOCCUS LUTEUS', 'STAPHYLOCOCCUS ARLETTAE','MICROCOCCUS SPECIES', 'STAPHYLOCOCCUS CAPRAE', 'STAPHYLOCOCCUS SPP',\n",
    "                 'STAPHYLOCOCCUS CARNOSUS SSP CARNOSUS', 'STAPHYLOCOCCUS AUREUS', 'STAPHYLOCOCCUS GALLINARUM', 'STAPHYLOCOCCUS AURICULARIS', \n",
    "                'STAPHYLOCOCCUS HOMINIS SSP HOMINIS','STAPHYLOCOCCUS CAPITIS', 'STREPTOCOCCUS ALACTOLYTICUS', 'STAPHYLOCOCCUS COHNII SSP COHNII', 'STREPTOCOCCUS CRISTATUS',\n",
    "                'STAPHYLOCOCCUS COHNII SSP UREALYTICUS',\n",
    "                 'STREPTOCOCCUS CONSTELLATUS SSP CONSTELLATUS','STAPHYLOCOCCUS EPIDERMIDIS', 'STREPTOCOCCUS CONSTELLATUS SSP PHARYNGIS', 'STAPHYLOCOCCUS HAEMOLYTICUS', \n",
    "                'STREPTOCOCCUS HYOINTESTINALIS', 'STAPHYLOCOCCUS HOMINIS', 'STREPTOCOCCUS MITIS/STREPTOCOCCUS ORALIS', \n",
    "                 'STAPHYLOCOCCUS INTERMEDIUS', 'STREPTOCOCCUS  PARASANGUINIS', 'STAPHYLOCOCCUS KLOOSII', 'STREPTOCOCCUS PLURANIMALIUM', 'STAPHYLOCOCCUS LENTUS', \n",
    "                'STREPTOCOCCUS SOBRINUS', 'STAPHYLOCOCCUS LUGDUNENSIS','STREPTOCOCCUS THERMOPHILUS', 'STAPHYLOCOCCUS SACCHAROLYTICUS', 'STREPTOCOCCUS THORALTENSIS', \n",
    "                'STAPHYLOCOCCUS SAPROPHYTICUS', 'STREPTOCOCCUS SPP', 'STAPHYLOCOCCUS SCHLEIFERI', 'DIPHTHEROIDS SPP', 'STAPHYLOCOCCUS SCIURI',\n",
    "                 'CORYNEBACTERIUM STRIATUM', 'STAPHYLOCOCCUS SIMULANS', 'NON HAEMOLYTIC STREPTOCOCCIS', 'STAPHYLOCOCCUS SPECIES', 'BABESIA SPP', 'STAPHYLOCOCCUS WARNERI', \n",
    "                'CORYNEBACTERIUM MINUTISSMUM', 'STAPHYLOCOCCUS XYLOSUS','CORYNEBACTERIUM AMYCOLATUM', 'STREPTOCOCCUS AGALACTIAE', 'MICROMONAS MICROS',\n",
    "                'STREPTOCOCCUS ANGINOSUS',\n",
    "                'STAPHYLOCOCCUS PASTEURI', 'STREPTOCOCCUS CONSTELLATUS']\n"
   ]
  },
  {
   "cell_type": "markdown",
   "id": "ad67fbeb-b0f4-4345-b013-1377df1e88f9",
   "metadata": {},
   "source": [
    "Preprocessing Nimes"
   ]
  },
  {
   "cell_type": "code",
   "execution_count": 6,
   "id": "63f4222e-5014-410a-97e0-385138f17d6d",
   "metadata": {},
   "outputs": [],
   "source": [
    "nimess = nimes[['ppid', 'episodeid', 'inndatotid', 'utdatotid', 'hastegradkode', 'omsorgsnivåkode' , 'pdxkoder', 'sdxkoder', 'ncspkoder', 'ncmpkoder']].copy()\n",
    "nimess['episodeid'].replace('', np.nan, inplace=True)\n",
    "nimess = nimess[nimess['episodeid'].notna()]\n",
    "nimess = nimess.groupby([\"ppid\", \"inndatotid\", \"utdatotid\"]).last().reset_index()\n",
    "nimess = nimess.sort_values(by=['ppid', 'inndatotid', 'utdatotid'])\n",
    "nimess = nimess.reset_index()\n",
    "\n",
    "#nimess = nimess.drop('index', axis=1)\n",
    "nimess = nimess.replace(';',' ', regex=True)\n",
    "nimess = nimess.replace(',',' ', regex=True)\n",
    "nimess = nimess.replace('NaT','', regex=True)\n",
    "nimess = nimess.fillna('')\n",
    "\n",
    "nimess['pdxkoder'] = (nimess['pdxkoder'].str.split().apply(lambda x: OrderedDict.fromkeys(x).keys()).str.join(' '))\n",
    "nimess['sdxkoder'] = (nimess['sdxkoder'].str.split().apply(lambda x: OrderedDict.fromkeys(x).keys()).str.join(' '))\n",
    "nimess['ncspkoder'] = (nimess['ncspkoder'].str.split().apply(lambda x: OrderedDict.fromkeys(x).keys()).str.join(' '))\n",
    "nimess['ncmpkoder'] = (nimess['ncmpkoder'].str.split().apply(lambda x: OrderedDict.fromkeys(x).keys()).str.join(' '))\n",
    "\n",
    "nimess.iloc[:, 2:4] = nimess.iloc[:, 2:4].apply(pd.to_datetime, errors='coerce')\n",
    "nimess['LOS'] = (nimess['utdatotid'] - nimess['inndatotid']).astype('timedelta64[h]')\n",
    "nimess = nimess.drop_duplicates(subset=['ppid', 'inndatotid', 'utdatotid'], keep='last')\n",
    "\n",
    "nimess[\"ICD\"] = nimess[\"pdxkoder\"] + ' ' + nimess[\"sdxkoder\"]\n",
    "nimess['ICD'] = (nimess['ICD'].str.split().apply(lambda x: OrderedDict.fromkeys(x).keys()).str.join(' '))\n",
    "\n",
    "nimess[\"Procedure\"] = nimess[\"ncspkoder\"] + ' ' + nimess[\"ncmpkoder\"]\n",
    "nimess['Procedure'] = (nimess['Procedure'].str.split().apply(lambda x: OrderedDict.fromkeys(x).keys()).str.join(' '))\n",
    "\n",
    "nimess = nimess.rename(columns={\"index\": \"epid\", \"hastegradkode\": \"severity\", \"omsorgsnivåkode\": \"visit_type\"})\n",
    "\n",
    "nimess = nimess.drop(columns=['pdxkoder', 'sdxkoder', 'ncspkoder', 'ncmpkoder'])"
   ]
  },
  {
   "cell_type": "markdown",
   "id": "24326b99-3c4d-4fd2-a7d4-d02f779ce199",
   "metadata": {},
   "source": [
    "Preprocessing Anino"
   ]
  },
  {
   "cell_type": "code",
   "execution_count": 7,
   "id": "bd69239e-b441-4dee-8320-6c0ea738dcd1",
   "metadata": {},
   "outputs": [],
   "source": [
    "anino2 = pd.read_csv('anino5.csv')\n",
    "anino2 = anino2.drop(['Unnamed: 0'], axis=1)"
   ]
  },
  {
   "cell_type": "code",
   "execution_count": 8,
   "id": "10ecedc5-cd64-494c-ad89-0ee555d76b29",
   "metadata": {},
   "outputs": [
    {
     "data": {
      "text/plain": [
       "Index(['ppid', 'aninoppholdstart', 'aninoppholdslutt', 'sesjonstart',\n",
       "       'sesjonslutt', 'behandlingsstedstart', 'behandlingsstedslutt',\n",
       "       'behandlingsstedkode', 'avdelingkode', 'sesjontypekode',\n",
       "       'stagelineageid', 'episodeid', 'ICU_LOS', 'ICU_visit_count'],\n",
       "      dtype='object')"
      ]
     },
     "execution_count": 8,
     "metadata": {},
     "output_type": "execute_result"
    }
   ],
   "source": [
    "anino2.columns"
   ]
  },
  {
   "cell_type": "code",
   "execution_count": 9,
   "id": "931c7fb6-b199-4219-b8de-9c73b5024db3",
   "metadata": {
    "tags": []
   },
   "outputs": [],
   "source": [
    "anino2 = anino2[['ppid', 'aninoppholdstart', 'aninoppholdslutt','episodeid', 'ICU_LOS', 'ICU_visit_count']].copy()\n",
    "anino2 = anino2.rename(columns={\"ICU_visit_count\": \"ICU_session_count\"})\n",
    "anino2.iloc[:, 1:3] = anino2.iloc[:, 1:3].apply(pd.to_datetime, errors='coerce')\n",
    "anino2['ICU_LOS'] = (anino2['aninoppholdslutt'] - anino2['aninoppholdstart']).astype('timedelta64[h]')\n",
    "anino2['ICU_admission_count'] = anino2.groupby('ppid')['ppid'].transform('count')\n",
    "anino2 = anino2.sort_values(by=['ppid', 'aninoppholdstart', 'aninoppholdslutt'])\n",
    "anino2 = anino2.drop_duplicates(subset=['ppid', 'aninoppholdstart', 'aninoppholdslutt'], keep='last')\n",
    "anino2 = anino2.reset_index()\n",
    "anino2 = anino2.rename(columns={\"index\": \"icuid\"})"
   ]
  },
  {
   "cell_type": "code",
   "execution_count": 14,
   "id": "75585ff5-2223-4365-a499-85cd494debe6",
   "metadata": {},
   "outputs": [],
   "source": [
    "#nimess = nimess[nimess['ppid'].map(nimess['ppid'].value_counts()) > 2]"
   ]
  },
  {
   "cell_type": "code",
   "execution_count": 10,
   "id": "59d5f636-e523-4d46-b3d2-46633bd93bbf",
   "metadata": {
    "tags": []
   },
   "outputs": [],
   "source": [
    "nimess['time_to_last'] = nimess['inndatotid'].diff().astype('timedelta64[h]').fillna(0)\n",
    "nimess.loc[nimess['time_to_last'].astype(int) < -720, 'time_to_last'] = 0"
   ]
  },
  {
   "cell_type": "code",
   "execution_count": 7,
   "id": "031256d1-c468-4138-94d5-3bb97725c5a4",
   "metadata": {
    "jupyter": {
     "source_hidden": true
    },
    "tags": []
   },
   "outputs": [],
   "source": [
    "nimess['diff'] = nimess['inndatotid'].diff().astype('timedelta64[h]').fillna(10000)\n",
    "nimess.loc[nimess['diff'].astype(int) < -720, 'diff'] = 10000\n",
    "\n",
    "nimess['diff2'] = nimess['diff']\n",
    "nimess.loc[nimess['diff2']<720, ['diff2']] = 0\n",
    "nimess.loc[nimess['diff2']>=720, ['diff2']] = 1\n",
    "\n",
    "nimess['diff2'] = nimess['diff2'].cumsum()"
   ]
  },
  {
   "cell_type": "markdown",
   "id": "afd1b8e8-0371-420e-8a7b-dd1ebcfa2b0e",
   "metadata": {},
   "source": [
    "Labelling Episodes"
   ]
  },
  {
   "cell_type": "code",
   "execution_count": 11,
   "id": "1babdecc-3a50-4f8b-ba59-685f97135d4c",
   "metadata": {},
   "outputs": [],
   "source": [
    "mask = nimess.ICD.apply(lambda x: any(item for item in explicitsepsis if item in x))\n",
    "exsep = nimess[mask]\n",
    "Exsepsispatients = exsep.ppid.unique().tolist()\n",
    "\n",
    "mask_infection = nimess.ICD.apply(lambda x: any(item for item in infection if item in x))\n",
    "Infection = nimess[mask_infection]\n",
    "InfectionPatients = Infection.ppid.unique().tolist()\n",
    "\n",
    "mask_implicit = Infection.ICD.apply(lambda x: any(item for item in organdysfunction if item in x))\n",
    "ImplicitSepsis = Infection[mask_implicit]\n",
    "ImplicitSepsisPatients = ImplicitSepsis.ppid.unique().tolist()\n",
    "\n",
    "mask_diabetes = nimess.ICD.apply(lambda x: any(item for item in diabetes if item in x))\n",
    "Diabetes = nimess[mask_diabetes]\n",
    "mask_cardiaovascular = nimess.ICD.apply(lambda x: any(item for item in cardiaovascular if item in x))\n",
    "Cardiaovascular = nimess[mask_cardiaovascular]\n",
    "mask_cancer = nimess.ICD.apply(lambda x: any(item for item in cancer if item in x))\n",
    "Cancer = nimess[mask_cancer]\n",
    "mask_lung = nimess.ICD.apply(lambda x: any(item for item in lung if item in x))\n",
    "Lung = nimess[mask_lung]\n",
    "mask_demetia = nimess.ICD.apply(lambda x: any(item for item in demetia if item in x))\n",
    "Demetia = nimess[mask_demetia]\n",
    "mask_kidney_dialysis = nimess.ICD.apply(lambda x: any(item for item in kidney_dialysis if item in x))\n",
    "Kidney_dialysis = nimess[mask_kidney_dialysis]\n",
    "mask_liver = nimess.ICD.apply(lambda x: any(item for item in liver if item in x))\n",
    "Liver = nimess[mask_liver]\n",
    "mask_immune_system = nimess.ICD.apply(lambda x: any(item for item in immune_system if item in x))\n",
    "Immune_system = nimess[mask_immune_system]"
   ]
  },
  {
   "cell_type": "code",
   "execution_count": 12,
   "id": "1c87f826-275e-4119-b5ac-9f244c17a65b",
   "metadata": {},
   "outputs": [],
   "source": [
    "exsepepisodes = exsep.index.tolist()\n",
    "Infectionepisodes = Infection.index.tolist()\n",
    "ImplicitSepsisepisodes = ImplicitSepsis.index.tolist()\n",
    "\n",
    "Diabetesepisodes = Diabetes.index.tolist()\n",
    "Cardiaovascularepisodes = Cardiaovascular.index.tolist()\n",
    "Cancerepisodes = Cancer.index.tolist()\n",
    "\n",
    "Lungepisodes = Lung.index.tolist()\n",
    "Demetiaepisodes = Demetia.index.tolist()\n",
    "Kidney_dialysisepisodes = Kidney_dialysis.index.tolist()\n",
    "Liverepisodes = Liver.index.tolist()\n",
    "Immune_systemepisodes = Immune_system.index.tolist()\n",
    "\n",
    "\n",
    "nimess['explicit_flag'] = nimess.index.isin(exsepepisodes)\n",
    "nimess['infection_flag'] = nimess.index.isin(Infectionepisodes)\n",
    "nimess['implicit_flag'] = nimess.index.isin(ImplicitSepsisepisodes)\n",
    "\n",
    "nimess['Diabetes_flag'] = nimess.index.isin(Diabetesepisodes)\n",
    "nimess['Cardiaovascular_flag'] = nimess.index.isin(Cardiaovascularepisodes)\n",
    "nimess['Cancer_flag'] = nimess.index.isin(Cancerepisodes)\n",
    "\n",
    "nimess['Lung_flag'] = nimess.index.isin(Lungepisodes)\n",
    "nimess['Demetia_flag'] = nimess.index.isin(Demetiaepisodes)\n",
    "nimess['Kidney_dialysis_flag'] = nimess.index.isin(Kidney_dialysisepisodes)\n",
    "nimess['Liver_flag'] = nimess.index.isin(Liverepisodes)\n",
    "nimess['Immune_system_flag'] = nimess.index.isin(Immune_systemepisodes)\n"
   ]
  },
  {
   "cell_type": "code",
   "execution_count": 13,
   "id": "806ce11d-0b7b-4495-aa03-141cbd6031c8",
   "metadata": {},
   "outputs": [],
   "source": [
    "def Sconditions(s):\n",
    "    if (s['explicit_flag'] == True):\n",
    "        return 'Explicit Sepsis'\n",
    "    elif (s['implicit_flag'] == True):\n",
    "        return 'Implicit sepsis'\n",
    "    elif (s['infection_flag'] == True):\n",
    "        return 'Infection'\n",
    "    elif (s['Diabetes_flag'] == True):\n",
    "        return 'Diabetes'\n",
    "    elif (s['Cardiaovascular_flag'] == True):\n",
    "        return 'Cardiaovascular'\n",
    "    elif (s['Cancer_flag'] == True):\n",
    "        return 'Cancer'\n",
    "    elif (s['Lung_flag'] == True):\n",
    "        return 'Lung'\n",
    "    elif (s['Demetia_flag'] == True):\n",
    "        return 'Demetia'\n",
    "    elif (s['Kidney_dialysis_flag'] == True):\n",
    "        return 'Kidney_dialysis'\n",
    "    elif (s['Liver_flag'] == True):\n",
    "        return 'Liver'\n",
    "    elif (s['Immune_system_flag'] == True):\n",
    "        return 'Immune_system'\n",
    "    else:\n",
    "        return 'Other'\n",
    "\n",
    "nimess['label'] = nimess.apply(Sconditions, axis=1)"
   ]
  },
  {
   "cell_type": "markdown",
   "id": "24d32cd8-a3d5-4b37-9aef-13b7b330ff09",
   "metadata": {},
   "source": [
    "Adding Age to Pasient table"
   ]
  },
  {
   "cell_type": "code",
   "execution_count": 12,
   "id": "e63329cc-a68d-434a-bc9a-a20bc0eb2fee",
   "metadata": {
    "jupyter": {
     "source_hidden": true
    },
    "tags": []
   },
   "outputs": [],
   "source": [
    "pasient['age'] = pasient['dødsdato']\n",
    "pasient['age'] = pasient['age'].replace(np.nan, str([datetime.date.today()][0]))\n",
    "pasient['age'] = pd.DatetimeIndex(pasient['age']).year\n",
    "pasient['age'] = pasient['age'] - pasient['fødtår']\n",
    "pasient['live'] = pasient[['dødsdato']].where(pasient[['dødsdato']].isnull(), 0).fillna(1).astype(int)"
   ]
  },
  {
   "cell_type": "markdown",
   "id": "42f9ff1b-f668-4904-9bf7-45f8dd03fe01",
   "metadata": {},
   "source": [
    "Case log creation "
   ]
  },
  {
   "cell_type": "code",
   "execution_count": 39,
   "id": "b3a6995f-46e2-4225-bfff-dbb0a419a9fd",
   "metadata": {},
   "outputs": [],
   "source": [
    "nimess_last = nimess.groupby('ppid', as_index=False).last() \n",
    "nimess_last_index = nimess_last.epid.unique().tolist()\n",
    "nimess_except_last = nimess[~nimess.epid.isin(nimess_last_index)]"
   ]
  },
  {
   "cell_type": "code",
   "execution_count": 40,
   "id": "58e801d2-cc28-4636-a7e4-0211d2689a8f",
   "metadata": {},
   "outputs": [
    {
     "data": {
      "text/plain": [
       "34214"
      ]
     },
     "execution_count": 40,
     "metadata": {},
     "output_type": "execute_result"
    }
   ],
   "source": [
    "nimess_except_last.ppid.nunique()"
   ]
  },
  {
   "cell_type": "markdown",
   "id": "971f6963-79bb-4d5d-b67b-1ca396bbc36a",
   "metadata": {},
   "source": [
    "Calculating Admissions"
   ]
  },
  {
   "cell_type": "code",
   "execution_count": 41,
   "id": "3473ede2-eac0-45ec-af26-f63c1f7c41e1",
   "metadata": {},
   "outputs": [],
   "source": [
    "nimess_visit = nimess_except_last.loc[nimess_except_last['visit_type'] == 3]\n",
    "nimess_admission = nimess_except_last.loc[nimess_except_last['visit_type'] == 1]\n",
    "nimess_daycare = nimess_except_last.loc[nimess_except_last['visit_type'] == 2]\n",
    "nimess_inpatient = nimess_except_last.loc[nimess_except_last['visit_type'] == 8]"
   ]
  },
  {
   "cell_type": "code",
   "execution_count": 42,
   "id": "321f45e4-121c-4220-b34b-453ab94ba65b",
   "metadata": {
    "tags": []
   },
   "outputs": [
    {
     "name": "stderr",
     "output_type": "stream",
     "text": [
      "C:\\Users\\rajeevb\\AppData\\Local\\Temp\\ipykernel_7832\\4143247150.py:1: SettingWithCopyWarning: \n",
      "A value is trying to be set on a copy of a slice from a DataFrame.\n",
      "Try using .loc[row_indexer,col_indexer] = value instead\n",
      "\n",
      "See the caveats in the documentation: https://pandas.pydata.org/pandas-docs/stable/user_guide/indexing.html#returning-a-view-versus-a-copy\n",
      "  nimess_visit['visit_count'] = nimess_visit.groupby('ppid')['ppid'].transform('count')\n",
      "C:\\Users\\rajeevb\\AppData\\Local\\Temp\\ipykernel_7832\\4143247150.py:2: SettingWithCopyWarning: \n",
      "A value is trying to be set on a copy of a slice from a DataFrame.\n",
      "Try using .loc[row_indexer,col_indexer] = value instead\n",
      "\n",
      "See the caveats in the documentation: https://pandas.pydata.org/pandas-docs/stable/user_guide/indexing.html#returning-a-view-versus-a-copy\n",
      "  nimess_admission['admission_count'] = nimess_admission.groupby('ppid')['ppid'].transform('count')\n",
      "C:\\Users\\rajeevb\\AppData\\Local\\Temp\\ipykernel_7832\\4143247150.py:3: SettingWithCopyWarning: \n",
      "A value is trying to be set on a copy of a slice from a DataFrame.\n",
      "Try using .loc[row_indexer,col_indexer] = value instead\n",
      "\n",
      "See the caveats in the documentation: https://pandas.pydata.org/pandas-docs/stable/user_guide/indexing.html#returning-a-view-versus-a-copy\n",
      "  nimess_daycare['daycare_count'] = nimess_daycare.groupby('ppid')['ppid'].transform('count')\n",
      "C:\\Users\\rajeevb\\AppData\\Local\\Temp\\ipykernel_7832\\4143247150.py:4: SettingWithCopyWarning: \n",
      "A value is trying to be set on a copy of a slice from a DataFrame.\n",
      "Try using .loc[row_indexer,col_indexer] = value instead\n",
      "\n",
      "See the caveats in the documentation: https://pandas.pydata.org/pandas-docs/stable/user_guide/indexing.html#returning-a-view-versus-a-copy\n",
      "  nimess_inpatient['inpatient_count'] = nimess_inpatient.groupby('ppid')['ppid'].transform('count')\n"
     ]
    }
   ],
   "source": [
    "nimess_visit['visit_count'] = nimess_visit.groupby('ppid')['ppid'].transform('count')\n",
    "nimess_admission['admission_count'] = nimess_admission.groupby('ppid')['ppid'].transform('count')\n",
    "nimess_daycare['daycare_count'] = nimess_daycare.groupby('ppid')['ppid'].transform('count')\n",
    "nimess_inpatient['inpatient_count'] = nimess_inpatient.groupby('ppid')['ppid'].transform('count')"
   ]
  },
  {
   "cell_type": "code",
   "execution_count": 43,
   "id": "c5d23484-cf32-40e9-907d-3288fd928a45",
   "metadata": {},
   "outputs": [],
   "source": [
    "nimess_visit_counts = nimess_visit[['ppid', 'visit_count']].copy()\n",
    "nimess_visit_counts = nimess_visit_counts.drop_duplicates()\n",
    "nimess_admission_counts = nimess_admission[['ppid', 'admission_count']].copy()\n",
    "nimess_admission_counts = nimess_admission_counts.drop_duplicates()\n",
    "nimess_daycare_counts = nimess_daycare[['ppid', 'daycare_count']].copy()\n",
    "nimess_daycare_counts = nimess_daycare_counts.drop_duplicates()\n",
    "nimess_inpatient_counts = nimess_inpatient[['ppid', 'inpatient_count']].copy()\n",
    "nimess_inpatient_counts = nimess_inpatient_counts.drop_duplicates()"
   ]
  },
  {
   "cell_type": "code",
   "execution_count": 44,
   "id": "d27ab34b-2e7c-45a4-84e3-82db0f195bd3",
   "metadata": {
    "tags": []
   },
   "outputs": [
    {
     "name": "stderr",
     "output_type": "stream",
     "text": [
      "C:\\Users\\rajeevb\\AppData\\Local\\Temp\\ipykernel_7832\\3432025164.py:1: SettingWithCopyWarning: \n",
      "A value is trying to be set on a copy of a slice from a DataFrame.\n",
      "Try using .loc[row_indexer,col_indexer] = value instead\n",
      "\n",
      "See the caveats in the documentation: https://pandas.pydata.org/pandas-docs/stable/user_guide/indexing.html#returning-a-view-versus-a-copy\n",
      "  nimess_except_last['entry_count'] = nimess_except_last.groupby('ppid')['ppid'].transform('count')\n"
     ]
    },
    {
     "data": {
      "text/plain": [
       "(34214, 15)"
      ]
     },
     "execution_count": 44,
     "metadata": {},
     "output_type": "execute_result"
    }
   ],
   "source": [
    "nimess_except_last['entry_count'] = nimess_except_last.groupby('ppid')['ppid'].transform('count')\n",
    "nimess_tf = nimess_except_last.groupby(['ppid', 'entry_count'], as_index=False)['LOS'].sum()\n",
    "nimess_labelLOS = nimess.groupby(['ppid', 'label'], as_index=False)['LOS'].sum()\n",
    "labelLOS_table = pd.pivot_table(nimess_labelLOS, values='LOS',columns=['label'], index='ppid')\n",
    "CaseLog = pd.merge(nimess_tf, labelLOS_table, on=['ppid'], how='left')\n",
    "CaseLog.shape"
   ]
  },
  {
   "cell_type": "code",
   "execution_count": 45,
   "id": "770d44c6-8ddc-4762-8907-16f491d6b9a1",
   "metadata": {},
   "outputs": [],
   "source": [
    "CaseLog = pd.merge(CaseLog, nimess_visit_counts, on=['ppid'], how='left' )\n",
    "CaseLog = pd.merge(CaseLog, nimess_admission_counts, on=['ppid'], how='left' )\n",
    "CaseLog = pd.merge(CaseLog, nimess_daycare_counts, on=['ppid'], how='left' )\n",
    "CaseLog = pd.merge(CaseLog, nimess_inpatient_counts, on=['ppid'], how='left' )"
   ]
  },
  {
   "cell_type": "markdown",
   "id": "873ac17c-01a6-4fd0-ab78-93a549f3d30c",
   "metadata": {},
   "source": [
    "Adding total time in between episodes  "
   ]
  },
  {
   "cell_type": "code",
   "execution_count": 46,
   "id": "6f2d8fe7-1a61-43fd-9b57-0e957a49629f",
   "metadata": {},
   "outputs": [],
   "source": [
    "nimess_tinb = nimess_except_last.groupby(['ppid', 'entry_count'], as_index=False)['time_to_last'].sum()\n",
    "nimess_tinb['avg_time_in_between'] = nimess_tinb['time_to_last']/nimess_tinb['entry_count']\n",
    "nimess_tinb = nimess_tinb.drop(columns=['entry_count'])\n",
    "nimess_tinb = nimess_tinb.rename(columns = {\"time_to_last\" : \"total_time_between\"})\n",
    "CaseLog = pd.merge(CaseLog, nimess_tinb, on=['ppid'], how='left')"
   ]
  },
  {
   "cell_type": "markdown",
   "id": "9ea8056f-bd17-4491-80e1-dd9ee3f9e659",
   "metadata": {
    "jupyter": {
     "outputs_hidden": true
    },
    "tags": []
   },
   "source": [
    "Adding Length of histories. "
   ]
  },
  {
   "cell_type": "code",
   "execution_count": 47,
   "id": "b847fb64-4b4e-46de-a38d-988593ceff29",
   "metadata": {},
   "outputs": [],
   "source": [
    "nimess_firsts = nimess_except_last.groupby('ppid', as_index=False).first() \n",
    "nimess_lasts = nimess_except_last.groupby('ppid', as_index=False).last() \n",
    "nimess_firsts = nimess_firsts[['ppid', 'inndatotid']].copy()\n",
    "nimess_lasts = nimess_lasts[['ppid', 'inndatotid']].copy()\n",
    "nimess_firsts = nimess_firsts.rename(columns = {\"inndatotid\" : \"first_entry\"})\n",
    "nimess_lasts = nimess_lasts.rename(columns = {\"inndatotid\" : \"last_entry\"})\n",
    "firsts_lasts = pd.merge(nimess_firsts, nimess_lasts, on =['ppid'], how='left')"
   ]
  },
  {
   "cell_type": "code",
   "execution_count": 48,
   "id": "8196942e-d4eb-4e70-a1ec-babbd5c50e63",
   "metadata": {
    "tags": []
   },
   "outputs": [],
   "source": [
    "CaseLog = pd.merge(CaseLog, firsts_lasts, on=['ppid'])"
   ]
  },
  {
   "cell_type": "code",
   "execution_count": 49,
   "id": "825653a4-b418-4d90-99d7-cec06cb914a4",
   "metadata": {
    "tags": []
   },
   "outputs": [],
   "source": [
    "CaseLog['Length_of_history'] = (CaseLog['last_entry'] - CaseLog['first_entry']) / np.timedelta64(1, 'D')"
   ]
  },
  {
   "cell_type": "markdown",
   "id": "028c5499-a4ce-4dab-a2fb-5ccb13728b9e",
   "metadata": {},
   "source": [
    "Adding features between last and second last "
   ]
  },
  {
   "cell_type": "code",
   "execution_count": 50,
   "id": "95a13674-1229-4556-8b6d-42897728e2e2",
   "metadata": {},
   "outputs": [],
   "source": [
    "nimess_last = nimess.groupby('ppid', as_index=False).last() \n",
    "nimess_time_to_last = nimess_last[['ppid', 'time_to_last', 'severity', 'visit_type']].copy()\n",
    "nimess_time_to_last = nimess_time_to_last.rename(columns={\"severity\": \"severity_last\", \"visit_type\": \"visit_type_last\", \"time_to_last\": \"time_to_previous\"})\n",
    "CaseLog = pd.merge(CaseLog, nimess_time_to_last, on=['ppid'], how='left')\n"
   ]
  },
  {
   "cell_type": "markdown",
   "id": "cb8a0dd5-f519-4da7-8121-5dd2a7c6ef9e",
   "metadata": {},
   "source": [
    "Time to second last and third last"
   ]
  },
  {
   "cell_type": "code",
   "execution_count": 51,
   "id": "d46759e3-bd8b-4865-991a-c16957579151",
   "metadata": {},
   "outputs": [],
   "source": [
    "nimess_last = nimess.groupby('ppid', as_index=False).last() \n",
    "nimess_last_index = nimess_last.epid.unique().tolist()\n",
    "nimess_except_last = nimess[~nimess.epid.isin(nimess_last_index)]\n",
    "\n",
    "nimess_second_last = nimess_except_last.groupby('ppid', as_index=False).last() \n",
    "nimess_time_to_secondlast = nimess_second_last[['ppid', 'time_to_last', 'severity', 'visit_type', 'LOS']].copy()\n",
    "nimess_time_to_secondlast = nimess_time_to_secondlast.rename(columns={\"severity\": \"severity_2ndlast\", \"visit_type\": \"visit_type_2ndlast\", \"time_to_last\": \"time_between_last_2last\", \"LOS\": \"LOS_2ndLast\"})\n",
    "\n",
    "CaseLog = pd.merge(CaseLog, nimess_time_to_secondlast, on=['ppid'], how='left')\n",
    "\n",
    "nimess_second_last_index = nimess_second_last.epid.unique().tolist()\n",
    "nimess_except_second_last = nimess_except_last[~nimess_except_last.epid.isin(nimess_second_last_index)]\n",
    "\n",
    "nimess_third_last = nimess_except_second_last.groupby('ppid', as_index=False).last() \n",
    "nimess_time_to_thirdlast = nimess_third_last[['ppid', 'time_to_last', 'severity', 'visit_type', 'LOS']].copy()\n",
    "nimess_time_to_thirdlast = nimess_time_to_thirdlast.rename(columns={\"severity\": \"severity_3rdlast\", \"visit_type\": \"visit_type_3rdlast\", \"time_to_last\": \"time_between_2last_3last\", \"LOS\": \"LOS_3rdLast\"})\n",
    "\n",
    "CaseLog = pd.merge(CaseLog, nimess_time_to_thirdlast, on=['ppid'], how='left')\n",
    "\n",
    "\n",
    "#nimess_third_last_index = nimess_third_last.epid.unique().tolist()\n",
    "#nimess_except_third_last = nimess_except_second_last[~nimess_except_second_last.epid.isin(nimess_third_last_index)]\n",
    "\n"
   ]
  },
  {
   "cell_type": "code",
   "execution_count": 52,
   "id": "7a28218f-bc97-476e-8811-b6f6e832eb50",
   "metadata": {},
   "outputs": [],
   "source": [
    "nimess_explicit_flag = nimess_except_last.groupby(['ppid'], as_index=False)['explicit_flag'].sum()\n",
    "nimess_infection_flag = nimess_except_last.groupby(['ppid'], as_index=False)['infection_flag'].sum()\n",
    "nimess_implicit_flag = nimess_except_last.groupby(['ppid'], as_index=False)['implicit_flag'].sum()\n",
    "\n",
    "nimess_Diabetes_flag = nimess_except_last.groupby(['ppid'], as_index=False)['Diabetes_flag'].sum()\n",
    "nimess_Cardiaovascular_flag = nimess_except_last.groupby(['ppid'], as_index=False)['Cardiaovascular_flag'].sum()\n",
    "nimess_Cancer_flag = nimess_except_last.groupby(['ppid'], as_index=False)['Cancer_flag'].sum()\n",
    "\n",
    "nimess_Lung_flag = nimess_except_last.groupby(['ppid'], as_index=False)['Lung_flag'].sum()\n",
    "nimess_Demetia_flag = nimess_except_last.groupby(['ppid'], as_index=False)['Demetia_flag'].sum()\n",
    "nimess_Kidney_dialysis_flag = nimess_except_last.groupby(['ppid'], as_index=False)['Kidney_dialysis_flag'].sum()\n",
    "nimess_Liver_flag = nimess_except_last.groupby(['ppid'], as_index=False)['Liver_flag'].sum()"
   ]
  },
  {
   "cell_type": "code",
   "execution_count": 53,
   "id": "71d8670f-8e08-4514-8c91-5896df65ee31",
   "metadata": {},
   "outputs": [],
   "source": [
    "CaseLog = pd.merge(CaseLog, nimess_explicit_flag, on=['ppid'], how='left' )\n",
    "CaseLog = pd.merge(CaseLog, nimess_infection_flag, on=['ppid'], how='left' )\n",
    "CaseLog = pd.merge(CaseLog, nimess_implicit_flag, on=['ppid'], how='left' )\n",
    "CaseLog = pd.merge(CaseLog, nimess_Diabetes_flag, on=['ppid'], how='left' )\n",
    "CaseLog = pd.merge(CaseLog, nimess_Cardiaovascular_flag, on=['ppid'], how='left' )\n",
    "CaseLog = pd.merge(CaseLog, nimess_Cancer_flag, on=['ppid'], how='left' )\n",
    "CaseLog = pd.merge(CaseLog, nimess_Lung_flag, on=['ppid'], how='left' )\n",
    "CaseLog = pd.merge(CaseLog, nimess_Demetia_flag, on=['ppid'], how='left' )\n",
    "CaseLog = pd.merge(CaseLog, nimess_Kidney_dialysis_flag, on=['ppid'], how='left' )\n",
    "CaseLog = pd.merge(CaseLog, nimess_Liver_flag, on=['ppid'], how='left' )"
   ]
  },
  {
   "cell_type": "markdown",
   "id": "7bddc4d2-ac34-41d7-afd7-8e1123b3f533",
   "metadata": {},
   "source": [
    "Adding ICU data"
   ]
  },
  {
   "cell_type": "code",
   "execution_count": 54,
   "id": "adee7f22-0308-4267-8dea-39c5a0a5ee77",
   "metadata": {},
   "outputs": [],
   "source": [
    "anino2_last = anino2.groupby('ppid', as_index=False).last() \n",
    "anino2_last_index = anino2_last.icuid.unique().tolist()\n",
    "anino2_except_last = anino2[~anino2.icuid.isin(anino2_last_index)]"
   ]
  },
  {
   "cell_type": "code",
   "execution_count": 55,
   "id": "10e72bf5-892a-4c87-bf28-99887fa33115",
   "metadata": {
    "tags": []
   },
   "outputs": [
    {
     "name": "stderr",
     "output_type": "stream",
     "text": [
      "C:\\Users\\rajeevb\\AppData\\Local\\Temp\\ipykernel_7832\\1168806325.py:1: SettingWithCopyWarning: \n",
      "A value is trying to be set on a copy of a slice from a DataFrame.\n",
      "Try using .loc[row_indexer,col_indexer] = value instead\n",
      "\n",
      "See the caveats in the documentation: https://pandas.pydata.org/pandas-docs/stable/user_guide/indexing.html#returning-a-view-versus-a-copy\n",
      "  anino2_except_last['ICU_visit_count'] = anino2_except_last.groupby('ppid')['ppid'].transform('count')\n"
     ]
    }
   ],
   "source": [
    "anino2_except_last['ICU_visit_count'] = anino2_except_last.groupby('ppid')['ppid'].transform('count')\n",
    "\n",
    "anino2_except_last_tf = anino2_except_last.groupby(['ppid', 'ICU_visit_count'], as_index=False)['ICU_LOS'].sum()\n",
    "CaseLog = pd.merge(CaseLog, anino2_except_last_tf, on=['ppid'], how='left')"
   ]
  },
  {
   "cell_type": "code",
   "execution_count": 56,
   "id": "f341bd56-f990-4de2-997b-45a0f13ab954",
   "metadata": {},
   "outputs": [
    {
     "data": {
      "text/plain": [
       "(34214, 47)"
      ]
     },
     "execution_count": 56,
     "metadata": {},
     "output_type": "execute_result"
    }
   ],
   "source": [
    "CaseLog.shape"
   ]
  },
  {
   "cell_type": "code",
   "execution_count": 57,
   "id": "a7c4b054-4a19-4962-a235-21678a8bd2d9",
   "metadata": {},
   "outputs": [],
   "source": [
    "pasient.iloc[:, 3:4] = pasient.iloc[:, 3:4].apply(pd.to_datetime, errors='coerce')\n",
    "pasient2 = pasient.drop(columns=['fødtår', 'dødsdato'])\n",
    "CaseLog = pd.merge(CaseLog, pasient2, on=['ppid'], how='left')"
   ]
  },
  {
   "cell_type": "code",
   "execution_count": 58,
   "id": "070a6971-243a-402f-a272-8fcbfe908210",
   "metadata": {},
   "outputs": [
    {
     "data": {
      "text/plain": [
       "(34214, 48)"
      ]
     },
     "execution_count": 58,
     "metadata": {},
     "output_type": "execute_result"
    }
   ],
   "source": [
    "CaseLog.shape"
   ]
  },
  {
   "cell_type": "markdown",
   "id": "67f028d9-b403-4e05-809e-ecbe98920605",
   "metadata": {},
   "source": [
    "Adding Age at first and last visits"
   ]
  },
  {
   "cell_type": "code",
   "execution_count": 59,
   "id": "1fc6a9a2-4255-48c3-b917-c1d40cc4672e",
   "metadata": {
    "tags": []
   },
   "outputs": [],
   "source": [
    "nimess_firsts = nimess.groupby('ppid', as_index=False).first() \n",
    "nimess_firsts = pd.merge(nimess_firsts, pasient, on=['ppid'])\n",
    "nimess_firsts['age_at_first_visit'] = nimess_firsts['inndatotid'].dt.year - nimess_firsts['fødtår']"
   ]
  },
  {
   "cell_type": "code",
   "execution_count": 60,
   "id": "cd6f0809-0216-450d-8c39-e087ce59c3f9",
   "metadata": {},
   "outputs": [],
   "source": [
    "nimess_lasts = nimess.groupby('ppid', as_index=False).last() \n",
    "nimess_lasts = pd.merge(nimess_lasts, pasient, on=['ppid'])\n",
    "nimess_lasts['age_at_last_visit'] = nimess_lasts['inndatotid'].dt.year - nimess_lasts['fødtår']"
   ]
  },
  {
   "cell_type": "code",
   "execution_count": 61,
   "id": "8131ba3a-68fe-4e4b-b3e8-86839a17767e",
   "metadata": {},
   "outputs": [],
   "source": [
    "nimess_firsts = nimess_firsts[['ppid', 'age_at_first_visit']].copy()\n",
    "nimess_lasts = nimess_lasts[['ppid', 'age_at_last_visit']].copy()"
   ]
  },
  {
   "cell_type": "code",
   "execution_count": 62,
   "id": "96a3d6b8-90d0-464e-8563-48add3fb2521",
   "metadata": {},
   "outputs": [],
   "source": [
    "CaseLog = pd.merge(CaseLog, nimess_firsts, on=['ppid'], how='left')\n",
    "CaseLog = pd.merge(CaseLog, nimess_lasts, on=['ppid'], how='left')"
   ]
  },
  {
   "cell_type": "markdown",
   "id": "1f3ffc2a-86ed-4baf-9188-b265bbef805e",
   "metadata": {},
   "source": [
    "Adding time under severity states"
   ]
  },
  {
   "cell_type": "code",
   "execution_count": 63,
   "id": "c622c351-94ea-4fa1-940e-1ba0bc4ee275",
   "metadata": {},
   "outputs": [],
   "source": [
    "time_under = nimess.groupby(['ppid', 'severity'], as_index=False)['LOS'].sum()\n",
    "severity_LOS_table = pd.pivot_table(time_under, values='LOS',columns=['severity'], index='ppid')\n",
    "CaseLog = pd.merge(CaseLog, severity_LOS_table, on=['ppid'], how='left')"
   ]
  },
  {
   "cell_type": "markdown",
   "id": "57a55921-1321-4003-861c-7ffe3d49aceb",
   "metadata": {},
   "source": [
    "Adding NSML table data"
   ]
  },
  {
   "cell_type": "code",
   "execution_count": 64,
   "id": "fdc5553d-00cc-4abe-a31c-6c4bb641001e",
   "metadata": {},
   "outputs": [],
   "source": [
    "nsml_test = nsml[['reqs_no', 'ppid']].copy()\n",
    "nsml_test = nsml_test.drop_duplicates()\n",
    "nsml_test['nsml_test_count'] = nsml_test.groupby('ppid')['ppid'].transform('count')\n",
    "nsml_test = nsml_test.drop(['reqs_no'], axis=1)"
   ]
  },
  {
   "cell_type": "code",
   "execution_count": 65,
   "id": "c2f71a63-086c-416a-9963-f1a38287ee1b",
   "metadata": {},
   "outputs": [],
   "source": [
    "nsml_positive = nsml.loc[~nsml['micr_prt_name'].isnull()]\n",
    "nsml_positive_test = nsml_positive[['reqs_no', 'ppid']].copy()\n",
    "nsml_positive_test = nsml_positive_test.drop_duplicates()\n",
    "nsml_positive_test['nsml_positive_test_count'] = nsml_positive_test.groupby('ppid')['ppid'].transform('count')\n",
    "nsml_positive_test = nsml_positive_test.drop(['reqs_no'], axis=1)"
   ]
  },
  {
   "cell_type": "code",
   "execution_count": 66,
   "id": "f9af7a8d-064c-4424-94e4-24269fd11f1b",
   "metadata": {},
   "outputs": [],
   "source": [
    "nsml_counts = pd.merge(nsml_test, nsml_positive_test, on=['ppid'], how='left' )\n",
    "nsml_counts = nsml_counts.drop_duplicates()"
   ]
  },
  {
   "cell_type": "code",
   "execution_count": 67,
   "id": "82efbb19-b42b-4f5b-901c-23abd9e66ae5",
   "metadata": {},
   "outputs": [],
   "source": [
    "CaseLog = pd.merge(CaseLog, nsml_counts, on=['ppid'], how='left' )"
   ]
  },
  {
   "cell_type": "markdown",
   "id": "e4701745-2daf-4000-b64b-e9d7e4d69dec",
   "metadata": {},
   "source": [
    "Adding Trfl table data"
   ]
  },
  {
   "cell_type": "code",
   "execution_count": 68,
   "id": "37a43cac-77fc-448d-8998-95aeaf5f93ed",
   "metadata": {},
   "outputs": [],
   "source": [
    "trfl_abnormal = trfl[(trfl['result_ctr_flag'] == 'L ') | (trfl['result_ctr_flag'] == 'H ')\n",
    "                     | (trfl['result_ctr_flag'] == 'LX')  | (trfl['result_ctr_flag'] == 'HX')]\n"
   ]
  },
  {
   "cell_type": "code",
   "execution_count": 69,
   "id": "26cdc532-880c-4afb-932a-19d22fa65db2",
   "metadata": {},
   "outputs": [],
   "source": [
    "trfl_abnormal = trfl_abnormal.drop(['reqs_year', 'ande_code', 'anly_result', 'high_reference', 'low_reference',\n",
    "       'matr_code', 'date_req', 'date_coll', 'reqr_code_prim', 'reqr_name',\n",
    "       'stagelineageid'], axis=1)"
   ]
  },
  {
   "cell_type": "code",
   "execution_count": 70,
   "id": "f94d4f6d-4cdd-4c89-b55f-a5da8cd84feb",
   "metadata": {},
   "outputs": [],
   "source": [
    "Trombo_abnormal = trfl_abnormal.loc[trfl_abnormal['ande_name'] == 'Trombocytter                  ']\n",
    "CRP_abnormal = trfl_abnormal.loc[trfl_abnormal['ande_name'] == 'CRP                           ']\n",
    "Kreatin_abnormal = trfl_abnormal.loc[trfl_abnormal['ande_name'] == 'Kreatinin                     ']\n",
    "Leuko_abnormal = trfl_abnormal.loc[trfl_abnormal['ande_name'] == 'Leukocytter                   ']\n",
    "Bilirub_abnormal = trfl_abnormal.loc[trfl_abnormal['ande_name'] == 'Bilirubin total               ']"
   ]
  },
  {
   "cell_type": "code",
   "execution_count": 71,
   "id": "6669f0d3-b5da-4cc1-b499-3e248bfc3a88",
   "metadata": {
    "tags": []
   },
   "outputs": [
    {
     "name": "stderr",
     "output_type": "stream",
     "text": [
      "C:\\Users\\rajeevb\\AppData\\Local\\Temp\\ipykernel_7832\\2201004664.py:1: SettingWithCopyWarning: \n",
      "A value is trying to be set on a copy of a slice from a DataFrame.\n",
      "Try using .loc[row_indexer,col_indexer] = value instead\n",
      "\n",
      "See the caveats in the documentation: https://pandas.pydata.org/pandas-docs/stable/user_guide/indexing.html#returning-a-view-versus-a-copy\n",
      "  Trombo_abnormal['Trombo_abnormal_test_count'] = Trombo_abnormal.groupby('ppid')['ppid'].transform('count')\n",
      "C:\\Users\\rajeevb\\AppData\\Local\\Temp\\ipykernel_7832\\2201004664.py:2: SettingWithCopyWarning: \n",
      "A value is trying to be set on a copy of a slice from a DataFrame.\n",
      "Try using .loc[row_indexer,col_indexer] = value instead\n",
      "\n",
      "See the caveats in the documentation: https://pandas.pydata.org/pandas-docs/stable/user_guide/indexing.html#returning-a-view-versus-a-copy\n",
      "  CRP_abnormal['CRP_abnormal_test_count'] = CRP_abnormal.groupby('ppid')['ppid'].transform('count')\n",
      "C:\\Users\\rajeevb\\AppData\\Local\\Temp\\ipykernel_7832\\2201004664.py:3: SettingWithCopyWarning: \n",
      "A value is trying to be set on a copy of a slice from a DataFrame.\n",
      "Try using .loc[row_indexer,col_indexer] = value instead\n",
      "\n",
      "See the caveats in the documentation: https://pandas.pydata.org/pandas-docs/stable/user_guide/indexing.html#returning-a-view-versus-a-copy\n",
      "  Kreatin_abnormal['Kreatin_abnormal_test_count'] = Kreatin_abnormal.groupby('ppid')['ppid'].transform('count')\n",
      "C:\\Users\\rajeevb\\AppData\\Local\\Temp\\ipykernel_7832\\2201004664.py:4: SettingWithCopyWarning: \n",
      "A value is trying to be set on a copy of a slice from a DataFrame.\n",
      "Try using .loc[row_indexer,col_indexer] = value instead\n",
      "\n",
      "See the caveats in the documentation: https://pandas.pydata.org/pandas-docs/stable/user_guide/indexing.html#returning-a-view-versus-a-copy\n",
      "  Leuko_abnormal['Leuko_abnormal_test_count'] = Leuko_abnormal.groupby('ppid')['ppid'].transform('count')\n",
      "C:\\Users\\rajeevb\\AppData\\Local\\Temp\\ipykernel_7832\\2201004664.py:5: SettingWithCopyWarning: \n",
      "A value is trying to be set on a copy of a slice from a DataFrame.\n",
      "Try using .loc[row_indexer,col_indexer] = value instead\n",
      "\n",
      "See the caveats in the documentation: https://pandas.pydata.org/pandas-docs/stable/user_guide/indexing.html#returning-a-view-versus-a-copy\n",
      "  Bilirub_abnormal['Bilirub_abnormal_test_count'] = Bilirub_abnormal.groupby('ppid')['ppid'].transform('count')\n"
     ]
    }
   ],
   "source": [
    "Trombo_abnormal['Trombo_abnormal_test_count'] = Trombo_abnormal.groupby('ppid')['ppid'].transform('count')\n",
    "CRP_abnormal['CRP_abnormal_test_count'] = CRP_abnormal.groupby('ppid')['ppid'].transform('count')\n",
    "Kreatin_abnormal['Kreatin_abnormal_test_count'] = Kreatin_abnormal.groupby('ppid')['ppid'].transform('count')\n",
    "Leuko_abnormal['Leuko_abnormal_test_count'] = Leuko_abnormal.groupby('ppid')['ppid'].transform('count')\n",
    "Bilirub_abnormal['Bilirub_abnormal_test_count'] = Bilirub_abnormal.groupby('ppid')['ppid'].transform('count')"
   ]
  },
  {
   "cell_type": "code",
   "execution_count": 72,
   "id": "a9eea1df-84a4-4d19-99f3-71d4183160a0",
   "metadata": {},
   "outputs": [],
   "source": [
    "Trombo_abnormal = Trombo_abnormal.drop(['reqs_no', 'result_ctr_flag', 'ande_name' ], axis=1)\n",
    "Trombo_abnormal = Trombo_abnormal.drop_duplicates()\n",
    "CRP_abnormal = CRP_abnormal.drop(['reqs_no', 'result_ctr_flag', 'ande_name' ], axis=1)\n",
    "CRP_abnormal = CRP_abnormal.drop_duplicates()\n",
    "Kreatin_abnormal = Kreatin_abnormal.drop(['reqs_no', 'result_ctr_flag', 'ande_name' ], axis=1)\n",
    "Kreatin_abnormal = Kreatin_abnormal.drop_duplicates()\n",
    "Leuko_abnormal = Leuko_abnormal.drop(['reqs_no', 'result_ctr_flag', 'ande_name' ], axis=1)\n",
    "Leuko_abnormal = Leuko_abnormal.drop_duplicates()\n",
    "Bilirub_abnormal = Bilirub_abnormal.drop(['reqs_no', 'result_ctr_flag', 'ande_name' ], axis=1)\n",
    "Bilirub_abnormal = Bilirub_abnormal.drop_duplicates()"
   ]
  },
  {
   "cell_type": "code",
   "execution_count": 73,
   "id": "2b9592dd-d44e-40e4-b88b-142d1eae7794",
   "metadata": {},
   "outputs": [],
   "source": [
    "CaseLog = pd.merge(CaseLog, Trombo_abnormal, on=['ppid'], how='left' )\n",
    "CaseLog = pd.merge(CaseLog, CRP_abnormal, on=['ppid'], how='left' )\n",
    "CaseLog = pd.merge(CaseLog, Kreatin_abnormal, on=['ppid'], how='left' )\n",
    "CaseLog = pd.merge(CaseLog, Leuko_abnormal, on=['ppid'], how='left' )\n",
    "CaseLog = pd.merge(CaseLog, Bilirub_abnormal, on=['ppid'], how='left' )"
   ]
  },
  {
   "cell_type": "code",
   "execution_count": 74,
   "id": "ac1c3749-dd9d-40c7-9a71-f5225a2cc2c9",
   "metadata": {},
   "outputs": [],
   "source": [
    "CaseLog = CaseLog.fillna(0)"
   ]
  },
  {
   "cell_type": "code",
   "execution_count": 75,
   "id": "4217e797-0bcf-4070-a5bc-e1b825aa194d",
   "metadata": {
    "tags": []
   },
   "outputs": [
    {
     "data": {
      "text/html": [
       "<div>\n",
       "<style scoped>\n",
       "    .dataframe tbody tr th:only-of-type {\n",
       "        vertical-align: middle;\n",
       "    }\n",
       "\n",
       "    .dataframe tbody tr th {\n",
       "        vertical-align: top;\n",
       "    }\n",
       "\n",
       "    .dataframe thead th {\n",
       "        text-align: right;\n",
       "    }\n",
       "</style>\n",
       "<table border=\"1\" class=\"dataframe\">\n",
       "  <thead>\n",
       "    <tr style=\"text-align: right;\">\n",
       "      <th></th>\n",
       "      <th>ppid</th>\n",
       "      <th>entry_count</th>\n",
       "      <th>LOS</th>\n",
       "      <th>Cancer</th>\n",
       "      <th>Cardiaovascular</th>\n",
       "      <th>Demetia</th>\n",
       "      <th>Diabetes</th>\n",
       "      <th>Explicit Sepsis</th>\n",
       "      <th>Immune_system</th>\n",
       "      <th>Implicit sepsis</th>\n",
       "      <th>...</th>\n",
       "      <th>3</th>\n",
       "      <th>4</th>\n",
       "      <th>5</th>\n",
       "      <th>nsml_test_count</th>\n",
       "      <th>nsml_positive_test_count</th>\n",
       "      <th>Trombo_abnormal_test_count</th>\n",
       "      <th>CRP_abnormal_test_count</th>\n",
       "      <th>Kreatin_abnormal_test_count</th>\n",
       "      <th>Leuko_abnormal_test_count</th>\n",
       "      <th>Bilirub_abnormal_test_count</th>\n",
       "    </tr>\n",
       "  </thead>\n",
       "  <tbody>\n",
       "    <tr>\n",
       "      <th>0</th>\n",
       "      <td>1</td>\n",
       "      <td>17</td>\n",
       "      <td>670.0</td>\n",
       "      <td>0.0</td>\n",
       "      <td>137.0</td>\n",
       "      <td>0.0</td>\n",
       "      <td>0.0</td>\n",
       "      <td>0.0</td>\n",
       "      <td>0.0</td>\n",
       "      <td>0.0</td>\n",
       "      <td>...</td>\n",
       "      <td>0.0</td>\n",
       "      <td>99.0</td>\n",
       "      <td>0.0</td>\n",
       "      <td>12</td>\n",
       "      <td>1.0</td>\n",
       "      <td>0.0</td>\n",
       "      <td>14.0</td>\n",
       "      <td>0.0</td>\n",
       "      <td>9.0</td>\n",
       "      <td>0.0</td>\n",
       "    </tr>\n",
       "    <tr>\n",
       "      <th>1</th>\n",
       "      <td>2</td>\n",
       "      <td>16</td>\n",
       "      <td>101.0</td>\n",
       "      <td>0.0</td>\n",
       "      <td>0.0</td>\n",
       "      <td>0.0</td>\n",
       "      <td>0.0</td>\n",
       "      <td>0.0</td>\n",
       "      <td>0.0</td>\n",
       "      <td>0.0</td>\n",
       "      <td>...</td>\n",
       "      <td>0.0</td>\n",
       "      <td>22.0</td>\n",
       "      <td>0.0</td>\n",
       "      <td>6</td>\n",
       "      <td>3.0</td>\n",
       "      <td>1.0</td>\n",
       "      <td>4.0</td>\n",
       "      <td>0.0</td>\n",
       "      <td>0.0</td>\n",
       "      <td>1.0</td>\n",
       "    </tr>\n",
       "    <tr>\n",
       "      <th>2</th>\n",
       "      <td>3</td>\n",
       "      <td>83</td>\n",
       "      <td>3202.0</td>\n",
       "      <td>0.0</td>\n",
       "      <td>0.0</td>\n",
       "      <td>0.0</td>\n",
       "      <td>0.0</td>\n",
       "      <td>344.0</td>\n",
       "      <td>0.0</td>\n",
       "      <td>0.0</td>\n",
       "      <td>...</td>\n",
       "      <td>0.0</td>\n",
       "      <td>1025.0</td>\n",
       "      <td>0.0</td>\n",
       "      <td>9</td>\n",
       "      <td>0.0</td>\n",
       "      <td>1.0</td>\n",
       "      <td>13.0</td>\n",
       "      <td>0.0</td>\n",
       "      <td>0.0</td>\n",
       "      <td>0.0</td>\n",
       "    </tr>\n",
       "    <tr>\n",
       "      <th>3</th>\n",
       "      <td>4</td>\n",
       "      <td>57</td>\n",
       "      <td>484.0</td>\n",
       "      <td>0.0</td>\n",
       "      <td>4.0</td>\n",
       "      <td>0.0</td>\n",
       "      <td>26.0</td>\n",
       "      <td>0.0</td>\n",
       "      <td>0.0</td>\n",
       "      <td>0.0</td>\n",
       "      <td>...</td>\n",
       "      <td>0.0</td>\n",
       "      <td>332.0</td>\n",
       "      <td>0.0</td>\n",
       "      <td>6</td>\n",
       "      <td>4.0</td>\n",
       "      <td>37.0</td>\n",
       "      <td>14.0</td>\n",
       "      <td>11.0</td>\n",
       "      <td>6.0</td>\n",
       "      <td>8.0</td>\n",
       "    </tr>\n",
       "    <tr>\n",
       "      <th>4</th>\n",
       "      <td>5</td>\n",
       "      <td>14</td>\n",
       "      <td>485.0</td>\n",
       "      <td>0.0</td>\n",
       "      <td>99.0</td>\n",
       "      <td>0.0</td>\n",
       "      <td>0.0</td>\n",
       "      <td>0.0</td>\n",
       "      <td>0.0</td>\n",
       "      <td>0.0</td>\n",
       "      <td>...</td>\n",
       "      <td>0.0</td>\n",
       "      <td>11.0</td>\n",
       "      <td>0.0</td>\n",
       "      <td>16</td>\n",
       "      <td>2.0</td>\n",
       "      <td>1.0</td>\n",
       "      <td>1.0</td>\n",
       "      <td>1.0</td>\n",
       "      <td>3.0</td>\n",
       "      <td>0.0</td>\n",
       "    </tr>\n",
       "    <tr>\n",
       "      <th>...</th>\n",
       "      <td>...</td>\n",
       "      <td>...</td>\n",
       "      <td>...</td>\n",
       "      <td>...</td>\n",
       "      <td>...</td>\n",
       "      <td>...</td>\n",
       "      <td>...</td>\n",
       "      <td>...</td>\n",
       "      <td>...</td>\n",
       "      <td>...</td>\n",
       "      <td>...</td>\n",
       "      <td>...</td>\n",
       "      <td>...</td>\n",
       "      <td>...</td>\n",
       "      <td>...</td>\n",
       "      <td>...</td>\n",
       "      <td>...</td>\n",
       "      <td>...</td>\n",
       "      <td>...</td>\n",
       "      <td>...</td>\n",
       "      <td>...</td>\n",
       "    </tr>\n",
       "    <tr>\n",
       "      <th>34209</th>\n",
       "      <td>36348</td>\n",
       "      <td>4</td>\n",
       "      <td>2.0</td>\n",
       "      <td>0.0</td>\n",
       "      <td>0.0</td>\n",
       "      <td>0.0</td>\n",
       "      <td>0.0</td>\n",
       "      <td>0.0</td>\n",
       "      <td>0.0</td>\n",
       "      <td>0.0</td>\n",
       "      <td>...</td>\n",
       "      <td>0.0</td>\n",
       "      <td>2.0</td>\n",
       "      <td>0.0</td>\n",
       "      <td>3</td>\n",
       "      <td>0.0</td>\n",
       "      <td>0.0</td>\n",
       "      <td>0.0</td>\n",
       "      <td>0.0</td>\n",
       "      <td>0.0</td>\n",
       "      <td>0.0</td>\n",
       "    </tr>\n",
       "    <tr>\n",
       "      <th>34210</th>\n",
       "      <td>36349</td>\n",
       "      <td>4</td>\n",
       "      <td>458.0</td>\n",
       "      <td>458.0</td>\n",
       "      <td>0.0</td>\n",
       "      <td>0.0</td>\n",
       "      <td>0.0</td>\n",
       "      <td>0.0</td>\n",
       "      <td>0.0</td>\n",
       "      <td>0.0</td>\n",
       "      <td>...</td>\n",
       "      <td>0.0</td>\n",
       "      <td>1.0</td>\n",
       "      <td>0.0</td>\n",
       "      <td>6</td>\n",
       "      <td>0.0</td>\n",
       "      <td>0.0</td>\n",
       "      <td>8.0</td>\n",
       "      <td>1.0</td>\n",
       "      <td>3.0</td>\n",
       "      <td>1.0</td>\n",
       "    </tr>\n",
       "    <tr>\n",
       "      <th>34211</th>\n",
       "      <td>36350</td>\n",
       "      <td>38</td>\n",
       "      <td>443.0</td>\n",
       "      <td>10.0</td>\n",
       "      <td>27.0</td>\n",
       "      <td>0.0</td>\n",
       "      <td>0.0</td>\n",
       "      <td>0.0</td>\n",
       "      <td>0.0</td>\n",
       "      <td>0.0</td>\n",
       "      <td>...</td>\n",
       "      <td>0.0</td>\n",
       "      <td>15.0</td>\n",
       "      <td>0.0</td>\n",
       "      <td>9</td>\n",
       "      <td>0.0</td>\n",
       "      <td>0.0</td>\n",
       "      <td>0.0</td>\n",
       "      <td>5.0</td>\n",
       "      <td>2.0</td>\n",
       "      <td>0.0</td>\n",
       "    </tr>\n",
       "    <tr>\n",
       "      <th>34212</th>\n",
       "      <td>36351</td>\n",
       "      <td>104</td>\n",
       "      <td>795.0</td>\n",
       "      <td>332.0</td>\n",
       "      <td>127.0</td>\n",
       "      <td>0.0</td>\n",
       "      <td>0.0</td>\n",
       "      <td>0.0</td>\n",
       "      <td>0.0</td>\n",
       "      <td>0.0</td>\n",
       "      <td>...</td>\n",
       "      <td>0.0</td>\n",
       "      <td>359.0</td>\n",
       "      <td>0.0</td>\n",
       "      <td>20</td>\n",
       "      <td>3.0</td>\n",
       "      <td>12.0</td>\n",
       "      <td>51.0</td>\n",
       "      <td>73.0</td>\n",
       "      <td>14.0</td>\n",
       "      <td>2.0</td>\n",
       "    </tr>\n",
       "    <tr>\n",
       "      <th>34213</th>\n",
       "      <td>36352</td>\n",
       "      <td>4</td>\n",
       "      <td>36.0</td>\n",
       "      <td>0.0</td>\n",
       "      <td>0.0</td>\n",
       "      <td>0.0</td>\n",
       "      <td>0.0</td>\n",
       "      <td>0.0</td>\n",
       "      <td>0.0</td>\n",
       "      <td>0.0</td>\n",
       "      <td>...</td>\n",
       "      <td>0.0</td>\n",
       "      <td>2.0</td>\n",
       "      <td>0.0</td>\n",
       "      <td>2</td>\n",
       "      <td>0.0</td>\n",
       "      <td>0.0</td>\n",
       "      <td>5.0</td>\n",
       "      <td>0.0</td>\n",
       "      <td>2.0</td>\n",
       "      <td>1.0</td>\n",
       "    </tr>\n",
       "  </tbody>\n",
       "</table>\n",
       "<p>34214 rows × 62 columns</p>\n",
       "</div>"
      ],
      "text/plain": [
       "        ppid  entry_count     LOS  Cancer  Cardiaovascular  Demetia  Diabetes  \\\n",
       "0          1           17   670.0     0.0            137.0      0.0       0.0   \n",
       "1          2           16   101.0     0.0              0.0      0.0       0.0   \n",
       "2          3           83  3202.0     0.0              0.0      0.0       0.0   \n",
       "3          4           57   484.0     0.0              4.0      0.0      26.0   \n",
       "4          5           14   485.0     0.0             99.0      0.0       0.0   \n",
       "...      ...          ...     ...     ...              ...      ...       ...   \n",
       "34209  36348            4     2.0     0.0              0.0      0.0       0.0   \n",
       "34210  36349            4   458.0   458.0              0.0      0.0       0.0   \n",
       "34211  36350           38   443.0    10.0             27.0      0.0       0.0   \n",
       "34212  36351          104   795.0   332.0            127.0      0.0       0.0   \n",
       "34213  36352            4    36.0     0.0              0.0      0.0       0.0   \n",
       "\n",
       "       Explicit Sepsis  Immune_system  Implicit sepsis  ...    3       4    5  \\\n",
       "0                  0.0            0.0              0.0  ...  0.0    99.0  0.0   \n",
       "1                  0.0            0.0              0.0  ...  0.0    22.0  0.0   \n",
       "2                344.0            0.0              0.0  ...  0.0  1025.0  0.0   \n",
       "3                  0.0            0.0              0.0  ...  0.0   332.0  0.0   \n",
       "4                  0.0            0.0              0.0  ...  0.0    11.0  0.0   \n",
       "...                ...            ...              ...  ...  ...     ...  ...   \n",
       "34209              0.0            0.0              0.0  ...  0.0     2.0  0.0   \n",
       "34210              0.0            0.0              0.0  ...  0.0     1.0  0.0   \n",
       "34211              0.0            0.0              0.0  ...  0.0    15.0  0.0   \n",
       "34212              0.0            0.0              0.0  ...  0.0   359.0  0.0   \n",
       "34213              0.0            0.0              0.0  ...  0.0     2.0  0.0   \n",
       "\n",
       "       nsml_test_count  nsml_positive_test_count  Trombo_abnormal_test_count  \\\n",
       "0                   12                       1.0                         0.0   \n",
       "1                    6                       3.0                         1.0   \n",
       "2                    9                       0.0                         1.0   \n",
       "3                    6                       4.0                        37.0   \n",
       "4                   16                       2.0                         1.0   \n",
       "...                ...                       ...                         ...   \n",
       "34209                3                       0.0                         0.0   \n",
       "34210                6                       0.0                         0.0   \n",
       "34211                9                       0.0                         0.0   \n",
       "34212               20                       3.0                        12.0   \n",
       "34213                2                       0.0                         0.0   \n",
       "\n",
       "       CRP_abnormal_test_count  Kreatin_abnormal_test_count  \\\n",
       "0                         14.0                          0.0   \n",
       "1                          4.0                          0.0   \n",
       "2                         13.0                          0.0   \n",
       "3                         14.0                         11.0   \n",
       "4                          1.0                          1.0   \n",
       "...                        ...                          ...   \n",
       "34209                      0.0                          0.0   \n",
       "34210                      8.0                          1.0   \n",
       "34211                      0.0                          5.0   \n",
       "34212                     51.0                         73.0   \n",
       "34213                      5.0                          0.0   \n",
       "\n",
       "       Leuko_abnormal_test_count  Bilirub_abnormal_test_count  \n",
       "0                            9.0                          0.0  \n",
       "1                            0.0                          1.0  \n",
       "2                            0.0                          0.0  \n",
       "3                            6.0                          8.0  \n",
       "4                            3.0                          0.0  \n",
       "...                          ...                          ...  \n",
       "34209                        0.0                          0.0  \n",
       "34210                        3.0                          1.0  \n",
       "34211                        2.0                          0.0  \n",
       "34212                       14.0                          2.0  \n",
       "34213                        2.0                          1.0  \n",
       "\n",
       "[34214 rows x 62 columns]"
      ]
     },
     "execution_count": 75,
     "metadata": {},
     "output_type": "execute_result"
    }
   ],
   "source": [
    "CaseLog"
   ]
  },
  {
   "cell_type": "markdown",
   "id": "fc7cca89-6b27-4f47-ac79-9f12161ed93c",
   "metadata": {},
   "source": [
    "Grouping Patient based on death date"
   ]
  },
  {
   "cell_type": "code",
   "execution_count": 76,
   "id": "d9b964b1-74a9-40d2-8711-345e6782fac9",
   "metadata": {},
   "outputs": [],
   "source": [
    "pasient_dead = pasient.dropna(subset=['dødsdato'])\n",
    "patients_dead = pasient_dead['ppid'].tolist()"
   ]
  },
  {
   "cell_type": "code",
   "execution_count": 77,
   "id": "b440ac1c-7299-4182-9e15-b8d033d03938",
   "metadata": {},
   "outputs": [],
   "source": [
    "pasient['live'] = pasient[['dødsdato']].where(pasient[['dødsdato']].isnull(), 0).fillna(1).astype(int)"
   ]
  },
  {
   "cell_type": "code",
   "execution_count": 78,
   "id": "725729a1-42a6-41b9-8af8-966293ec8e1f",
   "metadata": {},
   "outputs": [],
   "source": [
    "pasients_alive = pasient.loc[pasient['live'] == 1]\n",
    "patients_alive = pasients_alive.ppid.unique().tolist()"
   ]
  },
  {
   "cell_type": "code",
   "execution_count": 79,
   "id": "8dab077b-99de-473f-ad24-9273a98f8585",
   "metadata": {},
   "outputs": [],
   "source": [
    "nimess_dead = nimess[nimess['ppid'].isin(patients_dead)]\n",
    "pasient_dead = pasient[pasient['ppid'].isin(patients_dead)]\n",
    "pasient_dead = pasient_dead.sort_values(by=['ppid'])"
   ]
  },
  {
   "cell_type": "code",
   "execution_count": 80,
   "id": "51818860-901c-4cf2-b063-eb5151edce4b",
   "metadata": {},
   "outputs": [],
   "source": [
    "nimess_dead_lastdate = nimess_dead.sort_values('utdatotid').drop_duplicates('ppid', keep='last')\n",
    "nimess_dead_lastdate_deathdate = pd.merge(nimess_dead_lastdate, pasient_dead, on=\"ppid\")\n",
    "nimess_dead_lastdate_deathdate['Difference'] = (nimess_dead_lastdate_deathdate['dødsdato'] - nimess_dead_lastdate_deathdate['utdatotid']).dt.days\n",
    "nimess_dead_lastdate_deathdate_close = nimess_dead_lastdate_deathdate.loc[nimess_dead_lastdate_deathdate['Difference'] <= 30]"
   ]
  },
  {
   "cell_type": "code",
   "execution_count": 81,
   "id": "62111016-4b1f-4135-933e-dd3b985d1843",
   "metadata": {
    "tags": []
   },
   "outputs": [
    {
     "data": {
      "text/plain": [
       "Cancer             1812\n",
       "Infection          1793\n",
       "Cardiaovascular    1380\n",
       "Implicit sepsis     823\n",
       "Other               577\n",
       "Explicit Sepsis     482\n",
       "Diabetes            309\n",
       "Lung                131\n",
       "Kidney_dialysis      59\n",
       "Demetia              32\n",
       "Liver                14\n",
       "Immune_system         6\n",
       "Name: label, dtype: int64"
      ]
     },
     "execution_count": 81,
     "metadata": {},
     "output_type": "execute_result"
    }
   ],
   "source": [
    "nimess_dead_lastdate_deathdate_close.label.value_counts()"
   ]
  },
  {
   "cell_type": "code",
   "execution_count": 82,
   "id": "41e68237-0e82-428d-9f48-6cae87bdbbc4",
   "metadata": {},
   "outputs": [],
   "source": [
    "High_Risk_Patient = nimess_dead_lastdate_deathdate_close.ppid.unique().tolist()"
   ]
  },
  {
   "cell_type": "code",
   "execution_count": 83,
   "id": "527e494f-02ad-4c65-a748-ea3449aff6fa",
   "metadata": {},
   "outputs": [],
   "source": [
    "High_Risk_Patient_imp = nimess_dead_lastdate_deathdate_close.loc[nimess_dead_lastdate_deathdate_close['label'] == 'Implicit sepsis']\n",
    "High_Risk_Patient_inf = nimess_dead_lastdate_deathdate_close.loc[nimess_dead_lastdate_deathdate_close['label'] == 'Infection']\n",
    "High_Risk_Patient_exp = nimess_dead_lastdate_deathdate_close.loc[nimess_dead_lastdate_deathdate_close['label'] == 'Explicit Sepsis']"
   ]
  },
  {
   "cell_type": "code",
   "execution_count": 84,
   "id": "4d1dfacd-e8df-49e5-ae32-022772b99c51",
   "metadata": {},
   "outputs": [],
   "source": [
    "High_Risk_Patient_imp = High_Risk_Patient_imp.ppid.unique().tolist()\n",
    "High_Risk_Patient_inf = High_Risk_Patient_inf.ppid.unique().tolist()\n",
    "High_Risk_Patient_exp = High_Risk_Patient_exp.ppid.unique().tolist()"
   ]
  },
  {
   "cell_type": "code",
   "execution_count": 85,
   "id": "1204bba7-105e-4180-9b52-8aff1f8780d8",
   "metadata": {},
   "outputs": [
    {
     "name": "stdout",
     "output_type": "stream",
     "text": [
      "823 1793 482\n"
     ]
    }
   ],
   "source": [
    "print(len(High_Risk_Patient_imp), len(High_Risk_Patient_inf), len(High_Risk_Patient_exp))"
   ]
  },
  {
   "cell_type": "code",
   "execution_count": 86,
   "id": "ad249b4f-ac38-4cde-90e8-01b576c03bcd",
   "metadata": {},
   "outputs": [
    {
     "data": {
      "text/plain": [
       "7418"
      ]
     },
     "execution_count": 86,
     "metadata": {},
     "output_type": "execute_result"
    }
   ],
   "source": [
    "len(High_Risk_Patient)"
   ]
  },
  {
   "cell_type": "code",
   "execution_count": 87,
   "id": "4f6a3432-a17d-458a-872b-d8e2e79c2b03",
   "metadata": {},
   "outputs": [],
   "source": [
    "Unknown_Risk = list(set(patients_dead) - set(High_Risk_Patient))"
   ]
  },
  {
   "cell_type": "code",
   "execution_count": 88,
   "id": "927c47bb-08d3-4af9-b960-899fd1898bdb",
   "metadata": {},
   "outputs": [
    {
     "data": {
      "text/plain": [
       "23859"
      ]
     },
     "execution_count": 88,
     "metadata": {},
     "output_type": "execute_result"
    }
   ],
   "source": [
    "len(patients_alive)"
   ]
  },
  {
   "cell_type": "code",
   "execution_count": 89,
   "id": "0ccf4b60-3b12-40b2-b78d-73cea15e0d44",
   "metadata": {},
   "outputs": [],
   "source": [
    "CaseLog['high_risk'] = CaseLog.ppid.isin(High_Risk_Patient)\n",
    "CaseLog['implicit_risk'] = CaseLog.ppid.isin(High_Risk_Patient_imp)\n",
    "CaseLog['explicit_risk'] = CaseLog.ppid.isin(High_Risk_Patient_exp)\n",
    "CaseLog['infection_risk'] = CaseLog.ppid.isin(High_Risk_Patient_inf)\n",
    "CaseLog['unknown_risk'] = CaseLog.ppid.isin(Unknown_Risk)\n",
    "CaseLog['alive'] = CaseLog.ppid.isin(patients_alive)\n",
    "\n",
    "def Rconditions(s):\n",
    "    if (s['implicit_risk'] == True):\n",
    "        return 'implicit_death<30'\n",
    "    elif (s['explicit_risk'] == True):\n",
    "        return 'explicit_death<30'\n",
    "    elif (s['infection_risk'] == True):\n",
    "        return 'infection_death<30'\n",
    "    elif (s['high_risk'] == True):\n",
    "        return 'death<30'\n",
    "    elif (s['unknown_risk'] == True):\n",
    "        return 'death>30'\n",
    "    elif (s['alive'] == True):\n",
    "        return 'alive'\n",
    "    else:\n",
    "        return 'unknown'\n",
    "\n",
    "CaseLog['Risk'] = CaseLog.apply(Rconditions, axis=1)"
   ]
  },
  {
   "cell_type": "code",
   "execution_count": 90,
   "id": "f6fe868a-e568-4701-aef4-f644907931ac",
   "metadata": {
    "tags": []
   },
   "outputs": [
    {
     "data": {
      "text/plain": [
       "alive                 22637\n",
       "death>30               4283\n",
       "death<30               4266\n",
       "infection_death<30     1766\n",
       "implicit_death<30       797\n",
       "explicit_death<30       465\n",
       "Name: Risk, dtype: int64"
      ]
     },
     "execution_count": 90,
     "metadata": {},
     "output_type": "execute_result"
    }
   ],
   "source": [
    "CaseLog['Risk'].value_counts()"
   ]
  },
  {
   "cell_type": "code",
   "execution_count": 91,
   "id": "0dd9e54b-283e-48a0-b403-598cdcb984c7",
   "metadata": {},
   "outputs": [],
   "source": [
    "CaseLog.rename(columns = {1:'time_under_akutt', 2:'Innen_6_timer'}, inplace = True)\n",
    "CaseLog.rename(columns = {3:'Mellom_6_og_24_timer', 4:'Planlagt_>24_t' , 5:'Tilbakef_av_pas_fra_annet_sykeh.'}, inplace = True)"
   ]
  },
  {
   "cell_type": "code",
   "execution_count": 92,
   "id": "a5602ae2-39bc-4fd8-b4c9-45e5fcb89ab4",
   "metadata": {},
   "outputs": [],
   "source": [
    "CaseLog['kjønn'] = CaseLog['kjønn'].map({'Mann': True, 'Kvinne': False})  \n",
    "CaseLog['kjønn'] = CaseLog['kjønn'].astype(int)"
   ]
  },
  {
   "cell_type": "code",
   "execution_count": 93,
   "id": "9f7962b3-416a-4132-8cff-aff6adca2d61",
   "metadata": {},
   "outputs": [
    {
     "data": {
      "text/plain": [
       "Index(['ppid', 'entry_count', 'LOS', 'Cancer', 'Cardiaovascular', 'Demetia',\n",
       "       'Diabetes', 'Explicit Sepsis', 'Immune_system', 'Implicit sepsis',\n",
       "       'Infection', 'Kidney_dialysis', 'Liver', 'Lung', 'Other', 'visit_count',\n",
       "       'admission_count', 'daycare_count', 'inpatient_count',\n",
       "       'total_time_between', 'avg_time_in_between', 'first_entry',\n",
       "       'last_entry', 'Length_of_history', 'time_to_previous', 'severity_last',\n",
       "       'visit_type_last', 'time_between_last_2last', 'severity_2ndlast',\n",
       "       'visit_type_2ndlast', 'LOS_2ndLast', 'time_between_2last_3last',\n",
       "       'severity_3rdlast', 'visit_type_3rdlast', 'LOS_3rdLast',\n",
       "       'explicit_flag', 'infection_flag', 'implicit_flag', 'Diabetes_flag',\n",
       "       'Cardiaovascular_flag', 'Cancer_flag', 'Lung_flag', 'Demetia_flag',\n",
       "       'Kidney_dialysis_flag', 'Liver_flag', 'ICU_visit_count', 'ICU_LOS',\n",
       "       'kjønn', 'age_at_first_visit', 'age_at_last_visit', 'time_under_akutt',\n",
       "       'Innen_6_timer', 'Mellom_6_og_24_timer', 'Planlagt_>24_t',\n",
       "       'Tilbakef_av_pas_fra_annet_sykeh.', 'nsml_test_count',\n",
       "       'nsml_positive_test_count', 'Trombo_abnormal_test_count',\n",
       "       'CRP_abnormal_test_count', 'Kreatin_abnormal_test_count',\n",
       "       'Leuko_abnormal_test_count', 'Bilirub_abnormal_test_count', 'high_risk',\n",
       "       'implicit_risk', 'explicit_risk', 'infection_risk', 'unknown_risk',\n",
       "       'alive', 'Risk'],\n",
       "      dtype='object')"
      ]
     },
     "execution_count": 93,
     "metadata": {},
     "output_type": "execute_result"
    }
   ],
   "source": [
    "CaseLog.columns"
   ]
  },
  {
   "cell_type": "code",
   "execution_count": 95,
   "id": "5936c91f-f0bf-4088-85f2-6e77fc0a8cc4",
   "metadata": {},
   "outputs": [],
   "source": [
    "CaseLog.drop(['ppid', 'first_entry', 'last_entry', 'total_time_between', 'severity_last', 'visit_type_last', 'Innen_6_timer', 'Mellom_6_og_24_timer', 'Planlagt_>24_t', 'Tilbakef_av_pas_fra_annet_sykeh.', 'high_risk', 'implicit_risk', 'explicit_risk', 'infection_risk', 'unknown_risk', 'alive' ], axis=1, inplace=True)"
   ]
  },
  {
   "cell_type": "code",
   "execution_count": 97,
   "id": "6a561058-64fe-4d86-92cf-27e0b770d0cd",
   "metadata": {},
   "outputs": [
    {
     "data": {
      "text/plain": [
       "Index(['Number_of_episodes', 'Length_of_stay',\n",
       "       'Time_hospitalized_for_cancer_episodes',\n",
       "       'Time_hospitalized_for_cardiovascular',\n",
       "       'Time_hospitalized_for_dementia', 'Time_hospitalized_for_Diabetes',\n",
       "       'Time_hospitalized_for_explicit_sepsis',\n",
       "       'Time_hospitalized_for_Immune_system',\n",
       "       'Time_hospitalized_for_implicit_sepsis',\n",
       "       'Time_hospitalized_for_infection',\n",
       "       'Time_hospitalized_for_Kidney_dialysis', 'Time_hospitalized_for_Liver',\n",
       "       'Time_hospitalized_for_Lung', 'Time_hospitalized_for_Other',\n",
       "       'poly_clinic_visits', 'admissions_count', 'daycare_count',\n",
       "       'inpatient_count', 'avg_time_in_between', 'Length_of_history',\n",
       "       'time_to_previous_episode', 'time_between_last_2last',\n",
       "       'severity_2ndlast', 'visit_type_2ndlast', 'LOS_2ndLast',\n",
       "       'time_between_2last_3last', 'severity_3rdlast', 'visit_type_3rdlast',\n",
       "       'LOS_3rdLast', 'Number_explicit_sepsis_episodes',\n",
       "       'Number_infection_episodes', 'Number_implicit_sepsis_episodes',\n",
       "       'Number_Diabetes_episodes', 'Number_Cardiovascular_episodes',\n",
       "       'Number_Cancer_episodes', 'Time_hospitalized_for_Lung',\n",
       "       'Time_hospitalized_for_Demetia', 'Kidney_dialysis_flag',\n",
       "       'Time_hospitalized_for_Liver', 'ICU_visit_count', 'ICU_LOS', 'gender',\n",
       "       'age_at_first_visit', 'age_at_last_visit', 'Time_under_acute_admission',\n",
       "       'microbiology_tests', 'positive_microbiology_results',\n",
       "       'Trombo_abnormal_test_count', 'CRP_abnormal_test_count',\n",
       "       'Kreatin_abnormal_test_count', 'Leuko_abnormal_test_count',\n",
       "       'Bilirub_abnormal_test_count', 'Risk'],\n",
       "      dtype='object')"
      ]
     },
     "execution_count": 97,
     "metadata": {},
     "output_type": "execute_result"
    }
   ],
   "source": [
    "CaseLog.columns"
   ]
  },
  {
   "cell_type": "code",
   "execution_count": 96,
   "id": "f3f5bb0b-0a4d-409a-a059-ec2d436e5fc3",
   "metadata": {},
   "outputs": [],
   "source": [
    "CaseLog = CaseLog.rename(columns={\"entry_count\": \"Number_of_episodes\", \n",
    "                                  \"LOS\": \"Length_of_stay\", \n",
    "                                  \"Cancer\": \"Time_hospitalized_for_cancer_episodes\",\n",
    "                                  \"Cardiaovascular\": \"Time_hospitalized_for_cardiovascular\", \n",
    "                                  \"Explicit Sepsis\": \"Time_hospitalized_for_explicit_sepsis\", \n",
    "                                  \"Implicit sepsis\": \"Time_hospitalized_for_implicit_sepsis\"\n",
    "                                 ,\"Infection\": \"Time_hospitalized_for_infection\", \n",
    "                                  \"visit_count\": \"poly_clinic_visits\", \n",
    "                                  \"admission_count\": \"admissions_count\"\n",
    "                                 ,\"total_time_between\": \"Time_between_episodes\", \n",
    "                                  \"avg_time_in_between\": \"avg_time_in_between\", \n",
    "                                  \"Length_of_history\": \"Length_of_history\"\n",
    "                                 ,\"time_to_previous\": \"time_to_previous_episode\"\n",
    "                                 ,\"explicit_flag\": \"Number_explicit_sepsis_episodes\", \n",
    "                                  \"infection_flag\": \"Number_infection_episodes\", \n",
    "                                  \"implicit_flag\": \"Number_implicit_sepsis_episodes\"\n",
    "                                 ,\"Cardiaovascular_flag\": \"Number_Cardiovascular_episodes\", \n",
    "                                  \"Cancer_flag\": \"Number_Cancer_episodes\", \n",
    "                                  \"time_under_akutt\": \"Time_under_acute_admission\", \n",
    "                                  \"Demetia\": \"Time_hospitalized_for_dementia\", \n",
    "                                  \"Diabetes\": \"Time_hospitalized_for_Diabetes\", \n",
    "                                 \"Immune_system\": \"Time_hospitalized_for_Immune_system\", \n",
    "                                  \"Kidney_dialysis\": \"Time_hospitalized_for_Kidney_dialysis\",\n",
    "                                 \"Liver\": \"Time_hospitalized_for_Liver\", \n",
    "                                  \"Lung\": \"Time_hospitalized_for_Lung\", \n",
    "                                 \"Other\": \"Time_hospitalized_for_Other\",\n",
    "                                  \"Diabetes_flag\": \"Number_Diabetes_episodes\",\n",
    "                                 \"Lung_flag\": \"Time_hospitalized_for_Lung\", \n",
    "                                  \"Demetia_flag\": \"Time_hospitalized_for_Demetia\",\n",
    "                                  \"Liver_flag\": \"Time_hospitalized_for_Liver\",\n",
    "                                 \"nsml_test_count\" : \"microbiology_tests\", \n",
    "                                  \"nsml_positive_test_count\" : \"positive_microbiology_results\",\n",
    "                                 \"kjønn\": \"gender\"})"
   ]
  },
  {
   "cell_type": "code",
   "execution_count": 98,
   "id": "3ac6e161-2b57-4cd1-9d6c-cd612e23780b",
   "metadata": {},
   "outputs": [],
   "source": [
    "CaseLog = CaseLog.rename(columns={\"Risk\": \"Survived\"})"
   ]
  },
  {
   "cell_type": "code",
   "execution_count": 99,
   "id": "3ca2e88a-824c-4c98-8780-d01bacb397dc",
   "metadata": {},
   "outputs": [],
   "source": [
    "CaseLog.to_csv('CaseLog_070223.csv')"
   ]
  },
  {
   "cell_type": "code",
   "execution_count": 100,
   "id": "818f3488-d26f-47b2-9fe1-c7618c0c1bdd",
   "metadata": {},
   "outputs": [
    {
     "data": {
      "text/plain": [
       "(34214, 53)"
      ]
     },
     "execution_count": 100,
     "metadata": {},
     "output_type": "execute_result"
    }
   ],
   "source": [
    "CaseLog.shape"
   ]
  },
  {
   "cell_type": "code",
   "execution_count": null,
   "id": "0cc03ce9-b874-4e38-8815-98538adddc4f",
   "metadata": {},
   "outputs": [],
   "source": []
  },
  {
   "cell_type": "code",
   "execution_count": null,
   "id": "1cb241df-a615-4f0e-b3cc-1ca8c3190978",
   "metadata": {},
   "outputs": [],
   "source": []
  },
  {
   "cell_type": "code",
   "execution_count": null,
   "id": "5cdf00d8-868c-4227-87bf-e41f16a5e4cb",
   "metadata": {},
   "outputs": [],
   "source": []
  },
  {
   "cell_type": "code",
   "execution_count": null,
   "id": "0f73fad3-de8c-4662-bff9-a9b16b94a699",
   "metadata": {},
   "outputs": [],
   "source": []
  },
  {
   "cell_type": "code",
   "execution_count": null,
   "id": "2af63f14-64c1-4c26-a314-c3dfd94e8f65",
   "metadata": {},
   "outputs": [],
   "source": []
  },
  {
   "cell_type": "code",
   "execution_count": null,
   "id": "9653cc69-1c55-49c0-87dd-d19a4eebc745",
   "metadata": {},
   "outputs": [],
   "source": []
  },
  {
   "cell_type": "code",
   "execution_count": null,
   "id": "8d0fbd96-ada5-462e-a579-e9e799f08cd4",
   "metadata": {},
   "outputs": [],
   "source": []
  },
  {
   "cell_type": "code",
   "execution_count": null,
   "id": "2f999b08-fa87-4c9e-8534-b9d6daa3c77f",
   "metadata": {},
   "outputs": [],
   "source": []
  }
 ],
 "metadata": {
  "kernelspec": {
   "display_name": "Python 3 (ipykernel)",
   "language": "python",
   "name": "python3"
  },
  "language_info": {
   "codemirror_mode": {
    "name": "ipython",
    "version": 3
   },
   "file_extension": ".py",
   "mimetype": "text/x-python",
   "name": "python",
   "nbconvert_exporter": "python",
   "pygments_lexer": "ipython3",
   "version": "3.7.11"
  }
 },
 "nbformat": 4,
 "nbformat_minor": 5
}
