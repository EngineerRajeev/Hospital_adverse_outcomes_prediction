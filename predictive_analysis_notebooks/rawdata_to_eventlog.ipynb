{
 "cells": [
  {
   "cell_type": "code",
   "execution_count": 1,
   "id": "5a4acd9a-338b-42ce-bd01-174c2d8bff92",
   "metadata": {
    "tags": []
   },
   "outputs": [],
   "source": [
    "import numpy as np\n",
    "import pandas as pd\n",
    "import datetime\n",
    "from collections import OrderedDict\n",
    "from collections import Counter\n",
    "import re\n"
   ]
  },
  {
   "cell_type": "code",
   "execution_count": 8,
   "id": "269c0e63-b155-4cfd-a0e4-d92768a30ff6",
   "metadata": {
    "tags": []
   },
   "outputs": [],
   "source": [
    "explicitsepsis = ['A021','A207','A217','A227','A241','A267','A282','A327','A394','A40','A41','A427','B007','B377']\n",
    "\n",
    "infection =['A00','A01','A02','A03','A04','A05','A06','A07','A08','A09','A19', 'A20','A21','A22','A23','A24','A25','A26','A27','A28','A30','A31','A32','A36','A37','A38','A39','A42', 'A43', 'A44', 'A46','A48','A49','A54','A59','A690','A691','A699','A70','A74',\n",
    "            'A75','A77','A78','A79','A80','A81','A83','A84','A85','A86','A87', 'A88','A89','A90','A91','A92','A93','A94','A95','A96','A97','A98', 'A99','B00','B01','B02','B03','B04','B05','B06','B08','B09','B10','B25','B26','B27',\n",
    "            'B33','B34','B37','B38','B39','B40','B41','B42','B43','B44','B45','B46','B48','B49','B50','B54','B55','B57','B58','B59','B60','B64','B67','B95','B96','B97','B99','G00','G01','G02','G03','G04','G05','G06','G07','G08','H050',\n",
    "            'H602','H700','I00','I33','I38','I39','I400','J01','J02','J03','J04','J05','J06','J09','J10','J11','J12','J13','J14','J15','J16','J17','J18','J19','J20','J21','J22','J36','J390','J391','J85','J86','K35','K36','K37','K61','K630',\n",
    "            'K631','K65','K750''K810', 'K830','L02','L03','L030','L04','L08','M00','M01','M86','N10','N151','N30','N390','N410','N412','N413','N45','N70','N71','N72','N73','N74', 'N980','O030','O035','O045','O080','O23','O753', 'O85',\n",
    "            'O86','O883','O91','O98','R02','T802','T814','T826''T827','T835','T836','T845','T846','T847','T857','T880', 'U04', 'M726', 'N49', 'U071', 'U072']\n",
    "\n",
    "organdysfunction = ['D695','E872','G934','I46','I959','J80','J952','J96','K720','K729','N00','N17','R090','R092','R400','R401','R402','R41', 'R55', 'R57', 'R651', 'R572']\n",
    "                  \n",
    "diabetes = ['E10', 'E11', 'E12', 'E13', 'E14']\n",
    "\n",
    "cardiovascular = ['G45', 'H34', 'I00', 'I01', 'I02', 'I03', 'I04', 'I05', 'I06', 'I07', 'I08', 'I09', 'I10', 'I11', 'I12', 'I13', 'I14', 'I15', 'I16', 'I17', 'I18', 'I19', 'I20', 'I21', 'I22', 'I23', 'I24', 'I25', 'I26', 'I27', 'I28', 'I29', 'I30',\n",
    "                  'I31', 'I32', 'I33', 'I34', 'I35', 'I36', 'I37', 'I38', 'I39', 'I40', 'I41', 'I42', 'I43', 'I44', 'I45', 'I46', 'I47', 'I48', 'I49', 'I50', 'I51', 'I52', 'I53', 'I54', 'I55', 'I56', 'I57', 'I58', 'I59', 'I60',\n",
    "                  'I61', 'I62', 'I63', 'I64', 'I65', 'I66', 'I67', 'I68', 'I69', 'I70', 'I71', 'I72', 'I73', 'I74', 'I75', 'I76', 'I77', 'I78', 'I79', 'I80', 'I81', '182', 'I83', 'I84', 'I85', 'I86', 'I87', 'I88', 'I89', 'I90', 'I91', 'I92', 'I93', \n",
    "                   'I94', 'I95', 'I96', 'I97', 'I98', 'I99']\n",
    "\n",
    "cancer = ['C00', 'C01', 'C02', 'C03', 'C04', 'C05', 'C06', 'C07', 'C08', 'C09', 'C10', 'C11', 'C12', 'C13', 'C14', 'C15', 'C16', 'C17', 'C18', 'C19','C20', 'C21', 'C22', 'C23', 'C24', 'C25', 'C26', 'C27', 'C28', 'C29',\n",
    "         'C30', 'C31', 'C32', 'C33', 'C34', 'C35', 'C36', 'C37', 'C38', 'C39', 'C40', 'C41', 'C42', 'C43', 'C44', 'C45', 'C46', 'C47', 'C48', 'C49','C50', 'C51', 'C52', 'C53', 'C54', 'C55', 'C56', 'C57', 'C58', 'C59',\n",
    "          'C60', 'C61', 'C62', 'C63', 'C64', 'C65', 'C66', 'C67', 'C68', 'C69', 'C70', 'C71', 'C72', 'C73', 'C74', 'C75', 'C76', 'C77', 'C78', 'C79','C80', 'C81', 'C82', 'C83', 'C84', 'C85', 'C86', 'C87', 'C88', 'C89',\n",
    "         'C90', 'C91', 'C92', 'C93', 'C94', 'C95', 'C96', 'C97', 'D32', 'D33', 'D35', 'D42', 'D43', 'D44', 'D45', 'D46', 'D47' ]\n",
    "\n",
    "lung = ['J41', 'J42', 'J43', 'J44', 'J45', 'J46', 'J47', 'J84', 'J98']\n",
    "\n",
    "dementia = ['F00', 'F02', 'F03', 'G30', 'G31']\n",
    "\n",
    "kidney_dialysis = ['N18']\n",
    "\n",
    "liver = ['K70', 'K72']\n",
    "\n",
    "immune_system = ['D80', 'D81', 'D82', 'D83', 'D84', 'Z94']\n",
    "\n",
    "pneumonia = ['J13', 'J14', 'J15', 'J16', 'J18', 'A48']\n",
    "\n",
    "intraabdominalinfection = ['K35', 'K37', 'K65', 'K80', 'K81', 'K83']\n",
    "\n",
    "urinarytractinfection = ['N10', 'N12', 'N39']\n",
    "\n",
    "centralnervoussystem = ['A39', 'G00', 'G01', 'G042']\n",
    "\n",
    "skinandsofttissueinfection = ['A46', 'L03', 'M726', 'M00', 'M013', 'M86']\n",
    "\n",
    "sepsis = ['A40', 'A41', 'A483', 'R572', 'B95', 'B96']\n",
    "\n",
    "endocarditis = ['I33', 'I38']\n",
    "\n",
    "contaminants = ['BACILLUS CEREUS', 'STREPTOCOCCUS EQUI SSP EQUI', 'BACILLUS CIRCULANS', 'STREPTOCOCCUS EQUI SSP ZOOEPIDEMICUS', 'BACILLUS FIRMUS',\n",
    "                'STREPTOCOCCUS GORDONII', 'BACILLUS LICHENIFORMIS', 'STREPTOCOCCUS INTERMEDIUS', 'BACILLUS MEGATERIUM\t•\tSTREPTOCOCCUS MITIS', 'BACILLUS PUMILUS', \n",
    "                 'STREPTOCOCCUS MITIS', 'STREPTOCOCCUS ORALIS', 'BACILLUS SPECIES', 'STREPTOCOCCUS MUTANS', 'BACILLUS SPHAERICUS', 'STREPTOCOCCUS PYOGENES', \n",
    "                 'BACILLUS SUBTILIS', 'STREPTOCOCCUS SALIVARIUS', 'COAGULASE NEGATIVE STAPHYLOCOCCUS', 'STREPTOCOCCUS SANGUINIS', 'CORYNEBACTERIUM JEIKEIUM',\n",
    "                 'STREPTOCOCCUS VESTIBULARIS', 'CORYNEBACTERIUM SPECIES', 'STREPTOCOCCUS VIRIDANS GROUP', 'CORYNEBACTERIUM XEROSIS', 'MICROCOCCUS LUTEUS', \n",
    "                 'MICROCOCCUS LYLAE', 'MICROCOCCUS LUTEUS', 'STAPHYLOCOCCUS ARLETTAE','MICROCOCCUS SPECIES', 'STAPHYLOCOCCUS CAPRAE', 'STAPHYLOCOCCUS SPP',\n",
    "                 'STAPHYLOCOCCUS CARNOSUS SSP CARNOSUS', 'STAPHYLOCOCCUS AUREUS', 'STAPHYLOCOCCUS GALLINARUM', 'STAPHYLOCOCCUS AURICULARIS', \n",
    "                'STAPHYLOCOCCUS HOMINIS SSP HOMINIS','STAPHYLOCOCCUS CAPITIS', 'STREPTOCOCCUS ALACTOLYTICUS', 'STAPHYLOCOCCUS COHNII SSP COHNII', 'STREPTOCOCCUS CRISTATUS',\n",
    "                'STAPHYLOCOCCUS COHNII SSP UREALYTICUS',\n",
    "                 'STREPTOCOCCUS CONSTELLATUS SSP CONSTELLATUS','STAPHYLOCOCCUS EPIDERMIDIS', 'STREPTOCOCCUS CONSTELLATUS SSP PHARYNGIS', 'STAPHYLOCOCCUS HAEMOLYTICUS', \n",
    "                'STREPTOCOCCUS HYOINTESTINALIS', 'STAPHYLOCOCCUS HOMINIS', 'STREPTOCOCCUS MITIS/STREPTOCOCCUS ORALIS', \n",
    "                 'STAPHYLOCOCCUS INTERMEDIUS', 'STREPTOCOCCUS  PARASANGUINIS', 'STAPHYLOCOCCUS KLOOSII', 'STREPTOCOCCUS PLURANIMALIUM', 'STAPHYLOCOCCUS LENTUS', \n",
    "                'STREPTOCOCCUS SOBRINUS', 'STAPHYLOCOCCUS LUGDUNENSIS','STREPTOCOCCUS THERMOPHILUS', 'STAPHYLOCOCCUS SACCHAROLYTICUS', 'STREPTOCOCCUS THORALTENSIS', \n",
    "                'STAPHYLOCOCCUS SAPROPHYTICUS', 'STREPTOCOCCUS SPP', 'STAPHYLOCOCCUS SCHLEIFERI', 'DIPHTHEROIDS SPP', 'STAPHYLOCOCCUS SCIURI',\n",
    "                 'CORYNEBACTERIUM STRIATUM', 'STAPHYLOCOCCUS SIMULANS', 'NON HAEMOLYTIC STREPTOCOCCIS', 'STAPHYLOCOCCUS SPECIES', 'BABESIA SPP', 'STAPHYLOCOCCUS WARNERI', \n",
    "                'CORYNEBACTERIUM MINUTISSMUM', 'STAPHYLOCOCCUS XYLOSUS','CORYNEBACTERIUM AMYCOLATUM', 'STREPTOCOCCUS AGALACTIAE', 'MICROMONAS MICROS',\n",
    "                'STREPTOCOCCUS ANGINOSUS',\n",
    "                'STAPHYLOCOCCUS PASTEURI', 'STREPTOCOCCUS CONSTELLATUS']"
   ]
  },
  {
   "cell_type": "code",
   "execution_count": 2,
   "id": "e8fe2e93-b9df-4b44-ac13-4358d1ffb1ab",
   "metadata": {
    "tags": []
   },
   "outputs": [],
   "source": [
    "nimes = pd.read_csv ('nimes_dec_21.csv', low_memory=False)"
   ]
  },
  {
   "cell_type": "code",
   "execution_count": 3,
   "id": "484a66ed-b5ce-4f59-92ec-4c2c9531acee",
   "metadata": {},
   "outputs": [
    {
     "data": {
      "text/plain": [
       "35599"
      ]
     },
     "execution_count": 3,
     "metadata": {},
     "output_type": "execute_result"
    }
   ],
   "source": [
    "nimes.ppid.nunique()"
   ]
  },
  {
   "cell_type": "code",
   "execution_count": null,
   "id": "e34aec97-4cba-4c71-978b-6b3629001116",
   "metadata": {},
   "outputs": [],
   "source": []
  },
  {
   "cell_type": "code",
   "execution_count": null,
   "id": "d1c5fe59-e181-426b-8c46-fbcecbeee598",
   "metadata": {},
   "outputs": [],
   "source": []
  },
  {
   "cell_type": "code",
   "execution_count": null,
   "id": "be135968-831c-4936-8114-06bebf774e83",
   "metadata": {},
   "outputs": [],
   "source": []
  },
  {
   "cell_type": "code",
   "execution_count": 11,
   "id": "48315ce1-3d6c-4680-a113-db7de6e777de",
   "metadata": {},
   "outputs": [],
   "source": [
    "anino = pd.read_csv('anino_dec_21.csv')"
   ]
  },
  {
   "cell_type": "code",
   "execution_count": 12,
   "id": "547963e2-b5f8-4c13-93e0-3182b40c1306",
   "metadata": {},
   "outputs": [
    {
     "data": {
      "text/plain": [
       "Index(['ppid', 'aninoppholdstart', 'aninoppholdslutt', 'sesjonstart',\n",
       "       'sesjonslutt', 'behandlingsstedstart', 'behandlingsstedslutt',\n",
       "       'behandlingsstedkode', 'avdelingkode', 'sesjontypekode',\n",
       "       'stagelineageid'],\n",
       "      dtype='object')"
      ]
     },
     "execution_count": 12,
     "metadata": {},
     "output_type": "execute_result"
    }
   ],
   "source": [
    "anino.columns"
   ]
  },
  {
   "cell_type": "code",
   "execution_count": null,
   "id": "da406e92-8a34-42aa-9f35-87c42034d0eb",
   "metadata": {},
   "outputs": [],
   "source": []
  },
  {
   "cell_type": "code",
   "execution_count": 13,
   "id": "2a9ba2a7-266b-4718-a627-9fc16938ca5d",
   "metadata": {},
   "outputs": [],
   "source": [
    "pasient = pd.read_csv('pasient_dec_23.csv')"
   ]
  },
  {
   "cell_type": "code",
   "execution_count": 14,
   "id": "37f1d4d8-f150-48ab-b53e-a1a05045b586",
   "metadata": {
    "tags": []
   },
   "outputs": [],
   "source": [
    "nsml = pd.read_csv('nsml_dec_21.csv')\n",
    "trfl = pd.read_csv('trfl_dec_21.csv')"
   ]
  },
  {
   "cell_type": "code",
   "execution_count": 15,
   "id": "86bf8fec-b4b4-425d-aede-6c56ff9bcf08",
   "metadata": {},
   "outputs": [
    {
     "data": {
      "text/plain": [
       "35694"
      ]
     },
     "execution_count": 15,
     "metadata": {},
     "output_type": "execute_result"
    }
   ],
   "source": [
    "nsml.ppid.nunique()"
   ]
  },
  {
   "cell_type": "code",
   "execution_count": 16,
   "id": "ca58c866-d586-4587-b763-ff0edbd66936",
   "metadata": {},
   "outputs": [
    {
     "data": {
      "text/plain": [
       "Index(['reqs_year', 'reqs_no', 'ppid', 'anre_status', 'date_req', 'matr_desc',\n",
       "       'anly_result', 'micr_code', 'micr_prt_name', 'ande_code', 'ande_name',\n",
       "       'anre_no', 'stagelineageid'],\n",
       "      dtype='object')"
      ]
     },
     "execution_count": 16,
     "metadata": {},
     "output_type": "execute_result"
    }
   ],
   "source": [
    "nsml.columns"
   ]
  },
  {
   "cell_type": "code",
   "execution_count": 17,
   "id": "07d6b3fa-4b81-43b9-8a6b-af57eae4ca67",
   "metadata": {},
   "outputs": [
    {
     "data": {
      "text/plain": [
       "Index(['reqs_year', 'reqs_no', 'ppid', 'ande_code', 'anly_result',\n",
       "       'result_ctr_flag', 'high_reference', 'low_reference', 'ande_name',\n",
       "       'matr_code', 'date_req', 'date_coll', 'reqr_code_prim', 'reqr_name',\n",
       "       'stagelineageid'],\n",
       "      dtype='object')"
      ]
     },
     "execution_count": 17,
     "metadata": {},
     "output_type": "execute_result"
    }
   ],
   "source": [
    "trfl.columns"
   ]
  },
  {
   "cell_type": "code",
   "execution_count": 18,
   "id": "344ffb12-eabe-48db-9449-7fc730849740",
   "metadata": {
    "tags": []
   },
   "outputs": [],
   "source": [
    "def preprocess_nimes(nimes):\n",
    "    # Select relevant columns from the nimes table\n",
    "    nimes = nimes[['ppid', 'episodeid', 'inndatotid', 'utdatotid', 'hastegradkode', \n",
    "                   'omsorgsnivåkode', 'pdxkoder', 'sdxkoder', 'ncspkoder', 'ncmpkoder']].copy()\n",
    "    \n",
    "    # Replace empty strings with NaN and drop rows with NaN in the 'episodeid' column\n",
    "    nimes['episodeid'].replace('', np.nan, inplace=True)\n",
    "    nimes.dropna(subset=['episodeid'], inplace=True)\n",
    "\n",
    "    # Group by ppid, inndatotid, and utdatotid, and reset index\n",
    "    nimes = nimes.groupby([\"ppid\", \"inndatotid\", \"utdatotid\"]).last().reset_index()\n",
    "    nimes.sort_values(by=['ppid', 'inndatotid', 'utdatotid'], inplace=True)\n",
    "    nimes.reset_index(inplace=True)\n",
    "\n",
    "    # Replace ';' and ',' with ' ' and de-duplicate items in each row for the given columns\n",
    "    for col in ['pdxkoder', 'sdxkoder', 'ncspkoder', 'ncmpkoder']:\n",
    "        nimes[col].replace([';', ','], ' ', regex=True, inplace=True)\n",
    "        nimes[col] = nimes[col].str.split().apply(lambda x: ' '.join(OrderedDict.fromkeys(x).keys()) if x is not None else '')\n",
    "    \n",
    "    # Fill NaN values with empty strings\n",
    "    nimes.fillna('', inplace=True)\n",
    "\n",
    "    # Convert inndatotid and utdatotid to datetime objects\n",
    "    nimes.iloc[:, 2:4] = nimes.iloc[:, 2:4].apply(pd.to_datetime, errors='coerce')\n",
    "\n",
    "    # Calculate the length of stay (LOS) in days\n",
    "    nimes['LOS'] = ((nimes['utdatotid'] - nimes['inndatotid']).astype('timedelta64[h]'))/24\n",
    "\n",
    "    # Drop duplicate rows based on ppid, inndatotid, and utdatotid columns\n",
    "    nimes.drop_duplicates(subset=['ppid', 'inndatotid', 'utdatotid'], keep='last', inplace=True)\n",
    "\n",
    "    # Function to merge two columns and remove duplicates\n",
    "    def merge_and_deduplicate_columns(df, col1, col2, new_col_name):\n",
    "        df[new_col_name] = (df[col1] + ' ' + df[col2]).str.split().apply(lambda x: ' '.join(OrderedDict.fromkeys(x).keys()))\n",
    "        df.drop(columns=[col1, col2], inplace=True)\n",
    "\n",
    "    # Merge and de-duplicate pdxkoder and sdxkoder columns into a new ICD column\n",
    "    merge_and_deduplicate_columns(nimes, 'pdxkoder', 'sdxkoder', 'ICD')\n",
    "\n",
    "    # Merge and de-duplicate ncspkoder and ncmpkoder columns into a new Procedure column\n",
    "    merge_and_deduplicate_columns(nimes, 'ncspkoder', 'ncmpkoder', 'Procedure')\n",
    "\n",
    "    # Rename columns for clarity\n",
    "    nimes.rename(columns={\"hastegradkode\": \"urgency_code\", \"omsorgsnivåkode\": \"care_level_code\"}, inplace=True)\n",
    "\n",
    "    # Calculate the time since the last visit in hours\n",
    "    nimes['time_to_last'] = nimes['inndatotid'].diff().astype('timedelta64[h]').fillna(0)\n",
    "    nimes.loc[nimes['time_to_last'].astype(int) < -720, 'time_to_last'] = 0\n",
    "    \n",
    "    return nimes\n",
    "\n",
    "\n",
    "nimess = preprocess_nimes(nimes)"
   ]
  },
  {
   "cell_type": "code",
   "execution_count": 19,
   "id": "d58457f7-e462-4da5-b66f-8ef7efa8929c",
   "metadata": {
    "tags": []
   },
   "outputs": [],
   "source": [
    "# Create a new DataFrame with the relevant columns\n",
    "anino2 = anino[['ppid', 'aninoppholdstart', 'aninoppholdslutt']].copy()\n",
    "\n",
    "# Convert date columns to datetime objects\n",
    "anino2[['aninoppholdstart', 'aninoppholdslutt']] = anino2[['aninoppholdstart', 'aninoppholdslutt']].apply(pd.to_datetime, errors='coerce')\n",
    "\n",
    "# Calculate ICU Length of Stay (LOS) in hours\n",
    "anino2['ICU_LOS'] = (anino2['aninoppholdslutt'] - anino2['aninoppholdstart']).astype('timedelta64[h]')/24\n",
    "\n",
    "# Calculate ICU admission count per patient\n",
    "anino2['ICU_admission_count'] = anino2.groupby('ppid')['ppid'].transform('count')\n",
    "\n",
    "# Sort the DataFrame by patient ID, admission start time, and admission end time\n",
    "anino2 = anino2.sort_values(by=['ppid', 'aninoppholdstart', 'aninoppholdslutt'])\n",
    "\n",
    "# Remove duplicate rows, keeping the last one\n",
    "anino2 = anino2.drop_duplicates(subset=['ppid', 'aninoppholdstart', 'aninoppholdslutt'], keep='last')\n",
    "\n",
    "# Reset the index and add a new 'icuid' column\n",
    "anino2 = anino2.reset_index()\n",
    "anino2 = anino2.rename(columns={\"index\": \"icuid\"})"
   ]
  },
  {
   "cell_type": "code",
   "execution_count": 20,
   "id": "6a8d5b0b-7156-4b6d-9282-50f47daf491a",
   "metadata": {
    "collapsed": true,
    "jupyter": {
     "outputs_hidden": true
    },
    "tags": []
   },
   "outputs": [
    {
     "ename": "KeyboardInterrupt",
     "evalue": "",
     "output_type": "error",
     "traceback": [
      "\u001b[0;31m---------------------------------------------------------------------------\u001b[0m",
      "\u001b[0;31mKeyboardInterrupt\u001b[0m                         Traceback (most recent call last)",
      "\u001b[0;32m/var/folders/jv/7pzn0fgj2tdb9blxxhhxqv000000gn/T/ipykernel_38993/19074669.py\u001b[0m in \u001b[0;36m<module>\u001b[0;34m\u001b[0m\n\u001b[1;32m     10\u001b[0m \u001b[0;34m\u001b[0m\u001b[0m\n\u001b[1;32m     11\u001b[0m \u001b[0;31m# Apply the find_matching_episode function to get the corresponding episodes for all ICU admissions in anino2\u001b[0m\u001b[0;34m\u001b[0m\u001b[0;34m\u001b[0m\u001b[0m\n\u001b[0;32m---> 12\u001b[0;31m \u001b[0manino2\u001b[0m\u001b[0;34m[\u001b[0m\u001b[0;34m'episodeid'\u001b[0m\u001b[0;34m]\u001b[0m \u001b[0;34m=\u001b[0m \u001b[0manino2\u001b[0m\u001b[0;34m.\u001b[0m\u001b[0mapply\u001b[0m\u001b[0;34m(\u001b[0m\u001b[0;32mlambda\u001b[0m \u001b[0mx\u001b[0m\u001b[0;34m:\u001b[0m \u001b[0mfind_matching_episode\u001b[0m\u001b[0;34m(\u001b[0m\u001b[0mx\u001b[0m\u001b[0;34m,\u001b[0m \u001b[0mnimess\u001b[0m\u001b[0;34m)\u001b[0m\u001b[0;34m,\u001b[0m \u001b[0maxis\u001b[0m\u001b[0;34m=\u001b[0m\u001b[0;36m1\u001b[0m\u001b[0;34m)\u001b[0m\u001b[0;34m\u001b[0m\u001b[0;34m\u001b[0m\u001b[0m\n\u001b[0m\u001b[1;32m     13\u001b[0m \u001b[0;34m\u001b[0m\u001b[0m\n\u001b[1;32m     14\u001b[0m \u001b[0;31m# Group the anino2 table by the episode_id and calculate the total ICU_LOS per episode\u001b[0m\u001b[0;34m\u001b[0m\u001b[0;34m\u001b[0m\u001b[0m\n",
      "\u001b[0;32m~/opt/anaconda3/lib/python3.9/site-packages/pandas/core/frame.py\u001b[0m in \u001b[0;36mapply\u001b[0;34m(self, func, axis, raw, result_type, args, **kwargs)\u001b[0m\n\u001b[1;32m   8738\u001b[0m             \u001b[0mkwargs\u001b[0m\u001b[0;34m=\u001b[0m\u001b[0mkwargs\u001b[0m\u001b[0;34m,\u001b[0m\u001b[0;34m\u001b[0m\u001b[0;34m\u001b[0m\u001b[0m\n\u001b[1;32m   8739\u001b[0m         )\n\u001b[0;32m-> 8740\u001b[0;31m         \u001b[0;32mreturn\u001b[0m \u001b[0mop\u001b[0m\u001b[0;34m.\u001b[0m\u001b[0mapply\u001b[0m\u001b[0;34m(\u001b[0m\u001b[0;34m)\u001b[0m\u001b[0;34m\u001b[0m\u001b[0;34m\u001b[0m\u001b[0m\n\u001b[0m\u001b[1;32m   8741\u001b[0m \u001b[0;34m\u001b[0m\u001b[0m\n\u001b[1;32m   8742\u001b[0m     def applymap(\n",
      "\u001b[0;32m~/opt/anaconda3/lib/python3.9/site-packages/pandas/core/apply.py\u001b[0m in \u001b[0;36mapply\u001b[0;34m(self)\u001b[0m\n\u001b[1;32m    686\u001b[0m             \u001b[0;32mreturn\u001b[0m \u001b[0mself\u001b[0m\u001b[0;34m.\u001b[0m\u001b[0mapply_raw\u001b[0m\u001b[0;34m(\u001b[0m\u001b[0;34m)\u001b[0m\u001b[0;34m\u001b[0m\u001b[0;34m\u001b[0m\u001b[0m\n\u001b[1;32m    687\u001b[0m \u001b[0;34m\u001b[0m\u001b[0m\n\u001b[0;32m--> 688\u001b[0;31m         \u001b[0;32mreturn\u001b[0m \u001b[0mself\u001b[0m\u001b[0;34m.\u001b[0m\u001b[0mapply_standard\u001b[0m\u001b[0;34m(\u001b[0m\u001b[0;34m)\u001b[0m\u001b[0;34m\u001b[0m\u001b[0;34m\u001b[0m\u001b[0m\n\u001b[0m\u001b[1;32m    689\u001b[0m \u001b[0;34m\u001b[0m\u001b[0m\n\u001b[1;32m    690\u001b[0m     \u001b[0;32mdef\u001b[0m \u001b[0magg\u001b[0m\u001b[0;34m(\u001b[0m\u001b[0mself\u001b[0m\u001b[0;34m)\u001b[0m\u001b[0;34m:\u001b[0m\u001b[0;34m\u001b[0m\u001b[0;34m\u001b[0m\u001b[0m\n",
      "\u001b[0;32m~/opt/anaconda3/lib/python3.9/site-packages/pandas/core/apply.py\u001b[0m in \u001b[0;36mapply_standard\u001b[0;34m(self)\u001b[0m\n\u001b[1;32m    810\u001b[0m \u001b[0;34m\u001b[0m\u001b[0m\n\u001b[1;32m    811\u001b[0m     \u001b[0;32mdef\u001b[0m \u001b[0mapply_standard\u001b[0m\u001b[0;34m(\u001b[0m\u001b[0mself\u001b[0m\u001b[0;34m)\u001b[0m\u001b[0;34m:\u001b[0m\u001b[0;34m\u001b[0m\u001b[0;34m\u001b[0m\u001b[0m\n\u001b[0;32m--> 812\u001b[0;31m         \u001b[0mresults\u001b[0m\u001b[0;34m,\u001b[0m \u001b[0mres_index\u001b[0m \u001b[0;34m=\u001b[0m \u001b[0mself\u001b[0m\u001b[0;34m.\u001b[0m\u001b[0mapply_series_generator\u001b[0m\u001b[0;34m(\u001b[0m\u001b[0;34m)\u001b[0m\u001b[0;34m\u001b[0m\u001b[0;34m\u001b[0m\u001b[0m\n\u001b[0m\u001b[1;32m    813\u001b[0m \u001b[0;34m\u001b[0m\u001b[0m\n\u001b[1;32m    814\u001b[0m         \u001b[0;31m# wrap results\u001b[0m\u001b[0;34m\u001b[0m\u001b[0;34m\u001b[0m\u001b[0m\n",
      "\u001b[0;32m~/opt/anaconda3/lib/python3.9/site-packages/pandas/core/apply.py\u001b[0m in \u001b[0;36mapply_series_generator\u001b[0;34m(self)\u001b[0m\n\u001b[1;32m    826\u001b[0m             \u001b[0;32mfor\u001b[0m \u001b[0mi\u001b[0m\u001b[0;34m,\u001b[0m \u001b[0mv\u001b[0m \u001b[0;32min\u001b[0m \u001b[0menumerate\u001b[0m\u001b[0;34m(\u001b[0m\u001b[0mseries_gen\u001b[0m\u001b[0;34m)\u001b[0m\u001b[0;34m:\u001b[0m\u001b[0;34m\u001b[0m\u001b[0;34m\u001b[0m\u001b[0m\n\u001b[1;32m    827\u001b[0m                 \u001b[0;31m# ignore SettingWithCopy here in case the user mutates\u001b[0m\u001b[0;34m\u001b[0m\u001b[0;34m\u001b[0m\u001b[0m\n\u001b[0;32m--> 828\u001b[0;31m                 \u001b[0mresults\u001b[0m\u001b[0;34m[\u001b[0m\u001b[0mi\u001b[0m\u001b[0;34m]\u001b[0m \u001b[0;34m=\u001b[0m \u001b[0mself\u001b[0m\u001b[0;34m.\u001b[0m\u001b[0mf\u001b[0m\u001b[0;34m(\u001b[0m\u001b[0mv\u001b[0m\u001b[0;34m)\u001b[0m\u001b[0;34m\u001b[0m\u001b[0;34m\u001b[0m\u001b[0m\n\u001b[0m\u001b[1;32m    829\u001b[0m                 \u001b[0;32mif\u001b[0m \u001b[0misinstance\u001b[0m\u001b[0;34m(\u001b[0m\u001b[0mresults\u001b[0m\u001b[0;34m[\u001b[0m\u001b[0mi\u001b[0m\u001b[0;34m]\u001b[0m\u001b[0;34m,\u001b[0m \u001b[0mABCSeries\u001b[0m\u001b[0;34m)\u001b[0m\u001b[0;34m:\u001b[0m\u001b[0;34m\u001b[0m\u001b[0;34m\u001b[0m\u001b[0m\n\u001b[1;32m    830\u001b[0m                     \u001b[0;31m# If we have a view on v, we need to make a copy because\u001b[0m\u001b[0;34m\u001b[0m\u001b[0;34m\u001b[0m\u001b[0m\n",
      "\u001b[0;32m/var/folders/jv/7pzn0fgj2tdb9blxxhhxqv000000gn/T/ipykernel_38993/19074669.py\u001b[0m in \u001b[0;36m<lambda>\u001b[0;34m(x)\u001b[0m\n\u001b[1;32m     10\u001b[0m \u001b[0;34m\u001b[0m\u001b[0m\n\u001b[1;32m     11\u001b[0m \u001b[0;31m# Apply the find_matching_episode function to get the corresponding episodes for all ICU admissions in anino2\u001b[0m\u001b[0;34m\u001b[0m\u001b[0;34m\u001b[0m\u001b[0m\n\u001b[0;32m---> 12\u001b[0;31m \u001b[0manino2\u001b[0m\u001b[0;34m[\u001b[0m\u001b[0;34m'episodeid'\u001b[0m\u001b[0;34m]\u001b[0m \u001b[0;34m=\u001b[0m \u001b[0manino2\u001b[0m\u001b[0;34m.\u001b[0m\u001b[0mapply\u001b[0m\u001b[0;34m(\u001b[0m\u001b[0;32mlambda\u001b[0m \u001b[0mx\u001b[0m\u001b[0;34m:\u001b[0m \u001b[0mfind_matching_episode\u001b[0m\u001b[0;34m(\u001b[0m\u001b[0mx\u001b[0m\u001b[0;34m,\u001b[0m \u001b[0mnimess\u001b[0m\u001b[0;34m)\u001b[0m\u001b[0;34m,\u001b[0m \u001b[0maxis\u001b[0m\u001b[0;34m=\u001b[0m\u001b[0;36m1\u001b[0m\u001b[0;34m)\u001b[0m\u001b[0;34m\u001b[0m\u001b[0;34m\u001b[0m\u001b[0m\n\u001b[0m\u001b[1;32m     13\u001b[0m \u001b[0;34m\u001b[0m\u001b[0m\n\u001b[1;32m     14\u001b[0m \u001b[0;31m# Group the anino2 table by the episode_id and calculate the total ICU_LOS per episode\u001b[0m\u001b[0;34m\u001b[0m\u001b[0;34m\u001b[0m\u001b[0m\n",
      "\u001b[0;32m/var/folders/jv/7pzn0fgj2tdb9blxxhhxqv000000gn/T/ipykernel_38993/19074669.py\u001b[0m in \u001b[0;36mfind_matching_episode\u001b[0;34m(icu_admission, nimess)\u001b[0m\n\u001b[1;32m      3\u001b[0m \u001b[0;31m# Define a function to find the corresponding episode for an ICU admission\u001b[0m\u001b[0;34m\u001b[0m\u001b[0;34m\u001b[0m\u001b[0m\n\u001b[1;32m      4\u001b[0m \u001b[0;32mdef\u001b[0m \u001b[0mfind_matching_episode\u001b[0m\u001b[0;34m(\u001b[0m\u001b[0micu_admission\u001b[0m\u001b[0;34m,\u001b[0m \u001b[0mnimess\u001b[0m\u001b[0;34m)\u001b[0m\u001b[0;34m:\u001b[0m\u001b[0;34m\u001b[0m\u001b[0;34m\u001b[0m\u001b[0m\n\u001b[0;32m----> 5\u001b[0;31m     \u001b[0mmask\u001b[0m \u001b[0;34m=\u001b[0m \u001b[0;34m(\u001b[0m\u001b[0mnimess\u001b[0m\u001b[0;34m[\u001b[0m\u001b[0;34m'ppid'\u001b[0m\u001b[0;34m]\u001b[0m \u001b[0;34m==\u001b[0m \u001b[0micu_admission\u001b[0m\u001b[0;34m[\u001b[0m\u001b[0;34m'ppid'\u001b[0m\u001b[0;34m]\u001b[0m\u001b[0;34m)\u001b[0m \u001b[0;34m&\u001b[0m \u001b[0;34m(\u001b[0m\u001b[0mnimess\u001b[0m\u001b[0;34m[\u001b[0m\u001b[0;34m'inndatotid'\u001b[0m\u001b[0;34m]\u001b[0m \u001b[0;34m<=\u001b[0m \u001b[0micu_admission\u001b[0m\u001b[0;34m[\u001b[0m\u001b[0;34m'aninoppholdstart'\u001b[0m\u001b[0;34m]\u001b[0m\u001b[0;34m)\u001b[0m \u001b[0;34m&\u001b[0m \u001b[0;34m(\u001b[0m\u001b[0mnimess\u001b[0m\u001b[0;34m[\u001b[0m\u001b[0;34m'utdatotid'\u001b[0m\u001b[0;34m]\u001b[0m \u001b[0;34m>=\u001b[0m \u001b[0micu_admission\u001b[0m\u001b[0;34m[\u001b[0m\u001b[0;34m'aninoppholdslutt'\u001b[0m\u001b[0;34m]\u001b[0m\u001b[0;34m)\u001b[0m\u001b[0;34m\u001b[0m\u001b[0;34m\u001b[0m\u001b[0m\n\u001b[0m\u001b[1;32m      6\u001b[0m     \u001b[0;32mif\u001b[0m \u001b[0mmask\u001b[0m\u001b[0;34m.\u001b[0m\u001b[0many\u001b[0m\u001b[0;34m(\u001b[0m\u001b[0;34m)\u001b[0m\u001b[0;34m:\u001b[0m\u001b[0;34m\u001b[0m\u001b[0;34m\u001b[0m\u001b[0m\n\u001b[1;32m      7\u001b[0m         \u001b[0;32mreturn\u001b[0m \u001b[0mnimess\u001b[0m\u001b[0;34m.\u001b[0m\u001b[0mloc\u001b[0m\u001b[0;34m[\u001b[0m\u001b[0mmask\u001b[0m\u001b[0;34m,\u001b[0m \u001b[0;34m'episodeid'\u001b[0m\u001b[0;34m]\u001b[0m\u001b[0;34m.\u001b[0m\u001b[0miloc\u001b[0m\u001b[0;34m[\u001b[0m\u001b[0;36m0\u001b[0m\u001b[0;34m]\u001b[0m\u001b[0;34m\u001b[0m\u001b[0;34m\u001b[0m\u001b[0m\n",
      "\u001b[0;32m~/opt/anaconda3/lib/python3.9/site-packages/pandas/core/ops/common.py\u001b[0m in \u001b[0;36mnew_method\u001b[0;34m(self, other)\u001b[0m\n\u001b[1;32m     67\u001b[0m         \u001b[0mother\u001b[0m \u001b[0;34m=\u001b[0m \u001b[0mitem_from_zerodim\u001b[0m\u001b[0;34m(\u001b[0m\u001b[0mother\u001b[0m\u001b[0;34m)\u001b[0m\u001b[0;34m\u001b[0m\u001b[0;34m\u001b[0m\u001b[0m\n\u001b[1;32m     68\u001b[0m \u001b[0;34m\u001b[0m\u001b[0m\n\u001b[0;32m---> 69\u001b[0;31m         \u001b[0;32mreturn\u001b[0m \u001b[0mmethod\u001b[0m\u001b[0;34m(\u001b[0m\u001b[0mself\u001b[0m\u001b[0;34m,\u001b[0m \u001b[0mother\u001b[0m\u001b[0;34m)\u001b[0m\u001b[0;34m\u001b[0m\u001b[0;34m\u001b[0m\u001b[0m\n\u001b[0m\u001b[1;32m     70\u001b[0m \u001b[0;34m\u001b[0m\u001b[0m\n\u001b[1;32m     71\u001b[0m     \u001b[0;32mreturn\u001b[0m \u001b[0mnew_method\u001b[0m\u001b[0;34m\u001b[0m\u001b[0;34m\u001b[0m\u001b[0m\n",
      "\u001b[0;32m~/opt/anaconda3/lib/python3.9/site-packages/pandas/core/arraylike.py\u001b[0m in \u001b[0;36m__eq__\u001b[0;34m(self, other)\u001b[0m\n\u001b[1;32m     30\u001b[0m     \u001b[0;34m@\u001b[0m\u001b[0munpack_zerodim_and_defer\u001b[0m\u001b[0;34m(\u001b[0m\u001b[0;34m\"__eq__\"\u001b[0m\u001b[0;34m)\u001b[0m\u001b[0;34m\u001b[0m\u001b[0;34m\u001b[0m\u001b[0m\n\u001b[1;32m     31\u001b[0m     \u001b[0;32mdef\u001b[0m \u001b[0m__eq__\u001b[0m\u001b[0;34m(\u001b[0m\u001b[0mself\u001b[0m\u001b[0;34m,\u001b[0m \u001b[0mother\u001b[0m\u001b[0;34m)\u001b[0m\u001b[0;34m:\u001b[0m\u001b[0;34m\u001b[0m\u001b[0;34m\u001b[0m\u001b[0m\n\u001b[0;32m---> 32\u001b[0;31m         \u001b[0;32mreturn\u001b[0m \u001b[0mself\u001b[0m\u001b[0;34m.\u001b[0m\u001b[0m_cmp_method\u001b[0m\u001b[0;34m(\u001b[0m\u001b[0mother\u001b[0m\u001b[0;34m,\u001b[0m \u001b[0moperator\u001b[0m\u001b[0;34m.\u001b[0m\u001b[0meq\u001b[0m\u001b[0;34m)\u001b[0m\u001b[0;34m\u001b[0m\u001b[0;34m\u001b[0m\u001b[0m\n\u001b[0m\u001b[1;32m     33\u001b[0m \u001b[0;34m\u001b[0m\u001b[0m\n\u001b[1;32m     34\u001b[0m     \u001b[0;34m@\u001b[0m\u001b[0munpack_zerodim_and_defer\u001b[0m\u001b[0;34m(\u001b[0m\u001b[0;34m\"__ne__\"\u001b[0m\u001b[0;34m)\u001b[0m\u001b[0;34m\u001b[0m\u001b[0;34m\u001b[0m\u001b[0m\n",
      "\u001b[0;32m~/opt/anaconda3/lib/python3.9/site-packages/pandas/core/series.py\u001b[0m in \u001b[0;36m_cmp_method\u001b[0;34m(self, other, op)\u001b[0m\n\u001b[1;32m   5500\u001b[0m \u001b[0;34m\u001b[0m\u001b[0m\n\u001b[1;32m   5501\u001b[0m         \u001b[0;32mwith\u001b[0m \u001b[0mnp\u001b[0m\u001b[0;34m.\u001b[0m\u001b[0merrstate\u001b[0m\u001b[0;34m(\u001b[0m\u001b[0mall\u001b[0m\u001b[0;34m=\u001b[0m\u001b[0;34m\"ignore\"\u001b[0m\u001b[0;34m)\u001b[0m\u001b[0;34m:\u001b[0m\u001b[0;34m\u001b[0m\u001b[0;34m\u001b[0m\u001b[0m\n\u001b[0;32m-> 5502\u001b[0;31m             \u001b[0mres_values\u001b[0m \u001b[0;34m=\u001b[0m \u001b[0mops\u001b[0m\u001b[0;34m.\u001b[0m\u001b[0mcomparison_op\u001b[0m\u001b[0;34m(\u001b[0m\u001b[0mlvalues\u001b[0m\u001b[0;34m,\u001b[0m \u001b[0mrvalues\u001b[0m\u001b[0;34m,\u001b[0m \u001b[0mop\u001b[0m\u001b[0;34m)\u001b[0m\u001b[0;34m\u001b[0m\u001b[0;34m\u001b[0m\u001b[0m\n\u001b[0m\u001b[1;32m   5503\u001b[0m \u001b[0;34m\u001b[0m\u001b[0m\n\u001b[1;32m   5504\u001b[0m         \u001b[0;32mreturn\u001b[0m \u001b[0mself\u001b[0m\u001b[0;34m.\u001b[0m\u001b[0m_construct_result\u001b[0m\u001b[0;34m(\u001b[0m\u001b[0mres_values\u001b[0m\u001b[0;34m,\u001b[0m \u001b[0mname\u001b[0m\u001b[0;34m=\u001b[0m\u001b[0mres_name\u001b[0m\u001b[0;34m)\u001b[0m\u001b[0;34m\u001b[0m\u001b[0;34m\u001b[0m\u001b[0m\n",
      "\u001b[0;32m~/opt/anaconda3/lib/python3.9/site-packages/pandas/core/ops/array_ops.py\u001b[0m in \u001b[0;36mcomparison_op\u001b[0;34m(left, right, op)\u001b[0m\n\u001b[1;32m    285\u001b[0m \u001b[0;34m\u001b[0m\u001b[0m\n\u001b[1;32m    286\u001b[0m     \u001b[0;32melse\u001b[0m\u001b[0;34m:\u001b[0m\u001b[0;34m\u001b[0m\u001b[0;34m\u001b[0m\u001b[0m\n\u001b[0;32m--> 287\u001b[0;31m         \u001b[0mres_values\u001b[0m \u001b[0;34m=\u001b[0m \u001b[0m_na_arithmetic_op\u001b[0m\u001b[0;34m(\u001b[0m\u001b[0mlvalues\u001b[0m\u001b[0;34m,\u001b[0m \u001b[0mrvalues\u001b[0m\u001b[0;34m,\u001b[0m \u001b[0mop\u001b[0m\u001b[0;34m,\u001b[0m \u001b[0mis_cmp\u001b[0m\u001b[0;34m=\u001b[0m\u001b[0;32mTrue\u001b[0m\u001b[0;34m)\u001b[0m\u001b[0;34m\u001b[0m\u001b[0;34m\u001b[0m\u001b[0m\n\u001b[0m\u001b[1;32m    288\u001b[0m \u001b[0;34m\u001b[0m\u001b[0m\n\u001b[1;32m    289\u001b[0m     \u001b[0;32mreturn\u001b[0m \u001b[0mres_values\u001b[0m\u001b[0;34m\u001b[0m\u001b[0;34m\u001b[0m\u001b[0m\n",
      "\u001b[0;32m~/opt/anaconda3/lib/python3.9/site-packages/pandas/core/ops/array_ops.py\u001b[0m in \u001b[0;36m_na_arithmetic_op\u001b[0;34m(left, right, op, is_cmp)\u001b[0m\n\u001b[1;32m    164\u001b[0m \u001b[0;34m\u001b[0m\u001b[0m\n\u001b[1;32m    165\u001b[0m     \u001b[0;32mtry\u001b[0m\u001b[0;34m:\u001b[0m\u001b[0;34m\u001b[0m\u001b[0;34m\u001b[0m\u001b[0m\n\u001b[0;32m--> 166\u001b[0;31m         \u001b[0mresult\u001b[0m \u001b[0;34m=\u001b[0m \u001b[0mfunc\u001b[0m\u001b[0;34m(\u001b[0m\u001b[0mleft\u001b[0m\u001b[0;34m,\u001b[0m \u001b[0mright\u001b[0m\u001b[0;34m)\u001b[0m\u001b[0;34m\u001b[0m\u001b[0;34m\u001b[0m\u001b[0m\n\u001b[0m\u001b[1;32m    167\u001b[0m     \u001b[0;32mexcept\u001b[0m \u001b[0mTypeError\u001b[0m\u001b[0;34m:\u001b[0m\u001b[0;34m\u001b[0m\u001b[0;34m\u001b[0m\u001b[0m\n\u001b[1;32m    168\u001b[0m         \u001b[0;32mif\u001b[0m \u001b[0mis_object_dtype\u001b[0m\u001b[0;34m(\u001b[0m\u001b[0mleft\u001b[0m\u001b[0;34m)\u001b[0m \u001b[0;32mor\u001b[0m \u001b[0mis_object_dtype\u001b[0m\u001b[0;34m(\u001b[0m\u001b[0mright\u001b[0m\u001b[0;34m)\u001b[0m \u001b[0;32mand\u001b[0m \u001b[0;32mnot\u001b[0m \u001b[0mis_cmp\u001b[0m\u001b[0;34m:\u001b[0m\u001b[0;34m\u001b[0m\u001b[0;34m\u001b[0m\u001b[0m\n",
      "\u001b[0;32m~/opt/anaconda3/lib/python3.9/site-packages/pandas/core/computation/expressions.py\u001b[0m in \u001b[0;36mevaluate\u001b[0;34m(op, a, b, use_numexpr)\u001b[0m\n\u001b[1;32m    237\u001b[0m         \u001b[0;32mif\u001b[0m \u001b[0muse_numexpr\u001b[0m\u001b[0;34m:\u001b[0m\u001b[0;34m\u001b[0m\u001b[0;34m\u001b[0m\u001b[0m\n\u001b[1;32m    238\u001b[0m             \u001b[0;31m# error: \"None\" not callable\u001b[0m\u001b[0;34m\u001b[0m\u001b[0;34m\u001b[0m\u001b[0m\n\u001b[0;32m--> 239\u001b[0;31m             \u001b[0;32mreturn\u001b[0m \u001b[0m_evaluate\u001b[0m\u001b[0;34m(\u001b[0m\u001b[0mop\u001b[0m\u001b[0;34m,\u001b[0m \u001b[0mop_str\u001b[0m\u001b[0;34m,\u001b[0m \u001b[0ma\u001b[0m\u001b[0;34m,\u001b[0m \u001b[0mb\u001b[0m\u001b[0;34m)\u001b[0m  \u001b[0;31m# type: ignore[misc]\u001b[0m\u001b[0;34m\u001b[0m\u001b[0;34m\u001b[0m\u001b[0m\n\u001b[0m\u001b[1;32m    240\u001b[0m     \u001b[0;32mreturn\u001b[0m \u001b[0m_evaluate_standard\u001b[0m\u001b[0;34m(\u001b[0m\u001b[0mop\u001b[0m\u001b[0;34m,\u001b[0m \u001b[0mop_str\u001b[0m\u001b[0;34m,\u001b[0m \u001b[0ma\u001b[0m\u001b[0;34m,\u001b[0m \u001b[0mb\u001b[0m\u001b[0;34m)\u001b[0m\u001b[0;34m\u001b[0m\u001b[0;34m\u001b[0m\u001b[0m\n\u001b[1;32m    241\u001b[0m \u001b[0;34m\u001b[0m\u001b[0m\n",
      "\u001b[0;32m~/opt/anaconda3/lib/python3.9/site-packages/pandas/core/computation/expressions.py\u001b[0m in \u001b[0;36m_evaluate_numexpr\u001b[0;34m(op, op_str, a, b)\u001b[0m\n\u001b[1;32m    103\u001b[0m \u001b[0;34m\u001b[0m\u001b[0m\n\u001b[1;32m    104\u001b[0m         \u001b[0;32mtry\u001b[0m\u001b[0;34m:\u001b[0m\u001b[0;34m\u001b[0m\u001b[0;34m\u001b[0m\u001b[0m\n\u001b[0;32m--> 105\u001b[0;31m             result = ne.evaluate(\n\u001b[0m\u001b[1;32m    106\u001b[0m                 \u001b[0;34mf\"a_value {op_str} b_value\"\u001b[0m\u001b[0;34m,\u001b[0m\u001b[0;34m\u001b[0m\u001b[0;34m\u001b[0m\u001b[0m\n\u001b[1;32m    107\u001b[0m                 \u001b[0mlocal_dict\u001b[0m\u001b[0;34m=\u001b[0m\u001b[0;34m{\u001b[0m\u001b[0;34m\"a_value\"\u001b[0m\u001b[0;34m:\u001b[0m \u001b[0ma_value\u001b[0m\u001b[0;34m,\u001b[0m \u001b[0;34m\"b_value\"\u001b[0m\u001b[0;34m:\u001b[0m \u001b[0mb_value\u001b[0m\u001b[0;34m}\u001b[0m\u001b[0;34m,\u001b[0m\u001b[0;34m\u001b[0m\u001b[0;34m\u001b[0m\u001b[0m\n",
      "\u001b[0;32m~/opt/anaconda3/lib/python3.9/site-packages/numexpr/necompiler.py\u001b[0m in \u001b[0;36mevaluate\u001b[0;34m(ex, local_dict, global_dict, out, order, casting, **kwargs)\u001b[0m\n\u001b[1;32m    834\u001b[0m     \u001b[0m_numexpr_last\u001b[0m \u001b[0;34m=\u001b[0m \u001b[0mdict\u001b[0m\u001b[0;34m(\u001b[0m\u001b[0mex\u001b[0m\u001b[0;34m=\u001b[0m\u001b[0mcompiled_ex\u001b[0m\u001b[0;34m,\u001b[0m \u001b[0margnames\u001b[0m\u001b[0;34m=\u001b[0m\u001b[0mnames\u001b[0m\u001b[0;34m,\u001b[0m \u001b[0mkwargs\u001b[0m\u001b[0;34m=\u001b[0m\u001b[0mkwargs\u001b[0m\u001b[0;34m)\u001b[0m\u001b[0;34m\u001b[0m\u001b[0;34m\u001b[0m\u001b[0m\n\u001b[1;32m    835\u001b[0m     \u001b[0;32mwith\u001b[0m \u001b[0mevaluate_lock\u001b[0m\u001b[0;34m:\u001b[0m\u001b[0;34m\u001b[0m\u001b[0;34m\u001b[0m\u001b[0m\n\u001b[0;32m--> 836\u001b[0;31m         \u001b[0;32mreturn\u001b[0m \u001b[0mcompiled_ex\u001b[0m\u001b[0;34m(\u001b[0m\u001b[0;34m*\u001b[0m\u001b[0marguments\u001b[0m\u001b[0;34m,\u001b[0m \u001b[0;34m**\u001b[0m\u001b[0mkwargs\u001b[0m\u001b[0;34m)\u001b[0m\u001b[0;34m\u001b[0m\u001b[0;34m\u001b[0m\u001b[0m\n\u001b[0m\u001b[1;32m    837\u001b[0m \u001b[0;34m\u001b[0m\u001b[0m\n\u001b[1;32m    838\u001b[0m \u001b[0;34m\u001b[0m\u001b[0m\n",
      "\u001b[0;31mKeyboardInterrupt\u001b[0m: "
     ]
    }
   ],
   "source": [
    "#Add ICU_LOS per episode into nimess table\n",
    "\n",
    "# Define a function to find the corresponding episode for an ICU admission\n",
    "def find_matching_episode(icu_admission, nimess):\n",
    "    mask = (nimess['ppid'] == icu_admission['ppid']) & (nimess['inndatotid'] <= icu_admission['aninoppholdstart']) & (nimess['utdatotid'] >= icu_admission['aninoppholdslutt'])\n",
    "    if mask.any():\n",
    "        return nimess.loc[mask, 'episodeid'].iloc[0]\n",
    "    else:\n",
    "        return None\n",
    "\n",
    "# Apply the find_matching_episode function to get the corresponding episodes for all ICU admissions in anino2\n",
    "anino2['episodeid'] = anino2.apply(lambda x: find_matching_episode(x, nimess), axis=1)\n",
    "\n",
    "# Group the anino2 table by the episode_id and calculate the total ICU_LOS per episode\n",
    "icu_los_by_episode = anino2.groupby('episodeid')['ICU_LOS'].sum()\n",
    "\n",
    "# Add the ICU_LOS column to nimess table, filling NaN values with 0\n",
    "nimess = nimess.merge(icu_los_by_episode, left_on='episodeid', right_on='episodeid', how='left')\n",
    "nimess['ICU_LOS'].fillna(0, inplace=True)"
   ]
  },
  {
   "cell_type": "code",
   "execution_count": 21,
   "id": "f456c045-1990-469f-adb4-ed6940eda103",
   "metadata": {
    "tags": []
   },
   "outputs": [],
   "source": [
    "# A dictionary to map the category names to their respective ICD 10 codes\n",
    "disease_categories = {\n",
    "    'explicitsepsis': explicitsepsis,\n",
    "    'infection': infection,\n",
    "    'organdysfunction': organdysfunction,\n",
    "    'diabetes': diabetes,\n",
    "    'cardiovascular': cardiovascular,\n",
    "    'cancer': cancer,\n",
    "    'lung': lung,\n",
    "    'dementia': dementia,\n",
    "    'kidney_dialysis': kidney_dialysis,\n",
    "    'liver': liver,\n",
    "    'immune_system': immune_system,\n",
    "    'pneumonia': pneumonia,\n",
    "    'intraabdominalinfection': intraabdominalinfection,\n",
    "    'urinarytractinfection': urinarytractinfection,\n",
    "    'centralnervoussystem': centralnervoussystem,\n",
    "    'skinandsofttissueinfection': skinandsofttissueinfection,\n",
    "    'sepsis': sepsis,\n",
    "    'endocarditis': endocarditis\n",
    "}\n",
    "\n",
    "# Function to apply to each row\n",
    "def categorize_icd(row):\n",
    "    # Split the 'ICD' column into a list of codes\n",
    "    icd_codes = str(row['ICD']).split()\n",
    "    # Initialize an empty list to store disease group names\n",
    "    disease_groups = []\n",
    "\n",
    "    # Check each category\n",
    "    for category_name, category_codes in disease_categories.items():\n",
    "        # If any code in the row's ICD column is in the current category's codes\n",
    "        if any(code in category_codes for code in icd_codes):\n",
    "            # Add the category name to the disease groups list\n",
    "            disease_groups.append(category_name)\n",
    "    \n",
    "    # Join the disease group names with a comma or return an empty string\n",
    "    return ', '.join(disease_groups) if disease_groups else ''\n",
    "\n",
    "# Apply the function to each row to create the 'disease_groups' column\n",
    "nimess['disease_groups'] = nimess.apply(categorize_icd, axis=1)\n",
    "\n",
    "# Print the modified DataFrame\n",
    "#print(nimess.head())"
   ]
  },
  {
   "cell_type": "code",
   "execution_count": 22,
   "id": "9f851b73-9d8d-49ed-97c1-4cd38f509492",
   "metadata": {},
   "outputs": [],
   "source": [
    "# Sort df by ppid and inndatotid\n",
    "nimess = nimess.sort_values(by=['ppid', 'inndatotid', 'utdatotid'])\n",
    "\n",
    "# Calculate the cumulative sum of LoS for each patient\n",
    "nimess['total_los'] = nimess.groupby('ppid')['LOS'].cumsum()"
   ]
  },
  {
   "cell_type": "code",
   "execution_count": 23,
   "id": "09d222f8-aa04-4fc7-9fb0-005ed8ad5868",
   "metadata": {},
   "outputs": [],
   "source": [
    "def calculate_prior_comorbidities(nimess):\n",
    "    # Create a new column for prior comorbidities initialized with empty sets\n",
    "    nimess['prior_comorbidities'] = [set() for _ in range(len(nimess))]\n",
    "    \n",
    "    # Iterate over the DataFrame by each patient\n",
    "    for ppid, group in nimess.groupby('ppid'):\n",
    "        # Temporary list to keep track of the comorbidities\n",
    "        comorbidities = []\n",
    "        \n",
    "        for index, row in group.iterrows():\n",
    "            # Add the set of current comorbidities to the list\n",
    "            current_comorbidity = set() if pd.isnull(row['disease_groups']) else set(row['disease_groups'].split())\n",
    "            comorbidities.append(current_comorbidity)\n",
    "            \n",
    "            # Calculate the unique comorbidities up to the previous episode\n",
    "            prior_comorbidities_set = set().union(*comorbidities[:-1])\n",
    "            \n",
    "            # Update the 'prior_comorbidities' column in the DataFrame\n",
    "            nimess.at[index, 'prior_comorbidities'] = prior_comorbidities_set\n",
    "\n",
    "    return nimess\n",
    "\n",
    "# Apply the function to your DataFrame\n",
    "nimess = calculate_prior_comorbidities(nimess)"
   ]
  },
  {
   "cell_type": "code",
   "execution_count": 24,
   "id": "a6e4715d-ef6f-4c1f-ade6-bb40dcd19cec",
   "metadata": {
    "tags": []
   },
   "outputs": [],
   "source": [
    "pasient.iloc[:, 3:4] = pasient.iloc[:, 3:4].apply(pd.to_datetime, errors='coerce')"
   ]
  },
  {
   "cell_type": "code",
   "execution_count": 25,
   "id": "394790ef-8db0-4a20-8691-f0b76eecd26d",
   "metadata": {
    "tags": []
   },
   "outputs": [],
   "source": [
    "nimess = pd.merge(nimess, pasient, on=['ppid'], how='left')"
   ]
  },
  {
   "cell_type": "code",
   "execution_count": 26,
   "id": "b9b92e48-9253-4965-aad7-cb2e240b1598",
   "metadata": {},
   "outputs": [],
   "source": [
    "nimess['age'] = nimess['inndatotid'].dt.year - nimess['fødtår']"
   ]
  },
  {
   "cell_type": "code",
   "execution_count": 27,
   "id": "4145133f-1d4e-45cd-839e-0cfe8633a80f",
   "metadata": {
    "tags": []
   },
   "outputs": [
    {
     "data": {
      "text/plain": [
       "{}                                                                                               673881\n",
       "{cardiovascular}                                                                                 153178\n",
       "{infection}                                                                                      117463\n",
       "{cancer}                                                                                          61974\n",
       "{cardiovascular, infection}                                                                       35306\n",
       "                                                                                                  ...  \n",
       "{infection,, organdysfunction,, skinandsofttissueinfection, urinarytractinfection, infection}         1\n",
       "{organdysfunction,, sepsis, organdysfunction, infection,, skinandsofttissueinfection,}                1\n",
       "{urinarytractinfection, organdysfunction, skinandsofttissueinfection, infection,}                     1\n",
       "{organdysfunction, skinandsofttissueinfection, infection,, dementia,}                                 1\n",
       "{infection,, organdysfunction,, sepsis, cardiovascular, urinarytractinfection,, infection}            1\n",
       "Name: prior_comorbidities, Length: 1169, dtype: int64"
      ]
     },
     "execution_count": 27,
     "metadata": {},
     "output_type": "execute_result"
    }
   ],
   "source": [
    "def remove_duplicates(entry):\n",
    "    # Handle missing values by returning an empty set representation\n",
    "    if pd.isna(entry):\n",
    "        return '{}'\n",
    "    \n",
    "    # If entry is a string that represents a set, convert to a set literal\n",
    "    if isinstance(entry, str):\n",
    "        # Remove curly braces and split the string into a list by ','\n",
    "        diseases = entry.strip('{}').split(',')\n",
    "        # Remove leading/trailing whitespaces and filter out empty strings\n",
    "        diseases = [disease.strip() for disease in diseases if disease.strip()]\n",
    "    elif isinstance(entry, set):\n",
    "        # If entry is already a set, just use it directly\n",
    "        diseases = entry\n",
    "    else:\n",
    "        # If it's neither a set nor a string, raise an error\n",
    "        raise ValueError(f\"Unexpected type {type(entry)}. Entries must be sets or strings that represent sets or NaN.\")\n",
    "\n",
    "    # Convert list to set and back to list to remove duplicates (if it was a string)\n",
    "    unique_diseases = set(diseases)\n",
    "    # Join the unique diseases back into a string with comma separation\n",
    "    return '{' + ', '.join(unique_diseases) + '}'\n",
    "\n",
    "# Apply the function to the 'prior_comorbidities' column\n",
    "nimess['prior_comorbidities'] = nimess['prior_comorbidities'].apply(remove_duplicates)\n",
    "\n",
    "nimess.prior_comorbidities.value_counts()"
   ]
  },
  {
   "cell_type": "code",
   "execution_count": 28,
   "id": "7aab4244-acca-42ee-af94-69f6dd478eb5",
   "metadata": {},
   "outputs": [
    {
     "data": {
      "text/plain": [
       "9542"
      ]
     },
     "execution_count": 28,
     "metadata": {},
     "output_type": "execute_result"
    }
   ],
   "source": [
    "# Ensure the column is a string and replace NaNs with an empty string\n",
    "nimess['ICD'] = nimess['ICD'].fillna('').astype(str)\n",
    "\n",
    "# Now try creating your set\n",
    "unique_icd_codes = set(code for sublist in nimess['ICD'].str.split(' ') for code in sublist if code)\n",
    "\n",
    "# Convert the set to a list\n",
    "unique_icd_codes_list = list(unique_icd_codes)\n",
    "\n",
    "# Optionally, sort the list if required\n",
    "unique_icd_codes_list.sort()\n",
    "\n",
    "# Get the length of the list\n",
    "len(unique_icd_codes_list)\n"
   ]
  },
  {
   "cell_type": "code",
   "execution_count": 29,
   "id": "9813340a-7a3b-46dd-b596-4ee55bdd4f1e",
   "metadata": {},
   "outputs": [
    {
     "data": {
      "text/plain": [
       "6063"
      ]
     },
     "execution_count": 29,
     "metadata": {},
     "output_type": "execute_result"
    }
   ],
   "source": [
    "# Ensure the column is a string and replace NaNs with an empty string\n",
    "nimess['Procedure'] = nimess['Procedure'].fillna('').astype(str)\n",
    "\n",
    "# Now try creating your set\n",
    "unique_Procedure_codes = set(code for sublist in nimess['Procedure'].str.split(' ') for code in sublist if code)\n",
    "\n",
    "# Convert the set to a list\n",
    "unique_Procedure_codes_list = list(unique_Procedure_codes)\n",
    "\n",
    "# Optionally, sort the list if required\n",
    "unique_Procedure_codes_list.sort()\n",
    "\n",
    "# Get the length of the list\n",
    "len(unique_Procedure_codes_list)"
   ]
  },
  {
   "cell_type": "code",
   "execution_count": 30,
   "id": "af8dbc43-2c73-43f6-8331-66d142c78c73",
   "metadata": {},
   "outputs": [
    {
     "data": {
      "text/plain": [
       "Z491 N185                            68475\n",
       "C509                                 22466\n",
       "C349                                 16981\n",
       "C61                                  16635\n",
       "Z478                                 16380\n",
       "                                     ...  \n",
       "C831 J189 E878                           1\n",
       "A415 R650 C831                           1\n",
       "C831 N300 B968 C792 I252 I209 D62        1\n",
       "C830 C792 I252 I209 L97                  1\n",
       "O680 O756 O620 Z370 O990                 1\n",
       "Name: ICD, Length: 168134, dtype: int64"
      ]
     },
     "execution_count": 30,
     "metadata": {},
     "output_type": "execute_result"
    }
   ],
   "source": [
    "nimess['ICD'].value_counts()"
   ]
  },
  {
   "cell_type": "code",
   "execution_count": 31,
   "id": "3f2505d4-0569-4ce7-92ec-1bcf4473af97",
   "metadata": {},
   "outputs": [
    {
     "data": {
      "text/plain": [
       "                                  652412\n",
       "KAGD40                             51756\n",
       "WBOC05                             26310\n",
       "RXGD25                             23561\n",
       "WBGM00                             15999\n",
       "                                   ...  \n",
       "GDFC05 GDFX20 WGFX00 GDFC00            1\n",
       "KXFX00 KXFF00                          1\n",
       "NGF01 NGF12 ZXE20 NGW99 REGG00         1\n",
       "QCB05 QDB05 WBGM45 WLGX35              1\n",
       "UKC02 KAC00                            1\n",
       "Name: Procedure, Length: 55352, dtype: int64"
      ]
     },
     "execution_count": 31,
     "metadata": {},
     "output_type": "execute_result"
    }
   ],
   "source": [
    "nimess['Procedure'].value_counts()"
   ]
  },
  {
   "cell_type": "code",
   "execution_count": 32,
   "id": "e7a1733f-7233-4126-b928-0ef9dd7f4c19",
   "metadata": {},
   "outputs": [],
   "source": [
    "# Add new columns for each letter in the alphabet initialized to 0\n",
    "for char in '0123456789ABCDEFGHIJKLMNOPQRSTUVWXYZ':\n",
    "    nimess['procedure_' + char] = 0\n",
    "\n",
    "# Function to count the occurrences and update the dataframe\n",
    "def count_procedures(row):\n",
    "    procedures = row['Procedure'].split()  # Split the string by space\n",
    "    for procedure in procedures:\n",
    "        if procedure:  # Check if the procedure is not an empty string\n",
    "            # Increment the corresponding column based on the first letter of the procedure\n",
    "            row['procedure_' + procedure[0].upper()] += 1\n",
    "    return row\n",
    "\n",
    "# Apply the function to each row\n",
    "nimess = nimess.apply(count_procedures, axis=1)"
   ]
  },
  {
   "cell_type": "code",
   "execution_count": 33,
   "id": "5ab088c6-f6d4-451c-9395-d55c62386c07",
   "metadata": {},
   "outputs": [
    {
     "data": {
      "text/plain": [
       "0     1209355\n",
       "1      112417\n",
       "2        5375\n",
       "3         643\n",
       "4         168\n",
       "5          95\n",
       "6          70\n",
       "7          27\n",
       "8          20\n",
       "11          6\n",
       "10          6\n",
       "9           2\n",
       "12          1\n",
       "Name: procedure_Z, dtype: int64"
      ]
     },
     "execution_count": 33,
     "metadata": {},
     "output_type": "execute_result"
    }
   ],
   "source": [
    "nimess.procedure_Z.value_counts()"
   ]
  },
  {
   "cell_type": "code",
   "execution_count": 34,
   "id": "63da8ba2-2c19-4a45-9879-852bb54820e7",
   "metadata": {},
   "outputs": [],
   "source": [
    "# Add new columns for each letter in the alphabet initialized to 0\n",
    "for char in '0123456789ABCDEFGHIJKLMNOPQRSTUVWXYZ':\n",
    "    nimess['ICD_' + char] = 0\n",
    "\n",
    "# Function to count the occurrences and update the dataframe\n",
    "def count_ICDs(row):\n",
    "    ICDs = row['ICD'].split()  # Split the string by space\n",
    "    for ICD in ICDs:\n",
    "        if ICD:  # Check if the procedure is not an empty string\n",
    "            # Increment the corresponding column based on the first letter of the procedure\n",
    "            row['ICD_' + ICD[0].upper()] += 1\n",
    "    return row\n",
    "\n",
    "# Apply the function to each row\n",
    "nimess = nimess.apply(count_ICDs, axis=1)"
   ]
  },
  {
   "cell_type": "code",
   "execution_count": 35,
   "id": "dbc3e02e-abb5-425d-932f-230b06b786a8",
   "metadata": {},
   "outputs": [
    {
     "data": {
      "text/plain": [
       "0    1313413\n",
       "1      14352\n",
       "2        388\n",
       "3         32\n",
       "Name: ICD_A, dtype: int64"
      ]
     },
     "execution_count": 35,
     "metadata": {},
     "output_type": "execute_result"
    }
   ],
   "source": [
    "nimess.ICD_A.value_counts()"
   ]
  },
  {
   "cell_type": "code",
   "execution_count": 36,
   "id": "578a5c8b-f3e6-4044-9011-4de988de49b6",
   "metadata": {},
   "outputs": [],
   "source": [
    "nimess = nimess.dropna(axis=1, how='all')"
   ]
  },
  {
   "cell_type": "code",
   "execution_count": 37,
   "id": "de2be267-d49a-4b3b-8019-3e22a05d7960",
   "metadata": {},
   "outputs": [
    {
     "data": {
      "text/plain": [
       "(1328185, 90)"
      ]
     },
     "execution_count": 37,
     "metadata": {},
     "output_type": "execute_result"
    }
   ],
   "source": [
    "nimess.shape"
   ]
  },
  {
   "cell_type": "code",
   "execution_count": 38,
   "id": "6a25d0f6-85a8-456f-835e-bfda155a0b4e",
   "metadata": {},
   "outputs": [],
   "source": [
    "nimess['date_column'] = nimess['inndatotid'].dt.date"
   ]
  },
  {
   "cell_type": "code",
   "execution_count": 39,
   "id": "cea866e7-8150-40c4-9047-c0fbcc9ad0a3",
   "metadata": {},
   "outputs": [],
   "source": [
    "nimess.to_csv('nimess_eventlog_age_gen.csv')"
   ]
  },
  {
   "cell_type": "code",
   "execution_count": 40,
   "id": "6fb7ef93-41a4-415a-b579-5ae7faf5eaf8",
   "metadata": {},
   "outputs": [
    {
     "data": {
      "text/plain": [
       "Index(['index', 'ppid', 'inndatotid', 'utdatotid', 'episodeid', 'urgency_code',\n",
       "       'care_level_code', 'LOS', 'ICD', 'Procedure', 'time_to_last',\n",
       "       'disease_groups', 'total_los', 'prior_comorbidities', 'fødtår', 'kjønn',\n",
       "       'dødsdato', 'age', 'procedure_0', 'procedure_1', 'procedure_2',\n",
       "       'procedure_3', 'procedure_4', 'procedure_5', 'procedure_6',\n",
       "       'procedure_7', 'procedure_8', 'procedure_9', 'procedure_A',\n",
       "       'procedure_B', 'procedure_C', 'procedure_D', 'procedure_E',\n",
       "       'procedure_F', 'procedure_G', 'procedure_H', 'procedure_I',\n",
       "       'procedure_J', 'procedure_K', 'procedure_L', 'procedure_M',\n",
       "       'procedure_N', 'procedure_O', 'procedure_P', 'procedure_Q',\n",
       "       'procedure_R', 'procedure_S', 'procedure_T', 'procedure_U',\n",
       "       'procedure_V', 'procedure_W', 'procedure_X', 'procedure_Y',\n",
       "       'procedure_Z', 'ICD_0', 'ICD_1', 'ICD_2', 'ICD_3', 'ICD_4', 'ICD_5',\n",
       "       'ICD_6', 'ICD_7', 'ICD_8', 'ICD_9', 'ICD_A', 'ICD_B', 'ICD_C', 'ICD_D',\n",
       "       'ICD_E', 'ICD_F', 'ICD_G', 'ICD_H', 'ICD_I', 'ICD_J', 'ICD_K', 'ICD_L',\n",
       "       'ICD_M', 'ICD_N', 'ICD_O', 'ICD_P', 'ICD_Q', 'ICD_R', 'ICD_S', 'ICD_T',\n",
       "       'ICD_U', 'ICD_V', 'ICD_W', 'ICD_X', 'ICD_Y', 'ICD_Z', 'date_column'],\n",
       "      dtype='object')"
      ]
     },
     "execution_count": 40,
     "metadata": {},
     "output_type": "execute_result"
    }
   ],
   "source": [
    "nimess.columns"
   ]
  },
  {
   "cell_type": "code",
   "execution_count": null,
   "id": "b3285d03-5bc3-4a5d-86ba-de86fa535e7f",
   "metadata": {},
   "outputs": [],
   "source": []
  },
  {
   "cell_type": "code",
   "execution_count": null,
   "id": "f9221a7c-e0c7-4077-a7a8-d40e3fd07af4",
   "metadata": {},
   "outputs": [],
   "source": []
  },
  {
   "cell_type": "code",
   "execution_count": null,
   "id": "ddc79bdb-dbb0-47f4-a664-aa88fd923820",
   "metadata": {},
   "outputs": [],
   "source": []
  },
  {
   "cell_type": "code",
   "execution_count": null,
   "id": "fc25b6c1-8e8d-44a1-b554-23efad87e1b5",
   "metadata": {},
   "outputs": [],
   "source": []
  },
  {
   "cell_type": "code",
   "execution_count": null,
   "id": "44c8847d-0cba-40ec-8cd5-74c48a92730e",
   "metadata": {},
   "outputs": [],
   "source": []
  },
  {
   "cell_type": "code",
   "execution_count": null,
   "id": "0a2eefba-d4c7-4515-9f90-3316d43467a6",
   "metadata": {},
   "outputs": [],
   "source": []
  },
  {
   "cell_type": "code",
   "execution_count": null,
   "id": "40ea27ca-21dc-40f7-83cb-ea85d839b0aa",
   "metadata": {},
   "outputs": [],
   "source": []
  },
  {
   "cell_type": "code",
   "execution_count": null,
   "id": "13ab935f-56cf-4c74-a8a5-f902e9ce6ac2",
   "metadata": {},
   "outputs": [],
   "source": []
  },
  {
   "cell_type": "code",
   "execution_count": null,
   "id": "9eac1fbc-ecc8-477a-918c-f78b0a5cc352",
   "metadata": {},
   "outputs": [],
   "source": []
  },
  {
   "cell_type": "code",
   "execution_count": null,
   "id": "4833e67c-d058-4678-9b63-3b2fdc3f1425",
   "metadata": {},
   "outputs": [],
   "source": []
  },
  {
   "cell_type": "code",
   "execution_count": null,
   "id": "5d9ed04b-ac62-44f1-ac7a-386c52a1fb36",
   "metadata": {},
   "outputs": [],
   "source": []
  },
  {
   "cell_type": "code",
   "execution_count": null,
   "id": "757638c1-0885-4855-aabb-270c9ae6f46e",
   "metadata": {},
   "outputs": [],
   "source": []
  },
  {
   "cell_type": "code",
   "execution_count": 40,
   "id": "6fb6f399-3525-454d-b796-ae25767b99df",
   "metadata": {
    "tags": []
   },
   "outputs": [],
   "source": [
    "# Function to clean the trfl result column values\n",
    "def clean_anly_result(value):\n",
    "    # Remove non-numeric characters\n",
    "    cleaned_value = re.sub('[^0-9,.]', '', value)\n",
    "    \n",
    "    # Replace ',' with '.'\n",
    "    cleaned_value = cleaned_value.replace(',', '.')\n",
    "\n",
    "    return cleaned_value\n",
    "\n",
    "# Preprocess nsml and trfl\n",
    "nsml['date_req'] = pd.to_datetime(nsml['date_req'], errors='coerce')\n",
    "trfl['date_req'] = pd.to_datetime(trfl['date_req'], format='%Y%m%d', errors='coerce')\n",
    "\n",
    "# Clean the anly_result column in trfl\n",
    "trfl['anly_result_cleaned'] = trfl['anly_result'].apply(clean_anly_result).apply(pd.to_numeric, errors='coerce')\n",
    "\n",
    "# Selecting suspected BSI episodes\n",
    "sus_bsi_nsml = nsml[nsml['matr_desc'].str.contains(\"Blodkultur\")]"
   ]
  },
  {
   "cell_type": "code",
   "execution_count": 41,
   "id": "f3841437-467b-4b50-b3ae-2ff95ea22537",
   "metadata": {
    "collapsed": true,
    "jupyter": {
     "outputs_hidden": true
    },
    "tags": []
   },
   "outputs": [
    {
     "name": "stderr",
     "output_type": "stream",
     "text": [
      "/var/folders/jv/7pzn0fgj2tdb9blxxhhxqv000000gn/T/ipykernel_3840/875484850.py:1: SettingWithCopyWarning: \n",
      "A value is trying to be set on a copy of a slice from a DataFrame.\n",
      "Try using .loc[row_indexer,col_indexer] = value instead\n",
      "\n",
      "See the caveats in the documentation: https://pandas.pydata.org/pandas-docs/stable/user_guide/indexing.html#returning-a-view-versus-a-copy\n",
      "  sus_bsi_nsml['date_req'] = pd.to_datetime(sus_bsi_nsml['date_req'])\n",
      "/var/folders/jv/7pzn0fgj2tdb9blxxhhxqv000000gn/T/ipykernel_3840/875484850.py:5: SettingWithCopyWarning: \n",
      "A value is trying to be set on a copy of a slice from a DataFrame.\n",
      "Try using .loc[row_indexer,col_indexer] = value instead\n",
      "\n",
      "See the caveats in the documentation: https://pandas.pydata.org/pandas-docs/stable/user_guide/indexing.html#returning-a-view-versus-a-copy\n",
      "  sus_bsi_nsml['micr_prt_name'] = sus_bsi_nsml['micr_prt_name'].astype(str).str.upper().str.strip()\n"
     ]
    },
    {
     "name": "stdout",
     "output_type": "stream",
     "text": [
      "Number of positives marked: 82454\n"
     ]
    },
    {
     "name": "stderr",
     "output_type": "stream",
     "text": [
      "/var/folders/jv/7pzn0fgj2tdb9blxxhhxqv000000gn/T/ipykernel_3840/875484850.py:9: SettingWithCopyWarning: \n",
      "A value is trying to be set on a copy of a slice from a DataFrame.\n",
      "Try using .loc[row_indexer,col_indexer] = value instead\n",
      "\n",
      "See the caveats in the documentation: https://pandas.pydata.org/pandas-docs/stable/user_guide/indexing.html#returning-a-view-versus-a-copy\n",
      "  sus_bsi_nsml['anly_result'] = 'negative'\n",
      "/Users/rajeevbopche/opt/anaconda3/lib/python3.9/site-packages/pandas/core/indexing.py:1817: SettingWithCopyWarning: \n",
      "A value is trying to be set on a copy of a slice from a DataFrame.\n",
      "Try using .loc[row_indexer,col_indexer] = value instead\n",
      "\n",
      "See the caveats in the documentation: https://pandas.pydata.org/pandas-docs/stable/user_guide/indexing.html#returning-a-view-versus-a-copy\n",
      "  self._setitem_single_column(loc, value, pi)\n"
     ]
    }
   ],
   "source": [
    "sus_bsi_nsml['date_req'] = pd.to_datetime(sus_bsi_nsml['date_req'])\n",
    "\n",
    "contaminants = [x.upper().strip() for x in contaminants]\n",
    "\n",
    "sus_bsi_nsml['micr_prt_name'] = sus_bsi_nsml['micr_prt_name'].astype(str).str.upper().str.strip()\n",
    "\n",
    "sus_bsi_nsml.replace(r'^\\s*$', np.nan, regex=True)\n",
    "\n",
    "sus_bsi_nsml['anly_result'] = 'negative'\n",
    "\n",
    "# Assuming 'NaN' or 'None' might be placeholders for null values after conversion to strings\n",
    "non_positive_indicators = ['', 'NAN', 'NONE']\n",
    "\n",
    "# Mark as 'positive' if 'micr_prt_name' contains a name that is not one of the non-positive indicators\n",
    "sus_bsi_nsml.loc[~sus_bsi_nsml['micr_prt_name'].isin(non_positive_indicators), 'anly_result'] = 'positive'\n",
    "\n",
    "# Check how many are marked as positive\n",
    "positive_count = sus_bsi_nsml[sus_bsi_nsml['anly_result'] == 'positive'].shape[0]\n",
    "print(f\"Number of positives marked: {positive_count}\")\n",
    "\n",
    "# Mark entries as 'contaminant' if micr_prt_name is in contaminants list.\n",
    "sus_bsi_nsml.loc[sus_bsi_nsml['micr_prt_name'].isin(contaminants), 'anly_result'] = 'contaminant'"
   ]
  },
  {
   "cell_type": "code",
   "execution_count": 42,
   "id": "102a6d3b-db7a-44e6-a3be-642868074998",
   "metadata": {},
   "outputs": [],
   "source": [
    "# Function to determine the aggregated result for each group.\n",
    "def determine_aggregated_result(group):\n",
    "    if 'positive' in group['anly_result'].values and 'contaminant' in group['anly_result'].values:\n",
    "        return 'positive, contaminant'\n",
    "    elif 'positive' in group['anly_result'].values:\n",
    "        return 'positive'\n",
    "    elif 'contaminant' in group['anly_result'].values:\n",
    "        return 'contaminant'\n",
    "    else:\n",
    "        return 'negative'\n",
    "\n",
    "# Now, aggregate by ppid and date_req and apply the function to determine the aggregated result.\n",
    "aggregated_results = sus_bsi_nsml.groupby(['ppid', 'date_req']).apply(determine_aggregated_result).reset_index(name='aggregated_result')\n",
    "\n",
    "# Merge aggregated results back to the original dataframe\n",
    "sus_bsi_nsml = sus_bsi_nsml.merge(aggregated_results, how='left', on=['ppid', 'date_req'])"
   ]
  },
  {
   "cell_type": "code",
   "execution_count": 43,
   "id": "867bdb11-d7c6-412e-b7f6-5521ce84f9d3",
   "metadata": {},
   "outputs": [
    {
     "data": {
      "text/plain": [
       "negative                 69869\n",
       "positive                  5207\n",
       "contaminant               2415\n",
       "positive, contaminant      387\n",
       "Name: aggregated_result, dtype: int64"
      ]
     },
     "execution_count": 43,
     "metadata": {},
     "output_type": "execute_result"
    }
   ],
   "source": [
    "aggregated = sus_bsi_nsml[['ppid', 'date_req', 'aggregated_result']].copy()\n",
    "aggregated = aggregated.drop_duplicates()\n",
    "aggregated.aggregated_result.value_counts()"
   ]
  },
  {
   "cell_type": "code",
   "execution_count": 188,
   "id": "658c7eda-f05b-412c-87a2-7772f904ce3a",
   "metadata": {},
   "outputs": [
    {
     "data": {
      "text/plain": [
       "(77878, 6)"
      ]
     },
     "execution_count": 188,
     "metadata": {},
     "output_type": "execute_result"
    }
   ],
   "source": [
    "aggregated.shape"
   ]
  },
  {
   "cell_type": "code",
   "execution_count": 44,
   "id": "ab80f7aa-c41d-44a7-98e4-2ec8bfef6c7d",
   "metadata": {},
   "outputs": [],
   "source": [
    "aggregated['prior_positives'] = aggregated.groupby('ppid')['aggregated_result'].apply(\n",
    "    lambda x: (x == 'positive').cumsum() - (x == 'positive').astype(int)\n",
    ")\n",
    "aggregated['prior_negatives'] = aggregated.groupby('ppid')['aggregated_result'].apply(\n",
    "    lambda x: (x == 'negative').cumsum() - (x == 'negative').astype(int)\n",
    ")\n",
    "aggregated['prior_contaminants'] = aggregated.groupby('ppid')['aggregated_result'].apply(\n",
    "    lambda x: (x == 'contaminant').cumsum() - (x == 'contaminant').astype(int)\n",
    ")"
   ]
  },
  {
   "cell_type": "code",
   "execution_count": 45,
   "id": "fa869e3f-2152-4b82-890a-2106e35a8b50",
   "metadata": {},
   "outputs": [
    {
     "data": {
      "text/plain": [
       "reqs_year                       int64\n",
       "reqs_no                         int64\n",
       "ppid                            int64\n",
       "ande_code                       int64\n",
       "anly_result                    object\n",
       "result_ctr_flag                object\n",
       "high_reference                float64\n",
       "low_reference                 float64\n",
       "ande_name                      object\n",
       "matr_code                      object\n",
       "date_req               datetime64[ns]\n",
       "date_coll                       int64\n",
       "reqr_code_prim                 object\n",
       "reqr_name                      object\n",
       "stagelineageid                  int64\n",
       "anly_result_cleaned           float64\n",
       "dtype: object"
      ]
     },
     "execution_count": 45,
     "metadata": {},
     "output_type": "execute_result"
    }
   ],
   "source": [
    "trfl.dtypes"
   ]
  },
  {
   "cell_type": "code",
   "execution_count": 46,
   "id": "888e4277-e361-4052-90de-3bc94d58ea0e",
   "metadata": {},
   "outputs": [],
   "source": [
    "trfl['ande_name'] = trfl['ande_name'].astype(str).str.upper().str.strip()"
   ]
  },
  {
   "cell_type": "code",
   "execution_count": 47,
   "id": "9d7cd6c2-6cfa-43e0-a34d-6f3d777914e9",
   "metadata": {},
   "outputs": [
    {
     "data": {
      "text/plain": [
       "array(['TROMBOCYTTER', 'CRP', 'LEUKOCYTTER', 'CRP-HØYSENSITIV',\n",
       "       'KREATININ', 'BILIRUBIN TOTAL', 'PH', 'LAKTAT BLODGASS',\n",
       "       'BILIRUBIN UKONJUGERT', 'BILIRUBIN KONJUGERT',\n",
       "       'TROMBOCYTTANTISTOFF', 'LAKTAT BLODGASS VENØST', 'LAKTAT',\n",
       "       'TROMBOCYTTFORLIK', 'PO2', 'PH PNA', 'PO2 PNA', 'LAKTAT PNA'],\n",
       "      dtype=object)"
      ]
     },
     "execution_count": 47,
     "metadata": {},
     "output_type": "execute_result"
    }
   ],
   "source": [
    "trfl.ande_name.unique()"
   ]
  },
  {
   "cell_type": "code",
   "execution_count": 48,
   "id": "45ebbef2-f940-4682-983d-95776985b086",
   "metadata": {},
   "outputs": [],
   "source": [
    "# Create a filter for the required test names\n",
    "test_names = [\n",
    "    'TROMBOCYTTER', 'CRP', 'LEUKOCYTTER', 'CRP-HØYSENSITIV',\n",
    "    'KREATININ', 'BILIRUBIN TOTAL', 'PH', 'LAKTAT BLODGASS',\n",
    "    'BILIRUBIN UKONJUGERT', 'BILIRUBIN KONJUGERT',\n",
    "    'TROMBOCYTTANTISTOFF', 'LAKTAT BLODGASS VENØST', 'LAKTAT',\n",
    "    'TROMBOCYTTFORLIK', 'PO2', 'PH PNA', 'PO2 PNA', 'LAKTAT PNA'\n",
    "]\n",
    "\n",
    "# Filter the dataframe\n",
    "filtered_df = trfl[trfl['ande_name'].isin(test_names)]\n",
    "\n",
    "# Pivot the table to get the desired shape\n",
    "pivot_df = filtered_df.pivot_table(\n",
    "    index=['ppid', 'date_req'], \n",
    "    columns='ande_name', \n",
    "    values='anly_result_cleaned',\n",
    "    aggfunc='mean'  # You might want to use a different aggregation function if there are multiple values per group\n",
    ")\n",
    "\n",
    "# Reset the index to make 'ppid' and 'date_req' into columns\n",
    "pivot_df.reset_index(inplace=True)\n",
    "\n",
    "# Optionally, rename the columns to remove the multi-level index\n",
    "pivot_df.columns.name = None\n",
    "pivot_df.columns = [col if isinstance(col, str) else col[1] for col in pivot_df.columns.values]\n"
   ]
  },
  {
   "cell_type": "code",
   "execution_count": 50,
   "id": "a09b4a71-b721-40de-8a32-0c0ce3adeb2b",
   "metadata": {},
   "outputs": [],
   "source": [
    "# First, make sure the dataframe is sorted by 'ppid' and 'date_req' to ensure the averages are cumulative over time\n",
    "pivot_df.sort_values(by=['ppid', 'date_req'], inplace=True)\n",
    "\n",
    "# Calculate cumulative averages for each test and each ppid\n",
    "for test_name in pivot_df.columns:\n",
    "    if test_name.startswith('overall_average_'):  # Skip already calculated cumulative averages\n",
    "        continue\n",
    "    if test_name not in ['ppid', 'date_req']:  # Skip the 'ppid' and 'date_req' columns\n",
    "        # Create a new column for the cumulative average per test, only if the test column exists\n",
    "        pivot_df[f'overall_average_{test_name}'] = pivot_df.groupby('ppid')[test_name].expanding().mean().reset_index(level=0, drop=True)\n"
   ]
  },
  {
   "cell_type": "code",
   "execution_count": 53,
   "id": "4537e077-5315-49c6-9aee-167f0da8d0a5",
   "metadata": {
    "tags": []
   },
   "outputs": [
    {
     "data": {
      "text/plain": [
       "Index(['ppid', 'date_req', 'BILIRUBIN KONJUGERT', 'BILIRUBIN TOTAL',\n",
       "       'BILIRUBIN UKONJUGERT', 'CRP', 'CRP-HØYSENSITIV', 'KREATININ', 'LAKTAT',\n",
       "       'LAKTAT BLODGASS', 'LAKTAT BLODGASS VENØST', 'LAKTAT PNA',\n",
       "       'LEUKOCYTTER', 'PH', 'PH PNA', 'PO2', 'PO2 PNA', 'TROMBOCYTTER',\n",
       "       'overall_average_BILIRUBIN KONJUGERT',\n",
       "       'overall_average_BILIRUBIN TOTAL',\n",
       "       'overall_average_BILIRUBIN UKONJUGERT', 'overall_average_CRP',\n",
       "       'overall_average_CRP-HØYSENSITIV', 'overall_average_KREATININ',\n",
       "       'overall_average_LAKTAT', 'overall_average_LAKTAT BLODGASS',\n",
       "       'overall_average_LAKTAT BLODGASS VENØST', 'overall_average_LAKTAT PNA',\n",
       "       'overall_average_LEUKOCYTTER', 'overall_average_PH',\n",
       "       'overall_average_PH PNA', 'overall_average_PO2',\n",
       "       'overall_average_PO2 PNA', 'overall_average_TROMBOCYTTER'],\n",
       "      dtype='object')"
      ]
     },
     "execution_count": 53,
     "metadata": {},
     "output_type": "execute_result"
    }
   ],
   "source": [
    "pivot_df.columns"
   ]
  },
  {
   "cell_type": "code",
   "execution_count": 54,
   "id": "f01dd2ea-4488-4004-84f6-ab269e4df1bb",
   "metadata": {
    "collapsed": true,
    "jupyter": {
     "outputs_hidden": true
    },
    "tags": []
   },
   "outputs": [
    {
     "data": {
      "text/html": [
       "<div>\n",
       "<style scoped>\n",
       "    .dataframe tbody tr th:only-of-type {\n",
       "        vertical-align: middle;\n",
       "    }\n",
       "\n",
       "    .dataframe tbody tr th {\n",
       "        vertical-align: top;\n",
       "    }\n",
       "\n",
       "    .dataframe thead th {\n",
       "        text-align: right;\n",
       "    }\n",
       "</style>\n",
       "<table border=\"1\" class=\"dataframe\">\n",
       "  <thead>\n",
       "    <tr style=\"text-align: right;\">\n",
       "      <th></th>\n",
       "      <th>ppid</th>\n",
       "      <th>date_req</th>\n",
       "      <th>aggregated_result</th>\n",
       "      <th>prior_positives</th>\n",
       "      <th>prior_negatives</th>\n",
       "      <th>prior_contaminants</th>\n",
       "    </tr>\n",
       "  </thead>\n",
       "  <tbody>\n",
       "    <tr>\n",
       "      <th>0</th>\n",
       "      <td>34564</td>\n",
       "      <td>2020-01-13</td>\n",
       "      <td>contaminant</td>\n",
       "      <td>0</td>\n",
       "      <td>0</td>\n",
       "      <td>0</td>\n",
       "    </tr>\n",
       "    <tr>\n",
       "      <th>13</th>\n",
       "      <td>17434</td>\n",
       "      <td>2019-12-15</td>\n",
       "      <td>positive</td>\n",
       "      <td>0</td>\n",
       "      <td>0</td>\n",
       "      <td>0</td>\n",
       "    </tr>\n",
       "    <tr>\n",
       "      <th>15</th>\n",
       "      <td>33005</td>\n",
       "      <td>2019-12-24</td>\n",
       "      <td>positive</td>\n",
       "      <td>0</td>\n",
       "      <td>0</td>\n",
       "      <td>0</td>\n",
       "    </tr>\n",
       "    <tr>\n",
       "      <th>17</th>\n",
       "      <td>23131</td>\n",
       "      <td>2020-03-06</td>\n",
       "      <td>contaminant</td>\n",
       "      <td>0</td>\n",
       "      <td>0</td>\n",
       "      <td>0</td>\n",
       "    </tr>\n",
       "    <tr>\n",
       "      <th>28</th>\n",
       "      <td>6000</td>\n",
       "      <td>2020-01-27</td>\n",
       "      <td>positive</td>\n",
       "      <td>0</td>\n",
       "      <td>0</td>\n",
       "      <td>0</td>\n",
       "    </tr>\n",
       "    <tr>\n",
       "      <th>...</th>\n",
       "      <td>...</td>\n",
       "      <td>...</td>\n",
       "      <td>...</td>\n",
       "      <td>...</td>\n",
       "      <td>...</td>\n",
       "      <td>...</td>\n",
       "    </tr>\n",
       "    <tr>\n",
       "      <th>345604</th>\n",
       "      <td>15146</td>\n",
       "      <td>2016-11-10</td>\n",
       "      <td>negative</td>\n",
       "      <td>0</td>\n",
       "      <td>1</td>\n",
       "      <td>0</td>\n",
       "    </tr>\n",
       "    <tr>\n",
       "      <th>345608</th>\n",
       "      <td>15146</td>\n",
       "      <td>2017-08-07</td>\n",
       "      <td>negative</td>\n",
       "      <td>0</td>\n",
       "      <td>2</td>\n",
       "      <td>0</td>\n",
       "    </tr>\n",
       "    <tr>\n",
       "      <th>345612</th>\n",
       "      <td>15146</td>\n",
       "      <td>2017-08-13</td>\n",
       "      <td>negative</td>\n",
       "      <td>0</td>\n",
       "      <td>3</td>\n",
       "      <td>0</td>\n",
       "    </tr>\n",
       "    <tr>\n",
       "      <th>345616</th>\n",
       "      <td>15146</td>\n",
       "      <td>2018-05-06</td>\n",
       "      <td>negative</td>\n",
       "      <td>0</td>\n",
       "      <td>4</td>\n",
       "      <td>0</td>\n",
       "    </tr>\n",
       "    <tr>\n",
       "      <th>345618</th>\n",
       "      <td>15146</td>\n",
       "      <td>2019-11-21</td>\n",
       "      <td>negative</td>\n",
       "      <td>0</td>\n",
       "      <td>5</td>\n",
       "      <td>0</td>\n",
       "    </tr>\n",
       "  </tbody>\n",
       "</table>\n",
       "<p>77878 rows × 6 columns</p>\n",
       "</div>"
      ],
      "text/plain": [
       "         ppid   date_req aggregated_result  prior_positives  prior_negatives  \\\n",
       "0       34564 2020-01-13       contaminant                0                0   \n",
       "13      17434 2019-12-15          positive                0                0   \n",
       "15      33005 2019-12-24          positive                0                0   \n",
       "17      23131 2020-03-06       contaminant                0                0   \n",
       "28       6000 2020-01-27          positive                0                0   \n",
       "...       ...        ...               ...              ...              ...   \n",
       "345604  15146 2016-11-10          negative                0                1   \n",
       "345608  15146 2017-08-07          negative                0                2   \n",
       "345612  15146 2017-08-13          negative                0                3   \n",
       "345616  15146 2018-05-06          negative                0                4   \n",
       "345618  15146 2019-11-21          negative                0                5   \n",
       "\n",
       "        prior_contaminants  \n",
       "0                        0  \n",
       "13                       0  \n",
       "15                       0  \n",
       "17                       0  \n",
       "28                       0  \n",
       "...                    ...  \n",
       "345604                   0  \n",
       "345608                   0  \n",
       "345612                   0  \n",
       "345616                   0  \n",
       "345618                   0  \n",
       "\n",
       "[77878 rows x 6 columns]"
      ]
     },
     "execution_count": 54,
     "metadata": {},
     "output_type": "execute_result"
    }
   ],
   "source": [
    "aggregated"
   ]
  },
  {
   "cell_type": "code",
   "execution_count": 59,
   "id": "ff98d67a-1191-4680-90c4-bca8d3253301",
   "metadata": {},
   "outputs": [],
   "source": [
    "nsml['matr_desc'] = nsml['matr_desc'].astype(str).str.upper().str.strip()"
   ]
  },
  {
   "cell_type": "code",
   "execution_count": 102,
   "id": "94d2b31d-eb82-42e8-ab08-d874f19e6ef8",
   "metadata": {
    "collapsed": true,
    "jupyter": {
     "outputs_hidden": true
    },
    "tags": []
   },
   "outputs": [
    {
     "name": "stdout",
     "output_type": "stream",
     "text": [
      "['BLODKULTUR', 'NASOPHARYNXASPIRAT (LUFT)', 'VEV/BIOPSI', 'PUSS/SEKRET', 'URIN', 'NASOPHARYNXSEKRET (NAS)', 'EKSPEKTORAT', 'SÅRSEKRET', 'HALSSEKRET (VHA)', 'DRENSPISS', 'INDUSERT SPUTUM', 'FÆCES', 'UROGENITALSEKRET', 'TUNGESEKRET', 'SPINALVÆSKE', 'VAGINALSEKRET', 'HUD', 'CERVIX-/VAGINALSEKRET', 'ØYESEKRET - HØYRE ØYE', 'EDTA/UTSTRYK MALARIA', 'OPERASJONS-SÅR', 'HALSSEKRET', 'FÆCES (FÆFP)', 'MUNNSEKRET', 'CERVIXSEKRET', 'ASCITES', 'NESESEKRET', 'ANUSSEKRET', 'PERINEUM', 'EDTA-BLOD', 'NASOPHARYNXSEKRET', 'NASOPHARYNXASPIRAT (NAI)', 'BIOPSIMATERIALE', 'KATETERSPISS', 'SERUM', 'PERINEUM (MRSA)', 'ABSCESS', 'BRONKIALSKYLLEVÆSKE', 'DRENSVÆSKE', 'MORSMELK', 'LEDDVÆSKE', 'EKSPEKTORAT (VEK)', 'URIN (CLUM)', 'HALSSEKRET (MRSA)', 'URIN (CLUR)', 'URIN (CHLAMYDIA)', 'PLEURAVÆSKE', 'NESESEKRET (MRSA)', 'SEKRET (SEK)', 'MUNNHULE', 'ASPIRAT', 'OPPKAST', 'MRSA REFERANSESTAMME (MRS', 'TRACHEALASPIRAT', 'CERVIX (CERM)', 'VAGINA', 'VESIKKELINNHOLD (VESB)', 'VESIKKELINNHOLD', 'CORNEAAVSKRAP', 'ØRESEKRET, VENSTRE ØRE', 'FÆCES (FÆ)', 'CYSTEINNHOLD', 'FÆCES (VFÆN)', 'HÅR', 'SPISS AV CVK', 'ANNET', 'CH-UROGENITALSEKRET (UROM', 'NEGL', 'ØRESEKRET', 'CERVIX (CERC)', 'ØYESEKRET - VENSTRE ØYE', 'FÆCES (FÆCD)', 'ØYESEKRET (VØY)', 'ØRESEKRET, HØYRE ØRE', 'BLODKULTUR (BLS1)', 'EDTA-BLOD (BEDT)', 'SÅRSEKRET (VSÅ)', 'USPESIFISERT (USP)', 'URIN BLÆREPUNKSJON', 'CH-UROGENITALSEKRET', 'AMPUTASJONSSTUMP', 'VAGINA (VAGM)', 'USPESIFISERT (VUS)', 'ØYESEKRET - VENSTRE ØYE (', 'TRANSPLANTATMEDIUM', 'ØYESEKRET', 'URETHRA (UREM)', 'UROGENITALSEKRET (URO)', 'GENITALSEKRET (VGF)', 'SPIRAL', 'FISTEL', 'FÆCES (FÆP)', 'PD-DIALYSAT', 'VEV/BIOPSI (BIO)', 'SÅRSEKRET (MRSA)', 'PERICARDVÆSKE', 'URETHRASEKRET', 'HUDAVSKRAP (VHU)', 'BAKTERIESTAMME', 'GALLEVEISPRØVE', 'ANUSSEKRET (ANUP)', 'BLOD - ISOLATOR (TBLI)', 'BIOPSIMATERIALE (VBI)', 'LEDDVÆSKE - ANRIKET', 'PLEURAV. PÅ BL.K.FLASKE', 'MELK', 'BEINMARG (BEM)', 'URIN (TUR)', 'PLACENTA', 'UTSTRYK', 'NESESEKRET (DIA)', 'TRANSTRACHEALT ASPIRAT (T', 'NONHUMANT MATERIALE', 'HUDAVSKRAP', 'FÆCES (FÆCB)', 'BEIN FRA BEINBANK', 'VAGINALSEKRET (VVG)', 'ØYESEKRET - HØYRE ØYE (VØ', 'ABSCESS (VAB)', 'LARYNXSEKRET', 'SPINALVÆSKE (VSP)', 'FÆCES (FÆD)', 'NASOFARYNKS- OG HALSPRØVE', 'FÆCES (VFÆ)', 'NASOPHARYNXASPIRAT (LUFA)', 'VULVA (VVU)', 'DIALYSAT PÅ BL.K.FLASKE', 'DIALYSEVÆSKE', 'FÆCES (VFÆV)', 'SOPPKULTUR', 'FÆCES (FÆCP)', 'URETHRA', 'FÆCES (VFÆB)', 'BRYSTMELK', 'INNSTIKKSTED', 'HALSSEKRET (HAS)', 'ØYESEKRET (ØYC)', 'TUNGESEKRET (TUNS)', 'BEIN TIL BEINBANK', 'URIN/TRANSPORTAGAR (URC)', 'BURSAVÆSKE', 'AXILLE', 'ACITES PÅ BL.K.FLASKE', 'CERVIXSEKRET (VCE)', 'ABSCESS (TBA)', 'EDTA-BLOD (EDTA)', 'BLOD - ISOLATOR', 'ANNET (VAN)', 'BRONKIALSKYLLEVÆSKE (TBS)', 'SÅRSEKRET (SÅS)', 'BIOPSI', 'PERITONEALVÆSKE', 'EJAKULAT (EJA)', 'BRONKIALSKYLLEVÆSKE (VBS)', 'ANNET (ANS)', 'BIOPSIMATERIALE (TBI)', 'BIHULESEKRET (BIH)', 'NAVLESEKRET', 'URIN (VURI)', 'TUNGESEKRET (VTUN)', 'MUNNSEKRET (VMU)', 'ØRESEKRET (ØRS)', 'PLASMA', 'VEV (TVV)', 'TUBESEKRET (VTU)', 'EKSPEKTORAT (EXS)', 'TÅREVÆSKE', 'PUSS/SEKRET (VPUS)', 'PUSS/SEKRET (TPU)', 'EKSPEKTORAT (TEX)', 'BEINMARG', 'AUTOPSIMATRIALE', 'LYSAT', 'URIN (URS)', 'ØYESEKRET (ØYM)', 'HALSSEKRET (HALC)', 'LYSKE (LYS)', 'NASOPHARYNXSEKRET (VNAR)', 'BLODKULTUR (BLS)', 'SERUM (SSE)', 'ANUSSEKRET (VANU)', 'ANUSSEKRET (ANUS)', 'PARAFININNSTØPT VEV', 'ANUSSEKRET (ANUM)', 'DRENSVÆSKE PÅ BL.K.FLASKE', 'PUSS (PSD)', 'ASPIRAT PÅ BL.K.FLASKE', 'FOSTERVANN', 'CERVIX-/URETHRASEKRET (CU', 'ASPIRAT (VAS)', 'HALSSEKRET (VHAR)', 'URETHRASEKRET (VUR)', 'HALSSEKRET (HALG)', 'BRONKIALBØRSTE (VBR)', 'INDUSERT SPUTUM (TSPU)', 'PLEURAVÆSKE (VPLE)', 'PLEURAVÆSKE (TPL)', 'FOSTERVANN (VFO)', 'VAGINALSEKRET (CHP)', 'PACEMAKERTRÅD', 'NEGL (NEGL)', 'HALSSEKRET (HALM)', 'SPUTUM (VSPU)', 'SKYLLEVÆSKE (VSK)', 'URIN (CHU)', 'PLASMA (PLAS)', 'PERITONSILLÆRABSESS', 'NAVLESTRENG - BIT', 'UTERUSSEKRET (PUTE)', 'AUTOPSIMATRIALE (VAU)', 'PERICARDVÆSKE (VPEC)', 'HUD (MRSA)', 'AXILLE (MRSA)', 'USPESIFISERT(MRSA)', 'LGV (LYMFOGRAN. VENEREUM)', 'BEINVEV', 'RECTUMSEKRET (PREC)', 'ØYEKAMMERVÆSKE', 'ELUAT', 'VAGINALPENSEL/URIN']\n"
     ]
    }
   ],
   "source": [
    "print(nsml.matr_desc.unique().tolist())"
   ]
  },
  {
   "cell_type": "code",
   "execution_count": 66,
   "id": "5f23e892-80b7-42c0-b0cb-97e0c493e977",
   "metadata": {
    "collapsed": true,
    "jupyter": {
     "outputs_hidden": true
    },
    "tags": []
   },
   "outputs": [
    {
     "data": {
      "text/plain": [
       "reqs_year                  int64\n",
       "reqs_no                    int64\n",
       "ppid                       int64\n",
       "anre_status               object\n",
       "date_req          datetime64[ns]\n",
       "matr_desc                 object\n",
       "anly_result               object\n",
       "micr_code                 object\n",
       "micr_prt_name             object\n",
       "ande_code                 object\n",
       "ande_name                 object\n",
       "anre_no                    int64\n",
       "stagelineageid             int64\n",
       "dtype: object"
      ]
     },
     "execution_count": 66,
     "metadata": {},
     "output_type": "execute_result"
    }
   ],
   "source": [
    "nsml.dtypes"
   ]
  },
  {
   "cell_type": "code",
   "execution_count": 67,
   "id": "91f6e279-af43-488c-8aa6-522fd296e81a",
   "metadata": {
    "collapsed": true,
    "jupyter": {
     "outputs_hidden": true
    },
    "tags": []
   },
   "outputs": [
    {
     "name": "stdout",
     "output_type": "stream",
     "text": [
      "Number of positives marked: 0\n"
     ]
    }
   ],
   "source": [
    "nsml['micr_prt_name'] = nsml['micr_prt_name'].astype(str).str.upper().str.strip()\n",
    "\n",
    "nsml.replace(r'^\\s*$', np.nan, regex=True)\n",
    "\n",
    "nsml['result'] = 'negative'\n",
    "\n",
    "# Assuming 'NaN' or 'None' might be placeholders for null values after conversion to strings\n",
    "non_positive_indicators = ['', 'NAN', 'NONE']\n",
    "\n",
    "# Mark as 'positive' if 'micr_prt_name' contains a name that is not one of the non-positive indicators\n",
    "nsml.loc[~nsml['micr_prt_name'].isin(non_positive_indicators), 'result'] = 'positive'\n",
    "\n",
    "# Check how many are marked as positive\n",
    "positive_count = nsml[nsml['result'] == 'positive'].shape[0]\n",
    "print(f\"Number of positives marked: {positive_count}\")\n",
    "\n",
    "# Mark entries as 'contaminant' if micr_prt_name is in contaminants list.\n",
    "nsml.loc[nsml['micr_prt_name'].isin(contaminants), 'result'] = 'contaminant'"
   ]
  },
  {
   "cell_type": "code",
   "execution_count": 79,
   "id": "c7d5f588-09af-452e-83a6-b654463caa73",
   "metadata": {},
   "outputs": [],
   "source": [
    "# Function to determine the aggregated result for each group.\n",
    "def determine_aggregated_result(group):\n",
    "    if 'positive' in group['result'].values and 'contaminant' in group['result'].values:\n",
    "        return 'positive, contaminant'\n",
    "    elif 'positive' in group['result'].values:\n",
    "        return 'positive'\n",
    "    elif 'contaminant' in group['result'].values:\n",
    "        return 'contaminant'\n",
    "    else:\n",
    "        return 'negative'\n",
    "\n",
    "# Now, aggregate by ppid and date_req and apply the function to determine the aggregated result.\n",
    "aggregated_nsml = nsml.groupby(['ppid', 'date_req', 'matr_desc']).apply(determine_aggregated_result).reset_index(name='aggregated_result')\n",
    "\n",
    "# Merge aggregated results back to the original dataframe\n",
    "nsml2 = nsml.merge(aggregated_nsml, how='left', on=['ppid', 'date_req', 'matr_desc'])"
   ]
  },
  {
   "cell_type": "code",
   "execution_count": null,
   "id": "96061332-1223-4c01-a21b-912603d701c4",
   "metadata": {},
   "outputs": [],
   "source": [
    "nsml2"
   ]
  },
  {
   "cell_type": "code",
   "execution_count": 82,
   "id": "1a01872b-1573-493a-93c5-71337cfd1eea",
   "metadata": {},
   "outputs": [
    {
     "data": {
      "text/plain": [
       "Index(['reqs_year', 'reqs_no', 'ppid', 'anre_status', 'date_req', 'matr_desc',\n",
       "       'anly_result', 'micr_code', 'micr_prt_name', 'ande_code', 'ande_name',\n",
       "       'anre_no', 'stagelineageid', 'result', 'aggregated_result'],\n",
       "      dtype='object')"
      ]
     },
     "execution_count": 82,
     "metadata": {},
     "output_type": "execute_result"
    }
   ],
   "source": [
    "nsml2.columns"
   ]
  },
  {
   "cell_type": "code",
   "execution_count": 95,
   "id": "29ed8649-c66c-4c13-b331-958ca04deaf6",
   "metadata": {},
   "outputs": [],
   "source": [
    "nsml_eventlog = nsml2[['ppid', 'date_req', 'matr_desc', 'aggregated_result']].copy()"
   ]
  },
  {
   "cell_type": "code",
   "execution_count": 77,
   "id": "c5ab09a7-c625-4eb0-a654-9b7bcf2e5e38",
   "metadata": {},
   "outputs": [
    {
     "data": {
      "text/plain": [
       "negative       1133193\n",
       "positive        678990\n",
       "contaminant     163991\n",
       "Name: result, dtype: int64"
      ]
     },
     "execution_count": 77,
     "metadata": {},
     "output_type": "execute_result"
    }
   ],
   "source": [
    "nsml2.aggregated_result.value_counts()"
   ]
  },
  {
   "cell_type": "code",
   "execution_count": 81,
   "id": "6a91ba33-8a94-43ea-b1a4-ec7bbb55c64a",
   "metadata": {},
   "outputs": [
    {
     "data": {
      "text/plain": [
       "negative                 868197\n",
       "positive                 839875\n",
       "contaminant              155467\n",
       "positive, contaminant    112635\n",
       "Name: aggregated_result, dtype: int64"
      ]
     },
     "execution_count": 81,
     "metadata": {},
     "output_type": "execute_result"
    }
   ],
   "source": [
    "nsml2.aggregated_result.value_counts()"
   ]
  },
  {
   "cell_type": "code",
   "execution_count": 96,
   "id": "0750cd2a-0859-41b4-b2ac-1ba1c2af0797",
   "metadata": {},
   "outputs": [],
   "source": [
    "nsml_eventlog = nsml_eventlog.drop_duplicates()"
   ]
  },
  {
   "cell_type": "code",
   "execution_count": 97,
   "id": "f5036223-2c9f-4c40-9c04-3109c0ecea6a",
   "metadata": {},
   "outputs": [
    {
     "data": {
      "text/plain": [
       "negative                 255926\n",
       "positive                  97864\n",
       "contaminant               16788\n",
       "positive, contaminant      7691\n",
       "Name: aggregated_result, dtype: int64"
      ]
     },
     "execution_count": 97,
     "metadata": {},
     "output_type": "execute_result"
    }
   ],
   "source": [
    "nsml_eventlog.aggregated_result.value_counts()"
   ]
  },
  {
   "cell_type": "code",
   "execution_count": 98,
   "id": "7e7dceb2-898f-49a7-a32b-1c769a93a1d8",
   "metadata": {},
   "outputs": [],
   "source": [
    "nsml_eventlog.sort_values(by=['ppid', 'date_req'], inplace=True)"
   ]
  },
  {
   "cell_type": "code",
   "execution_count": null,
   "id": "1963940e-0e44-45ab-89da-acde5b54686e",
   "metadata": {},
   "outputs": [],
   "source": [
    "nsml_eventlog"
   ]
  },
  {
   "cell_type": "code",
   "execution_count": 101,
   "id": "d4634f0f-4359-4a6f-8b9b-9157946fa6f2",
   "metadata": {},
   "outputs": [
    {
     "data": {
      "text/plain": [
       "220"
      ]
     },
     "execution_count": 101,
     "metadata": {},
     "output_type": "execute_result"
    }
   ],
   "source": [
    "print(nsml_eventlog.matr_desc.unique().tolist())"
   ]
  },
  {
   "cell_type": "code",
   "execution_count": 180,
   "id": "efb0f01c-5a42-4243-8268-38b682a95685",
   "metadata": {},
   "outputs": [],
   "source": [
    "# Create a filter for the required test names\n",
    "microbiology_names = ['BLODKULTUR', 'NASOPHARYNXASPIRAT (LUFT)', 'VEV/BIOPSI', 'PUSS/SEKRET', 'URIN', 'NASOPHARYNXSEKRET (NAS)', 'EKSPEKTORAT', 'SÅRSEKRET', 'HALSSEKRET (VHA)', 'DRENSPISS', 'INDUSERT SPUTUM', 'FÆCES', 'UROGENITALSEKRET', 'TUNGESEKRET', 'SPINALVÆSKE', 'VAGINALSEKRET', 'HUD', 'CERVIX-/VAGINALSEKRET', 'ØYESEKRET - HØYRE ØYE', 'EDTA/UTSTRYK MALARIA', 'OPERASJONS-SÅR', 'HALSSEKRET', 'FÆCES (FÆFP)', 'MUNNSEKRET', 'CERVIXSEKRET', 'ASCITES', 'NESESEKRET', 'ANUSSEKRET', 'PERINEUM', 'EDTA-BLOD', 'NASOPHARYNXSEKRET', 'NASOPHARYNXASPIRAT (NAI)', 'BIOPSIMATERIALE', 'KATETERSPISS', 'SERUM', 'PERINEUM (MRSA)', 'ABSCESS', 'BRONKIALSKYLLEVÆSKE', 'DRENSVÆSKE', 'MORSMELK', 'LEDDVÆSKE', 'EKSPEKTORAT (VEK)', 'URIN (CLUM)', 'HALSSEKRET (MRSA)', 'URIN (CLUR)', 'URIN (CHLAMYDIA)', 'PLEURAVÆSKE', 'NESESEKRET (MRSA)', 'SEKRET (SEK)', 'MUNNHULE', 'ASPIRAT', 'OPPKAST', 'MRSA REFERANSESTAMME (MRS', 'TRACHEALASPIRAT', 'CERVIX (CERM)', 'VAGINA', 'VESIKKELINNHOLD (VESB)', 'VESIKKELINNHOLD', 'CORNEAAVSKRAP', 'ØRESEKRET, VENSTRE ØRE', 'FÆCES (FÆ)', 'CYSTEINNHOLD', 'FÆCES (VFÆN)', 'HÅR', 'SPISS AV CVK', 'ANNET', 'CH-UROGENITALSEKRET (UROM', 'NEGL', 'ØRESEKRET', 'CERVIX (CERC)', 'ØYESEKRET - VENSTRE ØYE', 'FÆCES (FÆCD)', 'ØYESEKRET (VØY)', 'ØRESEKRET, HØYRE ØRE', 'BLODKULTUR (BLS1)', 'EDTA-BLOD (BEDT)', 'SÅRSEKRET (VSÅ)', 'USPESIFISERT (USP)', 'URIN BLÆREPUNKSJON', 'CH-UROGENITALSEKRET', 'AMPUTASJONSSTUMP', 'VAGINA (VAGM)', 'USPESIFISERT (VUS)', 'ØYESEKRET - VENSTRE ØYE (', 'TRANSPLANTATMEDIUM', 'ØYESEKRET', 'URETHRA (UREM)', 'UROGENITALSEKRET (URO)', 'GENITALSEKRET (VGF)', 'SPIRAL', 'FISTEL', 'FÆCES (FÆP)', 'PD-DIALYSAT', 'VEV/BIOPSI (BIO)', 'SÅRSEKRET (MRSA)', 'PERICARDVÆSKE', 'URETHRASEKRET', 'HUDAVSKRAP (VHU)', 'BAKTERIESTAMME', 'GALLEVEISPRØVE', 'ANUSSEKRET (ANUP)', 'BLOD - ISOLATOR (TBLI)', 'BIOPSIMATERIALE (VBI)', 'LEDDVÆSKE - ANRIKET', 'PLEURAV. PÅ BL.K.FLASKE', 'MELK', 'BEINMARG (BEM)', 'URIN (TUR)', 'PLACENTA', 'UTSTRYK', 'NESESEKRET (DIA)', 'TRANSTRACHEALT ASPIRAT (T', 'NONHUMANT MATERIALE', 'HUDAVSKRAP', 'FÆCES (FÆCB)', 'BEIN FRA BEINBANK', 'VAGINALSEKRET (VVG)', 'ØYESEKRET - HØYRE ØYE (VØ', 'ABSCESS (VAB)', 'LARYNXSEKRET', 'SPINALVÆSKE (VSP)', 'FÆCES (FÆD)', 'NASOFARYNKS- OG HALSPRØVE', 'FÆCES (VFÆ)', 'NASOPHARYNXASPIRAT (LUFA)', 'VULVA (VVU)', 'DIALYSAT PÅ BL.K.FLASKE', 'DIALYSEVÆSKE', 'FÆCES (VFÆV)', 'SOPPKULTUR', 'FÆCES (FÆCP)', 'URETHRA', 'FÆCES (VFÆB)', 'BRYSTMELK', 'INNSTIKKSTED', 'HALSSEKRET (HAS)', 'ØYESEKRET (ØYC)', 'TUNGESEKRET (TUNS)', 'BEIN TIL BEINBANK', 'URIN/TRANSPORTAGAR (URC)', 'BURSAVÆSKE', 'AXILLE', 'ACITES PÅ BL.K.FLASKE', 'CERVIXSEKRET (VCE)', 'ABSCESS (TBA)', 'EDTA-BLOD (EDTA)', 'BLOD - ISOLATOR', 'ANNET (VAN)', 'BRONKIALSKYLLEVÆSKE (TBS)', 'SÅRSEKRET (SÅS)', 'BIOPSI', 'PERITONEALVÆSKE', 'EJAKULAT (EJA)', 'BRONKIALSKYLLEVÆSKE (VBS)', 'ANNET (ANS)', 'BIOPSIMATERIALE (TBI)', 'BIHULESEKRET (BIH)', 'NAVLESEKRET', 'URIN (VURI)', 'TUNGESEKRET (VTUN)', 'MUNNSEKRET (VMU)', 'ØRESEKRET (ØRS)', 'PLASMA', 'VEV (TVV)', 'TUBESEKRET (VTU)', 'EKSPEKTORAT (EXS)', 'TÅREVÆSKE', 'PUSS/SEKRET (VPUS)', 'PUSS/SEKRET (TPU)', 'EKSPEKTORAT (TEX)', 'BEINMARG', 'AUTOPSIMATRIALE', 'LYSAT', 'URIN (URS)', 'ØYESEKRET (ØYM)', 'HALSSEKRET (HALC)', 'LYSKE (LYS)', 'NASOPHARYNXSEKRET (VNAR)', 'BLODKULTUR (BLS)', 'SERUM (SSE)', 'ANUSSEKRET (VANU)', 'ANUSSEKRET (ANUS)', 'PARAFININNSTØPT VEV', 'ANUSSEKRET (ANUM)', 'DRENSVÆSKE PÅ BL.K.FLASKE', 'PUSS (PSD)', 'ASPIRAT PÅ BL.K.FLASKE', 'FOSTERVANN', 'CERVIX-/URETHRASEKRET (CU', 'ASPIRAT (VAS)', 'HALSSEKRET (VHAR)', 'URETHRASEKRET (VUR)', 'HALSSEKRET (HALG)', 'BRONKIALBØRSTE (VBR)', 'INDUSERT SPUTUM (TSPU)', 'PLEURAVÆSKE (VPLE)', 'PLEURAVÆSKE (TPL)', 'FOSTERVANN (VFO)', 'VAGINALSEKRET (CHP)', 'PACEMAKERTRÅD', 'NEGL (NEGL)', 'HALSSEKRET (HALM)', 'SPUTUM (VSPU)', 'SKYLLEVÆSKE (VSK)', 'URIN (CHU)', 'PLASMA (PLAS)', 'PERITONSILLÆRABSESS', 'NAVLESTRENG - BIT', 'UTERUSSEKRET (PUTE)', 'AUTOPSIMATRIALE (VAU)', 'PERICARDVÆSKE (VPEC)', 'HUD (MRSA)', 'AXILLE (MRSA)', 'USPESIFISERT(MRSA)', 'LGV (LYMFOGRAN. VENEREUM)', 'BEINVEV', 'RECTUMSEKRET (PREC)', 'ØYEKAMMERVÆSKE', 'ELUAT', 'VAGINALPENSEL/URIN']\n",
    "# Filter the dataframe\n",
    "filtered_nsml = nsml_eventlog[nsml_eventlog['matr_desc'].isin(microbiology_names)]\n",
    "\n",
    "# Pivot the table to get the desired shape\n",
    "pivot_nsml = filtered_nsml.pivot_table(\n",
    "    index=['ppid', 'date_req'], \n",
    "    columns='matr_desc', \n",
    "    values='aggregated_result',\n",
    "    aggfunc='first'  # You might want to use a different aggregation function if there are multiple values per group\n",
    ")\n",
    "\n",
    "# Reset the index to make 'ppid' and 'date_req' into columns\n",
    "pivot_nsml.reset_index(inplace=True)\n",
    "\n",
    "# Optionally, rename the columns to remove the multi-level index\n",
    "pivot_nsml.columns.name = None\n",
    "pivot_nsml.columns = [col if isinstance(col, str) else col[1] for col in pivot_nsml.columns.values]\n"
   ]
  },
  {
   "cell_type": "code",
   "execution_count": 122,
   "id": "471c5033-d2bb-45bf-8a26-d09261b6cdac",
   "metadata": {
    "tags": []
   },
   "outputs": [
    {
     "data": {
      "text/plain": [
       "negative                 69846\n",
       "positive                  5202\n",
       "contaminant               2415\n",
       "positive, contaminant      387\n",
       "Name: BLODKULTUR, dtype: int64"
      ]
     },
     "execution_count": 122,
     "metadata": {},
     "output_type": "execute_result"
    }
   ],
   "source": [
    "pivot_nsml.BLODKULTUR.value_counts()"
   ]
  },
  {
   "cell_type": "code",
   "execution_count": 154,
   "id": "ae1bc42a-8426-4d79-b557-4962b4c97654",
   "metadata": {},
   "outputs": [
    {
     "data": {
      "text/plain": [
       "negative                 215\n",
       "positive                 198\n",
       "contaminant              110\n",
       "positive, contaminant     62\n",
       "Name: ØRESEKRET, dtype: int64"
      ]
     },
     "execution_count": 154,
     "metadata": {},
     "output_type": "execute_result"
    }
   ],
   "source": [
    "pivot_nsml.ØRESEKRET.value_counts()"
   ]
  },
  {
   "cell_type": "code",
   "execution_count": 107,
   "id": "e3020e91-784c-45cf-a99a-fca64c1a1f3d",
   "metadata": {},
   "outputs": [
    {
     "data": {
      "text/plain": [
       "(287735, 222)"
      ]
     },
     "execution_count": 107,
     "metadata": {},
     "output_type": "execute_result"
    }
   ],
   "source": [
    "pivot_nsml.shape"
   ]
  },
  {
   "cell_type": "code",
   "execution_count": 108,
   "id": "5a187312-c0a1-4a59-b7cd-9220507e4c0d",
   "metadata": {},
   "outputs": [
    {
     "data": {
      "text/plain": [
       "(846948, 34)"
      ]
     },
     "execution_count": 108,
     "metadata": {},
     "output_type": "execute_result"
    }
   ],
   "source": [
    "pivot_df.shape"
   ]
  },
  {
   "cell_type": "code",
   "execution_count": 127,
   "id": "a3e7709f-e6bb-4b58-b51e-d906e1857299",
   "metadata": {},
   "outputs": [
    {
     "data": {
      "text/plain": [
       "index                  int64\n",
       "ppid                   int64\n",
       "inndatotid    datetime64[ns]\n",
       "utdatotid     datetime64[ns]\n",
       "episodeid            float64\n",
       "                   ...      \n",
       "ICD_V                  int64\n",
       "ICD_W                  int64\n",
       "ICD_X                  int64\n",
       "ICD_Y                  int64\n",
       "ICD_Z                  int64\n",
       "Length: 91, dtype: object"
      ]
     },
     "execution_count": 127,
     "metadata": {},
     "output_type": "execute_result"
    }
   ],
   "source": [
    "nimess.dtypes"
   ]
  },
  {
   "cell_type": "code",
   "execution_count": 128,
   "id": "5b088552-c44f-4775-be73-879b5130398d",
   "metadata": {},
   "outputs": [
    {
     "data": {
      "text/plain": [
       "icuid                           int64\n",
       "ppid                            int64\n",
       "aninoppholdstart       datetime64[ns]\n",
       "aninoppholdslutt       datetime64[ns]\n",
       "ICU_LOS                       float64\n",
       "ICU_admission_count             int64\n",
       "episodeid                     float64\n",
       "dtype: object"
      ]
     },
     "execution_count": 128,
     "metadata": {},
     "output_type": "execute_result"
    }
   ],
   "source": [
    "anino2.dtypes"
   ]
  },
  {
   "cell_type": "code",
   "execution_count": 118,
   "id": "1bcf21e3-890b-4bab-a889-44847fb0a02d",
   "metadata": {},
   "outputs": [],
   "source": [
    "pivot_trfl = pivot_df.copy()"
   ]
  },
  {
   "cell_type": "code",
   "execution_count": 124,
   "id": "6bf54517-6ad3-4458-b69b-540570e3a090",
   "metadata": {},
   "outputs": [],
   "source": [
    "pivot_nsml = pivot_nsml.dropna(axis=1, how='all')"
   ]
  },
  {
   "cell_type": "code",
   "execution_count": 117,
   "id": "77506f13-8a8d-4daa-b21b-6dfe5dbb5bd2",
   "metadata": {},
   "outputs": [
    {
     "data": {
      "text/plain": [
       "Index(['icuid', 'ppid', 'aninoppholdstart', 'aninoppholdslutt', 'ICU_LOS',\n",
       "       'ICU_admission_count', 'episodeid'],\n",
       "      dtype='object')"
      ]
     },
     "execution_count": 117,
     "metadata": {},
     "output_type": "execute_result"
    }
   ],
   "source": [
    "anino2.columns"
   ]
  },
  {
   "cell_type": "code",
   "execution_count": 139,
   "id": "e4162e9b-a68e-4cea-8ee0-26d7d57d7e30",
   "metadata": {},
   "outputs": [],
   "source": [
    "anino_eventlog = anino2[['ppid', 'aninoppholdstart', 'ICU_LOS']].copy()"
   ]
  },
  {
   "cell_type": "code",
   "execution_count": 140,
   "id": "22dfc410-2475-44d6-b7bf-a6868f1d6c2b",
   "metadata": {},
   "outputs": [],
   "source": [
    "anino_eventlog['date_column'] = anino_eventlog['aninoppholdstart'].dt.date\n",
    "anino_eventlog = anino_eventlog.drop('aninoppholdstart', axis=1)"
   ]
  },
  {
   "cell_type": "code",
   "execution_count": 141,
   "id": "77d7c612-9e98-4a32-92ed-70fe9ab18da7",
   "metadata": {
    "collapsed": true,
    "jupyter": {
     "outputs_hidden": true
    },
    "tags": []
   },
   "outputs": [
    {
     "data": {
      "text/html": [
       "<div>\n",
       "<style scoped>\n",
       "    .dataframe tbody tr th:only-of-type {\n",
       "        vertical-align: middle;\n",
       "    }\n",
       "\n",
       "    .dataframe tbody tr th {\n",
       "        vertical-align: top;\n",
       "    }\n",
       "\n",
       "    .dataframe thead th {\n",
       "        text-align: right;\n",
       "    }\n",
       "</style>\n",
       "<table border=\"1\" class=\"dataframe\">\n",
       "  <thead>\n",
       "    <tr style=\"text-align: right;\">\n",
       "      <th></th>\n",
       "      <th>ppid</th>\n",
       "      <th>ICU_LOS</th>\n",
       "      <th>date_column</th>\n",
       "    </tr>\n",
       "  </thead>\n",
       "  <tbody>\n",
       "    <tr>\n",
       "      <th>0</th>\n",
       "      <td>1</td>\n",
       "      <td>0.875000</td>\n",
       "      <td>2013-10-09</td>\n",
       "    </tr>\n",
       "    <tr>\n",
       "      <th>1</th>\n",
       "      <td>1</td>\n",
       "      <td>0.416667</td>\n",
       "      <td>2014-12-30</td>\n",
       "    </tr>\n",
       "    <tr>\n",
       "      <th>2</th>\n",
       "      <td>2</td>\n",
       "      <td>0.125000</td>\n",
       "      <td>2018-11-22</td>\n",
       "    </tr>\n",
       "    <tr>\n",
       "      <th>3</th>\n",
       "      <td>2</td>\n",
       "      <td>0.083333</td>\n",
       "      <td>2019-11-18</td>\n",
       "    </tr>\n",
       "    <tr>\n",
       "      <th>4</th>\n",
       "      <td>3</td>\n",
       "      <td>0.416667</td>\n",
       "      <td>2016-01-07</td>\n",
       "    </tr>\n",
       "    <tr>\n",
       "      <th>...</th>\n",
       "      <td>...</td>\n",
       "      <td>...</td>\n",
       "      <td>...</td>\n",
       "    </tr>\n",
       "    <tr>\n",
       "      <th>71214</th>\n",
       "      <td>36343</td>\n",
       "      <td>2.291667</td>\n",
       "      <td>2019-07-04</td>\n",
       "    </tr>\n",
       "    <tr>\n",
       "      <th>71215</th>\n",
       "      <td>36351</td>\n",
       "      <td>0.250000</td>\n",
       "      <td>2013-07-18</td>\n",
       "    </tr>\n",
       "    <tr>\n",
       "      <th>71216</th>\n",
       "      <td>36351</td>\n",
       "      <td>1.041667</td>\n",
       "      <td>2015-10-01</td>\n",
       "    </tr>\n",
       "    <tr>\n",
       "      <th>71217</th>\n",
       "      <td>36352</td>\n",
       "      <td>1.291667</td>\n",
       "      <td>2014-12-09</td>\n",
       "    </tr>\n",
       "    <tr>\n",
       "      <th>71218</th>\n",
       "      <td>36353</td>\n",
       "      <td>1.125000</td>\n",
       "      <td>2014-11-03</td>\n",
       "    </tr>\n",
       "  </tbody>\n",
       "</table>\n",
       "<p>71219 rows × 3 columns</p>\n",
       "</div>"
      ],
      "text/plain": [
       "        ppid   ICU_LOS date_column\n",
       "0          1  0.875000  2013-10-09\n",
       "1          1  0.416667  2014-12-30\n",
       "2          2  0.125000  2018-11-22\n",
       "3          2  0.083333  2019-11-18\n",
       "4          3  0.416667  2016-01-07\n",
       "...      ...       ...         ...\n",
       "71214  36343  2.291667  2019-07-04\n",
       "71215  36351  0.250000  2013-07-18\n",
       "71216  36351  1.041667  2015-10-01\n",
       "71217  36352  1.291667  2014-12-09\n",
       "71218  36353  1.125000  2014-11-03\n",
       "\n",
       "[71219 rows x 3 columns]"
      ]
     },
     "execution_count": 141,
     "metadata": {},
     "output_type": "execute_result"
    }
   ],
   "source": [
    "anino_eventlog"
   ]
  },
  {
   "cell_type": "code",
   "execution_count": 129,
   "id": "986936a7-82a5-4ab3-9806-1795705ff1fa",
   "metadata": {},
   "outputs": [
    {
     "data": {
      "text/plain": [
       "Index(['ppid', 'date_req', 'ABSCESS', 'ABSCESS (TBA)', 'ABSCESS (VAB)',\n",
       "       'ACITES PÅ BL.K.FLASKE', 'AMPUTASJONSSTUMP', 'ANNET', 'ANNET (ANS)',\n",
       "       'ANNET (VAN)',\n",
       "       ...\n",
       "       'ØRESEKRET, VENSTRE ØRE', 'ØYEKAMMERVÆSKE', 'ØYESEKRET',\n",
       "       'ØYESEKRET (VØY)', 'ØYESEKRET (ØYC)', 'ØYESEKRET (ØYM)',\n",
       "       'ØYESEKRET - HØYRE ØYE', 'ØYESEKRET - HØYRE ØYE (VØ',\n",
       "       'ØYESEKRET - VENSTRE ØYE', 'ØYESEKRET - VENSTRE ØYE ('],\n",
       "      dtype='object', length=222)"
      ]
     },
     "execution_count": 129,
     "metadata": {},
     "output_type": "execute_result"
    }
   ],
   "source": [
    "pivot_nsml.columns"
   ]
  },
  {
   "cell_type": "code",
   "execution_count": 135,
   "id": "25d181de-baab-4994-a529-0d48ae91611c",
   "metadata": {},
   "outputs": [],
   "source": [
    "nimess_eventlog = nimess[['ppid', 'inndatotid', 'urgency_code',\n",
    "       'care_level_code', 'LOS', 'procedure_A', 'procedure_B', 'procedure_C',\n",
    "       'procedure_D', 'procedure_E', 'procedure_F', 'procedure_G',\n",
    "       'procedure_H', 'procedure_I', 'procedure_J', 'procedure_K',\n",
    "       'procedure_L', 'procedure_M', 'procedure_N', 'procedure_O',\n",
    "       'procedure_P', 'procedure_Q', 'procedure_R', 'procedure_S',\n",
    "       'procedure_T', 'procedure_U', 'procedure_V', 'procedure_W',\n",
    "       'procedure_X', 'procedure_Y', 'procedure_Z', 'procedure_0',\n",
    "       'procedure_1', 'procedure_3', 'procedure_4', 'procedure_6',\n",
    "       'procedure_5', 'procedure_2', 'procedure_7', 'procedure_8',\n",
    "       'procedure_9', 'ICD_0', 'ICD_1', 'ICD_2', 'ICD_3', 'ICD_4', 'ICD_5',\n",
    "       'ICD_6', 'ICD_7', 'ICD_8', 'ICD_9', 'ICD_A', 'ICD_B', 'ICD_C', 'ICD_D',\n",
    "       'ICD_E', 'ICD_F', 'ICD_G', 'ICD_H', 'ICD_I', 'ICD_J', 'ICD_K', 'ICD_L',\n",
    "       'ICD_M', 'ICD_N', 'ICD_O', 'ICD_P', 'ICD_Q', 'ICD_R', 'ICD_S', 'ICD_T',\n",
    "       'ICD_U', 'ICD_V', 'ICD_W', 'ICD_X', 'ICD_Y', 'ICD_Z']].copy()"
   ]
  },
  {
   "cell_type": "code",
   "execution_count": null,
   "id": "f0417607-3049-4829-803b-c5b82293b895",
   "metadata": {
    "collapsed": true,
    "jupyter": {
     "outputs_hidden": true
    },
    "tags": []
   },
   "outputs": [],
   "source": [
    "nimess_eventlog['date_column'] = nimess_eventlog['inndatotid'].dt.date\n",
    "nimess_eventlog"
   ]
  },
  {
   "cell_type": "code",
   "execution_count": 138,
   "id": "fc0cd1dc-3065-4841-8988-4a7084fe3b3c",
   "metadata": {},
   "outputs": [],
   "source": [
    "nimess_eventlog = nimess_eventlog.drop('inndatotid', axis=1)"
   ]
  },
  {
   "cell_type": "code",
   "execution_count": 146,
   "id": "eb399b88-4c87-468d-b7fa-1b9c1ed7d519",
   "metadata": {
    "tags": []
   },
   "outputs": [],
   "source": [
    "nimess_eventlog['date_column'] = pd.to_datetime(nimess_eventlog['date_column'])\n",
    "anino_eventlog['date_column'] = pd.to_datetime(anino_eventlog['date_column'])\n"
   ]
  },
  {
   "cell_type": "code",
   "execution_count": 143,
   "id": "09c6dc01-fc14-467b-a87b-7e10312b3453",
   "metadata": {},
   "outputs": [],
   "source": [
    "pivot_trfl['date_column'] = pivot_trfl['date_req']\n",
    "pivot_nsml['date_column'] = pivot_nsml['date_req']\n",
    "pivot_trfl = pivot_trfl.drop('date_req', axis=1)\n",
    "pivot_nsml = pivot_nsml.drop('date_req', axis=1)"
   ]
  },
  {
   "cell_type": "code",
   "execution_count": 149,
   "id": "64444dd0-475d-44f7-9b32-aea76e414e18",
   "metadata": {},
   "outputs": [
    {
     "data": {
      "text/plain": [
       "ppid                                  int64\n",
       "ABSCESS                              object\n",
       "ABSCESS (TBA)                        object\n",
       "ABSCESS (VAB)                        object\n",
       "ACITES PÅ BL.K.FLASKE                object\n",
       "                                  ...      \n",
       "ØYESEKRET - HØYRE ØYE                object\n",
       "ØYESEKRET - HØYRE ØYE (VØ            object\n",
       "ØYESEKRET - VENSTRE ØYE              object\n",
       "ØYESEKRET - VENSTRE ØYE (            object\n",
       "date_column                  datetime64[ns]\n",
       "Length: 222, dtype: object"
      ]
     },
     "execution_count": 149,
     "metadata": {},
     "output_type": "execute_result"
    }
   ],
   "source": [
    "pivot_nsml.dtypes"
   ]
  },
  {
   "cell_type": "code",
   "execution_count": 197,
   "id": "04b42da2-d33c-4fea-8653-35b6fc7da2e8",
   "metadata": {
    "tags": []
   },
   "outputs": [
    {
     "data": {
      "text/plain": [
       "Index(['ppid', 'BILIRUBIN KONJUGERT', 'BILIRUBIN TOTAL',\n",
       "       'BILIRUBIN UKONJUGERT', 'CRP', 'CRP-HØYSENSITIV', 'KREATININ', 'LAKTAT',\n",
       "       'LAKTAT BLODGASS', 'LAKTAT BLODGASS VENØST', 'LAKTAT PNA',\n",
       "       'LEUKOCYTTER', 'PH', 'PH PNA', 'PO2', 'PO2 PNA', 'TROMBOCYTTER',\n",
       "       'overall_average_BILIRUBIN KONJUGERT',\n",
       "       'overall_average_BILIRUBIN TOTAL',\n",
       "       'overall_average_BILIRUBIN UKONJUGERT', 'overall_average_CRP',\n",
       "       'overall_average_CRP-HØYSENSITIV', 'overall_average_KREATININ',\n",
       "       'overall_average_LAKTAT', 'overall_average_LAKTAT BLODGASS',\n",
       "       'overall_average_LAKTAT BLODGASS VENØST', 'overall_average_LAKTAT PNA',\n",
       "       'overall_average_LEUKOCYTTER', 'overall_average_PH',\n",
       "       'overall_average_PH PNA', 'overall_average_PO2',\n",
       "       'overall_average_PO2 PNA', 'overall_average_TROMBOCYTTER',\n",
       "       'date_column'],\n",
       "      dtype='object')"
      ]
     },
     "execution_count": 197,
     "metadata": {},
     "output_type": "execute_result"
    }
   ],
   "source": [
    "pivot_trfl.columns"
   ]
  },
  {
   "cell_type": "code",
   "execution_count": 196,
   "id": "4abdd034-4390-43fd-8dc6-6c54546728bd",
   "metadata": {},
   "outputs": [
    {
     "data": {
      "text/plain": [
       "ppid                        int64\n",
       "urgency_code                int64\n",
       "care_level_code             int64\n",
       "LOS                       float64\n",
       "procedure_A                 int64\n",
       "                        ...      \n",
       "ICD_W                       int64\n",
       "ICD_X                       int64\n",
       "ICD_Y                       int64\n",
       "ICD_Z                       int64\n",
       "date_column        datetime64[ns]\n",
       "Length: 77, dtype: object"
      ]
     },
     "execution_count": 196,
     "metadata": {},
     "output_type": "execute_result"
    }
   ],
   "source": [
    "nimess_eventlog.dtypes"
   ]
  },
  {
   "cell_type": "code",
   "execution_count": 152,
   "id": "c4479995-75a7-4005-b80b-7730ed93ccf0",
   "metadata": {},
   "outputs": [
    {
     "data": {
      "text/plain": [
       "ppid                    int64\n",
       "ICU_LOS               float64\n",
       "date_column    datetime64[ns]\n",
       "dtype: object"
      ]
     },
     "execution_count": 152,
     "metadata": {},
     "output_type": "execute_result"
    }
   ],
   "source": [
    "anino_eventlog.dtypes"
   ]
  },
  {
   "cell_type": "code",
   "execution_count": null,
   "id": "12c37d36-adfd-4bcf-9b6f-d14f936f9777",
   "metadata": {},
   "outputs": [],
   "source": [
    "pivot_trfl.to_csv('trfl_eventlog.csv')\n",
    "anino_eventlog.to_csv('anino_eventlog.csv')\n",
    "nimess_eventlog.to_csv('nimess_eventlog.csv')"
   ]
  },
  {
   "cell_type": "code",
   "execution_count": null,
   "id": "50a686c1-230a-4af5-823c-f78915829299",
   "metadata": {},
   "outputs": [],
   "source": [
    "pivot_nsml.to_csv('nsml_eventlog.csv')"
   ]
  },
  {
   "cell_type": "code",
   "execution_count": 191,
   "id": "e2e9eec4-8ce0-4fec-89ae-64718be8ae3a",
   "metadata": {},
   "outputs": [
    {
     "data": {
      "text/plain": [
       "35694"
      ]
     },
     "execution_count": 191,
     "metadata": {},
     "output_type": "execute_result"
    }
   ],
   "source": [
    "pivot_nsml.ppid.nunique()"
   ]
  },
  {
   "cell_type": "code",
   "execution_count": 181,
   "id": "560242a1-c40c-4281-979d-e581eba31d44",
   "metadata": {},
   "outputs": [],
   "source": [
    "groups = {\n",
    "    'annet': ['ABSCESS', 'ABSCESS (TBA)', 'ABSCESS (VAB)', 'ACITES PÅ BL.K.FLASKE', 'AMPUTASJONSSTUMP', 'ANNET', 'ANNET (ANS)', 'ANNET (VAN)'],\n",
    "    'anus': ['ANUSSEKRET', 'ANUSSEKRET (ANUM)', 'ANUSSEKRET (ANUP)', 'ANUSSEKRET (ANUS)', 'ANUSSEKRET (VANU)', 'ASCITES', 'ASPIRAT', 'ASPIRAT (VAS)', 'ASPIRAT PÅ BL.K.FLASKE', 'AUTOPSIMATRIALE', 'AUTOPSIMATRIALE (VAU)', 'AXILLE', 'AXILLE (MRSA)', 'BAKTERIESTAMME'],\n",
    "    'bein': ['BEIN FRA BEINBANK', 'BEIN TIL BEINBANK', 'BEINMARG', 'BEINMARG (BEM)', 'BEINVEV'],\n",
    "    'biopsi': ['BIHULESEKRET (BIH)', 'BIOPSI', 'BIOPSIMATERIALE', 'BIOPSIMATERIALE (TBI)', 'BIOPSIMATERIALE (VBI)'],\n",
    "    'blod': ['BLOD - ISOLATOR', 'BLOD - ISOLATOR (TBLI)', 'BLODKULTUR (BLS)', 'BLODKULTUR (BLS1)'],\n",
    "    'blood_culture_test': ['BLODKULTUR'],\n",
    "    'bronki': ['BRONKIALBØRSTE (VBR)', 'BRONKIALSKYLLEVÆSKE', 'BRONKIALSKYLLEVÆSKE (TBS)', 'BRONKIALSKYLLEVÆSKE (VBS)'],\n",
    "    'melk': ['BRYSTMELK', 'BURSAVÆSKE', 'CERVIX (CERC)', 'CERVIX (CERM)', 'CERVIX-/URETHRASEKRET (CU', 'CERVIX-/VAGINALSEKRET', 'CERVIXSEKRET', 'CERVIXSEKRET (VCE)', 'CH-UROGENITALSEKRET', 'CH-UROGENITALSEKRET (UROM', 'CORNEAAVSKRAP', 'CYSTEINNHOLD', 'DIALYSAT PÅ BL.K.FLASKE', 'DIALYSEVÆSKE', 'DRENSPISS', 'DRENSVÆSKE', 'DRENSVÆSKE PÅ BL.K.FLASKE'],\n",
    "    'edta': ['EDTA-BLOD', 'EDTA-BLOD (BEDT)', 'EDTA-BLOD (EDTA)', 'EDTA/UTSTRYK MALARIA', 'EJAKULAT (EJA)', 'EKSPEKTORAT', 'EKSPEKTORAT (EXS)', 'EKSPEKTORAT (TEX)', 'EKSPEKTORAT (VEK)', 'ELUAT', 'FISTEL', 'FOSTERVANN', 'FOSTERVANN (VFO)'],\n",
    "    'faeces': ['FÆCES', 'FÆCES (FÆ)', 'FÆCES (FÆCB)', 'FÆCES (FÆCD)', 'FÆCES (FÆCP)', 'FÆCES (FÆD)', 'FÆCES (FÆFP)', 'FÆCES (FÆP)', 'FÆCES (VFÆ)', 'FÆCES (VFÆB)', 'FÆCES (VFÆN)', 'FÆCES (VFÆV)', 'GALLEVEISPRØVE', 'GENITALSEKRET (VGF)'],\n",
    "    'hal': ['HALSSEKRET', 'HALSSEKRET (HALC)', 'HALSSEKRET (HALG)', 'HALSSEKRET (HALM)', 'HALSSEKRET (HAS)', 'HALSSEKRET (MRSA)', 'HALSSEKRET (VHA)', 'HALSSEKRET (VHAR)'],\n",
    "    'hud': ['HUD', 'HUD (MRSA)', 'HUDAVSKRAP', 'HUDAVSKRAP (VHU)', 'HÅR', 'INDUSERT SPUTUM', 'INDUSERT SPUTUM (TSPU)', 'INNSTIKKSTED', 'KATETERSPISS', 'LARYNXSEKRET'],\n",
    "    'led': ['LEDDVÆSKE', 'LEDDVÆSKE - ANRIKET', 'LGV (LYMFOGRAN. VENEREUM)', 'LYSAT', 'LYSKE (LYS)', 'MELK', 'MORSMELK'],\n",
    "    'naso': ['MRSA REFERANSESTAMME (MRS', 'MUNNHULE', 'MUNNSEKRET', 'MUNNSEKRET (VMU)', 'NASOFARYNKS- OG HALSPRØVE', 'NASOPHARYNXASPIRAT (LUFA)', 'NASOPHARYNXASPIRAT (LUFT)', 'NASOPHARYNXASPIRAT (NAI)', 'NASOPHARYNXSEKRET', 'NASOPHARYNXSEKRET (NAS)', 'NASOPHARYNXSEKRET (VNAR)', 'NAVLESEKRET', 'NAVLESTRENG - BIT', 'NEGL', 'NEGL (NEGL)', 'NESESEKRET', 'NESESEKRET (DIA)', 'NESESEKRET (MRSA)'],\n",
    "    'plasma': ['NONHUMANT MATERIALE', 'OPERASJONS-SÅR', 'OPPKAST', 'PACEMAKERTRÅD', 'PARAFININNSTØPT VEV', 'PD-DIALYSAT', 'PERICARDVÆSKE', 'PERICARDVÆSKE (VPEC)', 'PERINEUM', 'PERINEUM (MRSA)', 'PERITONEALVÆSKE', 'PERITONSILLÆRABSESS', 'PLACENTA', 'PLASMA', 'PLASMA (PLAS)', 'PLEURAV. PÅ BL.K.FLASKE', 'PLEURAVÆSKE', 'PLEURAVÆSKE (TPL)', 'PLEURAVÆSKE (VPLE)', 'PUSS (PSD)', 'PUSS/SEKRET', 'PUSS/SEKRET (TPU)', 'PUSS/SEKRET (VPUS)', 'RECTUMSEKRET (PREC)', 'SEKRET (SEK)', 'SERUM', 'SERUM (SSE)', 'SKYLLEVÆSKE (VSK)', 'SOPPKULTUR', 'SPINALVÆSKE', 'SPINALVÆSKE (VSP)', 'SPIRAL', 'SPISS AV CVK', 'SPUTUM (VSPU)', 'SÅRSEKRET', 'SÅRSEKRET (MRSA)', 'SÅRSEKRET (SÅS)', 'SÅRSEKRET (VSÅ)', 'TRACHEALASPIRAT', 'TRANSPLANTATMEDIUM', 'TRANSTRACHEALT ASPIRAT (T', 'TUBESEKRET (VTU)'],\n",
    "    'tunge': ['TUNGESEKRET', 'TUNGESEKRET (TUNS)', 'TUNGESEKRET (VTUN)', 'TÅREVÆSKE'],\n",
    "    'urin': ['URETHRA', 'URETHRA (UREM)', 'URETHRASEKRET', 'URETHRASEKRET (VUR)', 'URIN', 'URIN (CHLAMYDIA)', 'URIN (CHU)', 'URIN (CLUM)', 'URIN (CLUR)', 'URIN (TUR)', 'URIN (URS)', 'URIN (VURI)', 'URIN BLÆREPUNKSJON', 'URIN/TRANSPORTAGAR (URC)', 'UROGENITALSEKRET', 'UROGENITALSEKRET (URO)', 'USPESIFISERT (USP)', 'USPESIFISERT (VUS)', 'USPESIFISERT(MRSA)', 'UTERUSSEKRET (PUTE)', 'UTSTRYK', 'VAGINA', 'VAGINA (VAGM)', 'VAGINALPENSEL/URIN', 'VAGINALSEKRET', 'VAGINALSEKRET (CHP)', 'VAGINALSEKRET (VVG)', 'VESIKKELINNHOLD', 'VESIKKELINNHOLD (VESB)', 'VEV (TVV)', 'VEV/BIOPSI', 'VEV/BIOPSI (BIO)', 'VULVA (VVU)'],\n",
    "    'ear': ['ØRESEKRET', 'ØRESEKRET (ØRS)', 'ØRESEKRET, HØYRE ØRE', 'ØRESEKRET, VENSTRE ØRE'],\n",
    "    'eye': ['ØYEKAMMERVÆSKE', 'ØYESEKRET', 'ØYESEKRET (VØY)', 'ØYESEKRET (ØYC)', 'ØYESEKRET (ØYM)', 'ØYESEKRET - HØYRE ØYE', 'ØYESEKRET - HØYRE ØYE (VØ', 'ØYESEKRET - VENSTRE ØYE', 'ØYESEKRET - VENSTRE ØYE (' ]}\n"
   ]
  },
  {
   "cell_type": "code",
   "execution_count": 182,
   "id": "52eab713-8a18-4bbf-bb1a-78b8ad978602",
   "metadata": {},
   "outputs": [],
   "source": [
    "for group_name, columns in groups.items():\n",
    "    # Aggregate columns into a new column with all unique non-NaN values\n",
    "    pivot_nsml[group_name] = pivot_nsml[columns].apply(lambda x: ', '.join(x.dropna().unique()), axis=1)\n",
    "    \n",
    "    # Drop the original columns\n",
    "    pivot_nsml.drop(columns=columns, inplace=True)\n"
   ]
  },
  {
   "cell_type": "code",
   "execution_count": 183,
   "id": "48e178a2-c55b-4eeb-a56e-54130620f48e",
   "metadata": {},
   "outputs": [
    {
     "data": {
      "text/plain": [
       "Index(['index', 'ppid', 'inndatotid', 'utdatotid', 'episodeid', 'urgency_code',\n",
       "       'care_level_code', 'LOS', 'ICD', 'Procedure', 'time_to_last', 'ICU_LOS',\n",
       "       'disease_groups', 'total_los', 'prior_comorbidities', 'fødtår', 'kjønn',\n",
       "       'dødsdato', 'age', 'procedure_A', 'procedure_B', 'procedure_C',\n",
       "       'procedure_D', 'procedure_E', 'procedure_F', 'procedure_G',\n",
       "       'procedure_H', 'procedure_I', 'procedure_J', 'procedure_K',\n",
       "       'procedure_L', 'procedure_M', 'procedure_N', 'procedure_O',\n",
       "       'procedure_P', 'procedure_Q', 'procedure_R', 'procedure_S',\n",
       "       'procedure_T', 'procedure_U', 'procedure_V', 'procedure_W',\n",
       "       'procedure_X', 'procedure_Y', 'procedure_Z', 'procedure_0',\n",
       "       'procedure_1', 'procedure_3', 'procedure_4', 'procedure_6',\n",
       "       'procedure_5', 'procedure_2', 'procedure_7', 'procedure_8',\n",
       "       'procedure_9', 'ICD_0', 'ICD_1', 'ICD_2', 'ICD_3', 'ICD_4', 'ICD_5',\n",
       "       'ICD_6', 'ICD_7', 'ICD_8', 'ICD_9', 'ICD_A', 'ICD_B', 'ICD_C', 'ICD_D',\n",
       "       'ICD_E', 'ICD_F', 'ICD_G', 'ICD_H', 'ICD_I', 'ICD_J', 'ICD_K', 'ICD_L',\n",
       "       'ICD_M', 'ICD_N', 'ICD_O', 'ICD_P', 'ICD_Q', 'ICD_R', 'ICD_S', 'ICD_T',\n",
       "       'ICD_U', 'ICD_V', 'ICD_W', 'ICD_X', 'ICD_Y', 'ICD_Z', 'date_column'],\n",
       "      dtype='object')"
      ]
     },
     "execution_count": 183,
     "metadata": {},
     "output_type": "execute_result"
    }
   ],
   "source": [
    "nimess.columns"
   ]
  },
  {
   "cell_type": "code",
   "execution_count": 185,
   "id": "f9ef25db-0812-407f-84e8-02a39a816691",
   "metadata": {},
   "outputs": [],
   "source": [
    "nimess.to_csv('nimess_statics.csv')"
   ]
  },
  {
   "cell_type": "code",
   "execution_count": 194,
   "id": "898a0512-28dd-4820-a58d-be7e6275fed9",
   "metadata": {},
   "outputs": [
    {
     "data": {
      "text/plain": [
       "Index(['ppid', 'date_req', 'annet', 'anus', 'bein', 'biopsi', 'blod',\n",
       "       'blood_culture_test', 'bronki', 'melk', 'edta', 'faeces', 'hal', 'hud',\n",
       "       'led', 'naso', 'plasma', 'tunge', 'urin', 'ear', 'eye'],\n",
       "      dtype='object')"
      ]
     },
     "execution_count": 194,
     "metadata": {},
     "output_type": "execute_result"
    }
   ],
   "source": [
    "pivot_nsml.columns"
   ]
  },
  {
   "cell_type": "code",
   "execution_count": 1,
   "id": "b6bb4dba-1add-4930-8526-8f433c60b771",
   "metadata": {},
   "outputs": [
    {
     "ename": "NameError",
     "evalue": "name 'anino' is not defined",
     "output_type": "error",
     "traceback": [
      "\u001b[0;31m---------------------------------------------------------------------------\u001b[0m",
      "\u001b[0;31mNameError\u001b[0m                                 Traceback (most recent call last)",
      "\u001b[0;32m/var/folders/jv/7pzn0fgj2tdb9blxxhhxqv000000gn/T/ipykernel_38993/1307204403.py\u001b[0m in \u001b[0;36m<module>\u001b[0;34m\u001b[0m\n\u001b[0;32m----> 1\u001b[0;31m \u001b[0manino\u001b[0m\u001b[0;34m.\u001b[0m\u001b[0mcolumns\u001b[0m\u001b[0;34m\u001b[0m\u001b[0;34m\u001b[0m\u001b[0m\n\u001b[0m",
      "\u001b[0;31mNameError\u001b[0m: name 'anino' is not defined"
     ]
    }
   ],
   "source": [
    "anino.columns"
   ]
  },
  {
   "cell_type": "code",
   "execution_count": null,
   "id": "eb3b53f9-3cdd-4712-8939-d92e0acd4beb",
   "metadata": {},
   "outputs": [],
   "source": []
  }
 ],
 "metadata": {
  "kernelspec": {
   "display_name": "Python 3 (ipykernel)",
   "language": "python",
   "name": "python3"
  },
  "language_info": {
   "codemirror_mode": {
    "name": "ipython",
    "version": 3
   },
   "file_extension": ".py",
   "mimetype": "text/x-python",
   "name": "python",
   "nbconvert_exporter": "python",
   "pygments_lexer": "ipython3",
   "version": "3.7.11"
  }
 },
 "nbformat": 4,
 "nbformat_minor": 5
}
